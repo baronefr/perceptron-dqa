{
 "cells": [
  {
   "cell_type": "code",
   "execution_count": 1,
   "metadata": {},
   "outputs": [],
   "source": [
    "import numpy as np\n",
    "from numpy import fft\n",
    "\n",
    "from qiskit.opflow import MatrixOp, TensoredOp, SummedOp\n",
    "\n",
    "#import qtealeaves.observables as obs\n",
    "#from qmatchatea.qk_utils import qiskit_get_statevect\n",
    "#from qmatchatea import QCConvergenceParameters, QCOperators, QCBackend\n",
    "#from qmatchatea.py_emulator import run_py_simulation\n",
    "\n",
    "from qiskit import QuantumCircuit, assemble, transpile, QuantumRegister, AncillaRegister, Aer\n",
    "from qiskit.circuit.library import QFT\n",
    "from qiskit.visualization import plot_histogram\n",
    "from qiskit.providers.aer import QasmSimulator\n",
    "from qiskit.quantum_info import Statevector"
   ]
  },
  {
   "cell_type": "code",
   "execution_count": 2,
   "metadata": {},
   "outputs": [],
   "source": [
    "from losstre import *\n",
    "from tqdm import trange"
   ]
  },
  {
   "cell_type": "markdown",
   "metadata": {},
   "source": [
    "## Hamming distance count"
   ]
  },
  {
   "cell_type": "code",
   "execution_count": 3,
   "metadata": {},
   "outputs": [],
   "source": [
    "def Hamming_count(num_qubits, num_ancillas, train_data, init_qc=None):\n",
    "    \"\"\" \n",
    "    Generate circuit with `num_qubits` qubits and `num_ancillas` ancillas used to count the\n",
    "    distance from the training data. The count is stored in the ancillary qubits, so num_ancillas has to be large\n",
    "    enough to store the extremum case (no control is performed yet).\n",
    "        - train_data: vector of training data with the convention\n",
    "\n",
    "        Conventions:\n",
    "        - (1,-1) <--> (|0>,|1>)\n",
    "        - little endians: least significant bit is the last one of the string\n",
    "    \"\"\"\n",
    "    if init_qc is not None:\n",
    "        circ = init_qc.copy()\n",
    "        qreg = circ.qubits[:num_qubits]\n",
    "        areg = circ.qubits[-num_ancillas:]\n",
    "    else:\n",
    "        qreg, areg = QuantumRegister(num_qubits), AncillaRegister(num_ancillas)\n",
    "        circ = QuantumCircuit(qreg, areg)\n",
    "\n",
    "    # flip only when the training data is -1: in this way the circuit can simply count the number \n",
    "    # of states that are |1>\n",
    "    # little endians convention is applied !!! train_data[::-1] !!!\n",
    "    for iq, train_data_i in enumerate(train_data[::-1]):\n",
    "        if train_data_i == -1:\n",
    "            circ.x(qreg[iq])\n",
    "\n",
    "    # initial Hadamards to create superposition in the ancillary register\n",
    "    for ia in range(len(areg)):\n",
    "        circ.h(areg[ia])\n",
    "    \n",
    "    \n",
    "    # Phase estimation\n",
    "    for ia in range(len(areg)):\n",
    "        # the order is from the lowest index of the ancilla to the highest\n",
    "        n_reps = 2**ia\n",
    "\n",
    "        # repeat n_reps times the application of the unitary gate controlled on the ancillary qubit\n",
    "        for rep_idx in range(n_reps):\n",
    "            for iq in range(len(qreg)):\n",
    "                circ.cp(2*np.pi/2**num_ancillas, areg[ia], qreg[iq])\n",
    "                \n",
    "    circ.barrier()\n",
    "    qft_circ = QFT(num_ancillas, inverse=True).decompose(reps=1)\n",
    "\n",
    "    return circ.compose(qft_circ, areg)"
   ]
  },
  {
   "cell_type": "code",
   "execution_count": 4,
   "metadata": {},
   "outputs": [],
   "source": [
    "def U_z(num_qubits, num_ancillas, ancilla_index, train_data, gamma, init_qc=None):\n",
    "\n",
    "    # define circuit\n",
    "    if init_qc is not None:\n",
    "        circ = init_qc.copy()\n",
    "        qreg = circ.qubits[:num_qubits]\n",
    "        areg = circ.qubits[-num_ancillas:]\n",
    "    else:\n",
    "        qreg, areg = QuantumRegister(num_qubits), AncillaRegister(num_ancillas)\n",
    "        circ = QuantumCircuit(qreg, areg)\n",
    "    \n",
    "    circ.barrier()\n",
    "\n",
    "    # define controlled operation on the 'ancilla_index'\n",
    "    # little endians convention is applied !!! iq and idata goes on opposite directions !!!\n",
    "    for iq, idata in zip(range(len(qreg)),range(len(train_data)-1,-1,-1)):\n",
    "        circ.crz(-2*gamma*train_data[idata]/np.sqrt(num_qubits), areg[ancilla_index], qreg[iq])\n",
    "\n",
    "    circ.barrier()\n",
    "    return circ"
   ]
  },
  {
   "cell_type": "code",
   "execution_count": 5,
   "metadata": {},
   "outputs": [],
   "source": [
    "N_xi, N_features = 1, 7\n",
    "#N_xi, N_features =  8, 10\n",
    "\n",
    "x = np.random.randint(2, size=(N_xi, N_features))\n",
    "x[ x == 0 ] = -1  # data is encoded as +- 1\n",
    "\n",
    "csi_patterns = x #np.array([1,1,1,1,1,1,1]).reshape(1,-1)\n",
    "\n",
    "\n",
    "\n",
    "N_csi, N = csi_patterns.shape\n",
    "k = int(np.ceil(np.log2(N+1)))\n",
    "\n",
    "labels = np.ones((N_csi, ))"
   ]
  },
  {
   "attachments": {},
   "cell_type": "markdown",
   "metadata": {},
   "source": [
    "### evolution test"
   ]
  },
  {
   "cell_type": "code",
   "execution_count": 6,
   "metadata": {},
   "outputs": [],
   "source": [
    "qc = QuantumCircuit(QuantumRegister(N), AncillaRegister(k))\n",
    "\n",
    "for ii in range(N):\n",
    "    qc.h(ii)\n",
    "\n",
    "#for ii, el in enumerate( csi_patterns[0,:][::-1] ):\n",
    "#    if el == -1: qc.x(ii)\n",
    "\n",
    "mystates = []\n",
    "mystates.append( get_statevec(qc, N) )"
   ]
  },
  {
   "cell_type": "code",
   "execution_count": 7,
   "metadata": {},
   "outputs": [
    {
     "name": "stderr",
     "output_type": "stream",
     "text": [
      "100%|██████████| 100/100 [00:52<00:00,  1.92it/s]\n"
     ]
    }
   ],
   "source": [
    "P = 100\n",
    "dt = 1\n",
    "\n",
    "for pp in trange(P):\n",
    "    s_p = (pp+1)/P\n",
    "    gamma_p = s_p*dt\n",
    "    beta_p = (1-s_p)*dt\n",
    "\n",
    "    for mu in range( N_csi ):\n",
    "    #\n",
    "    #    # create Hamming error counter circuit based on the given pattern\n",
    "        qc_counter = Hamming_count(N,k, train_data=csi_patterns[mu,:], init_qc=None)\n",
    "        qc_counter_inverse = qc_counter.inverse()\n",
    "    #\n",
    "    #    # create evolution circuit\n",
    "        U_z_prova = U_z(N, k, k-1, train_data=csi_patterns[mu,:], gamma=gamma_p, init_qc=None)\n",
    "    #\n",
    "        qc = qc.compose(qc_counter)\n",
    "        qc = qc.compose(U_z_prova)\n",
    "        qc = qc.compose(qc_counter_inverse)\n",
    "\n",
    "    # measure loss\n",
    "    mystates.append( get_statevec(qc, N) )\n",
    "\n",
    "    # apply Ux\n",
    "    for ii in range( N ):\n",
    "    #    # syntax:  lambda, control_qubit, target_qubit\n",
    "        qc.u( 2 * beta_p, np.pi/2, -np.pi/2, ii)\n",
    "\n",
    "    \n"
   ]
  },
  {
   "cell_type": "code",
   "execution_count": 8,
   "metadata": {},
   "outputs": [
    {
     "name": "stderr",
     "output_type": "stream",
     "text": [
      "Constructing H_perc: 100%|██████████| 1/1 [00:00<00:00, 599.27it/s]"
     ]
    },
    {
     "name": "stdout",
     "output_type": "stream",
     "text": [
      "[0.05905695+0.00000000e+00j 0.05905695+0.00000000e+00j\n",
      " 0.05898422+0.00000000e+00j 0.05896105+0.00000000e+00j\n",
      " 0.05898257+0.00000000e+00j 0.0588998 +0.00000000e+00j\n",
      " 0.05885685+0.00000000e+00j 0.05890782+0.00000000e+00j\n",
      " 0.05881294+0.00000000e+00j 0.05876417+0.00000000e+00j\n",
      " 0.05882867+1.23908820e-19j 0.05873868+0.00000000e+00j\n",
      " 0.05867786+2.47817639e-19j 0.05873232+2.47817639e-19j\n",
      " 0.05876069+0.00000000e+00j 0.05862709+0.00000000e+00j\n",
      " 0.05862071+0.00000000e+00j 0.05883849+0.00000000e+00j\n",
      " 0.05878784-4.95635279e-19j 0.05869312+0.00000000e+00j\n",
      " 0.05899697+0.00000000e+00j 0.05940818+0.00000000e+00j\n",
      " 0.05963446+1.98254112e-18j 0.06001471+3.96508223e-18j\n",
      " 0.06112402+0.00000000e+00j 0.06245402-3.96508223e-18j\n",
      " 0.06385534+0.00000000e+00j 0.06532171+0.00000000e+00j\n",
      " 0.06722497-9.91270558e-19j 0.06850664+2.47817639e-19j\n",
      " 0.06841608+0.00000000e+00j 0.06673601+0.00000000e+00j\n",
      " 0.06441549+0.00000000e+00j 0.06274415+0.00000000e+00j\n",
      " 0.06285415+9.91270558e-19j 0.06565635-1.98254112e-18j\n",
      " 0.06830869+1.98254112e-18j 0.06849139+0.00000000e+00j\n",
      " 0.06547267+0.00000000e+00j 0.06377452+0.00000000e+00j\n",
      " 0.06729022+0.00000000e+00j 0.06935395-4.95635279e-19j\n",
      " 0.06399403+0.00000000e+00j 0.0595996 +0.00000000e+00j\n",
      " 0.06904542+0.00000000e+00j 0.08069985-3.96508223e-18j\n",
      " 0.07160736-1.98254112e-18j 0.0585787 -3.96508223e-18j\n",
      " 0.06905323+0.00000000e+00j 0.08174218-4.95635279e-19j\n",
      " 0.07802627+0.00000000e+00j 0.07438059-3.96508223e-18j\n",
      " 0.07236245+0.00000000e+00j 0.07117962+0.00000000e+00j\n",
      " 0.06943342+0.00000000e+00j 0.08220893+0.00000000e+00j\n",
      " 0.10810854-1.98254112e-18j 0.07619507+0.00000000e+00j\n",
      " 0.05895503+9.91270558e-19j 0.08226833+3.96508223e-18j\n",
      " 0.07703888+0.00000000e+00j 0.07479044+0.00000000e+00j\n",
      " 0.07605421+9.91270558e-19j 0.10615384+0.00000000e+00j\n",
      " 0.09031183+0.00000000e+00j 0.07841701+0.00000000e+00j\n",
      " 0.07024537+0.00000000e+00j 0.09344024-3.96508223e-18j\n",
      " 0.09310535+0.00000000e+00j 0.09437619+9.91270558e-19j\n",
      " 0.08909274+0.00000000e+00j 0.09703557+0.00000000e+00j\n",
      " 0.0980577 +0.00000000e+00j 0.09157719-1.98254112e-18j\n",
      " 0.08952206+0.00000000e+00j 0.07853703+0.00000000e+00j\n",
      " 0.08044266+9.91270558e-19j 0.07904541+0.00000000e+00j\n",
      " 0.0787739 +0.00000000e+00j 0.0812517 +0.00000000e+00j\n",
      " 0.07763266+0.00000000e+00j 0.07789805+0.00000000e+00j\n",
      " 0.08366013+0.00000000e+00j 0.08690661-9.91270558e-19j\n",
      " 0.09845339+3.96508223e-18j 0.10071244+1.98254112e-18j\n",
      " 0.09912543+0.00000000e+00j 0.09637987-3.96508223e-18j\n",
      " 0.08683   +1.98254112e-18j 0.08248856-1.98254112e-18j\n",
      " 0.08282824+0.00000000e+00j 0.08237927+0.00000000e+00j\n",
      " 0.08543796+1.98254112e-18j 0.09011768+0.00000000e+00j\n",
      " 0.08959529+0.00000000e+00j 0.08732592+1.23908820e-19j\n",
      " 0.0861161 +9.91270558e-19j 0.08346041+0.00000000e+00j\n",
      " 0.08143771+6.19544099e-20j 0.08177364-3.96508223e-18j\n",
      " 0.08215224+0.00000000e+00j]\n"
     ]
    },
    {
     "name": "stderr",
     "output_type": "stream",
     "text": [
      "\n"
     ]
    }
   ],
   "source": [
    "print(get_losses_from_sts(mystates, csi_patterns, labels, representation='same'))"
   ]
  },
  {
   "cell_type": "code",
   "execution_count": 9,
   "metadata": {},
   "outputs": [
    {
     "name": "stderr",
     "output_type": "stream",
     "text": [
      "Constructing H_perc: 100%|██████████| 1/1 [00:00<00:00, 620.73it/s]\n"
     ]
    }
   ],
   "source": [
    "loss = get_losses_from_sts(mystates, csi_patterns, labels, representation='same')"
   ]
  },
  {
   "cell_type": "code",
   "execution_count": 10,
   "metadata": {},
   "outputs": [
    {
     "name": "stderr",
     "output_type": "stream",
     "text": [
      "/home/baronefr/.local/lib/python3.10/site-packages/matplotlib/cbook/__init__.py:1369: ComplexWarning: Casting complex values to real discards the imaginary part\n",
      "  return np.asarray(x, float)\n"
     ]
    },
    {
     "data": {
      "image/png": "[encoded data removed]",
      "text/plain": [
       "<Figure size 640x480 with 1 Axes>"
      ]
     },
     "metadata": {},
     "output_type": "display_data"
    }
   ],
   "source": [
    "import matplotlib.pyplot as plt \n",
    "plt.plot(loss)\n",
    "plt.yscale('log')"
   ]
  },
  {
   "cell_type": "code",
   "execution_count": 11,
   "metadata": {},
   "outputs": [],
   "source": [
    "prb = qi.Statevector.from_instruction(qc).probabilities()[:2**7]"
   ]
  },
  {
   "cell_type": "code",
   "execution_count": 12,
   "metadata": {},
   "outputs": [],
   "source": [
    "max_idx = np.argmax( prb )"
   ]
  },
  {
   "cell_type": "code",
   "execution_count": 13,
   "metadata": {},
   "outputs": [
    {
     "data": {
      "text/plain": [
       "array([  2,  16,   1,  64, 119])"
      ]
     },
     "execution_count": 13,
     "metadata": {},
     "output_type": "execute_result"
    }
   ],
   "source": [
    "np.argsort(prb)[::-1][:5]"
   ]
  },
  {
   "cell_type": "code",
   "execution_count": null,
   "metadata": {},
   "outputs": [],
   "source": []
  }
 ],
 "metadata": {
  "kernelspec": {
   "display_name": "quimb_env",
   "language": "python",
   "name": "python3"
  },
  "language_info": {
   "codemirror_mode": {
    "name": "ipython",
    "version": 3
   },
   "file_extension": ".py",
   "mimetype": "text/x-python",
   "name": "python",
   "nbconvert_exporter": "python",
   "pygments_lexer": "ipython3",
   "version": "3.10.6"
  },
  "orig_nbformat": 4,
  "vscode": {
   "interpreter": {
    "hash": "30be1788c55a9c56f0f365d4818a43cde71336da9de7e6fce87f21238f11f8b1"
   }
  }
 },
 "nbformat": 4,
 "nbformat_minor": 2
}
