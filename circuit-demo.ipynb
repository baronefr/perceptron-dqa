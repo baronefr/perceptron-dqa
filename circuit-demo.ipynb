{
 "cells": [
  {
   "cell_type": "code",
   "execution_count": 1,
   "metadata": {},
   "outputs": [],
   "source": [
    "import numpy as np\n",
    "import math\n",
    "import matplotlib.pyplot as plt\n",
    "\n",
    "\n",
    "from qiskit import QuantumCircuit\n",
    "import qiskit.quantum_info as qi\n",
    "\n",
    "\n",
    "from hamming import *\n",
    "from losstre import *\n",
    "\n",
    "from tqdm import trange"
   ]
  },
  {
   "cell_type": "code",
   "execution_count": 2,
   "metadata": {},
   "outputs": [
    {
     "name": "stdout",
     "output_type": "stream",
     "text": [
      "(6, 8)\n"
     ]
    }
   ],
   "source": [
    "N_xi, N_features = 6, 8\n",
    "xi = np.random.randint(2, size=(N_xi, N_features))\n",
    "xi[ xi == 0 ] = -1   # data is encoded as +- 1\n",
    "\n",
    "labels = np.ones((N_features, ))\n",
    "\n",
    "print(xi.shape)"
   ]
  },
  {
   "cell_type": "code",
   "execution_count": 3,
   "metadata": {},
   "outputs": [],
   "source": [
    "HH = Hamming(n_qubit = 8, n_ancillary = 4, dataset = xi)\n",
    "\n",
    "qc = QuantumCircuit( HH.n_qubit + HH.n_ancillary )\n",
    "\n",
    "# init the circuit state\n",
    "for ii in range(HH.n_qubit):  qc.h(ii)\n",
    "\n",
    "qc.x(8+3)\n",
    "\n",
    "mystates = []\n",
    "mystates.append( get_statevec(qc, HH.n_qubit) )\n",
    "\n",
    "#qc.barrier()"
   ]
  },
  {
   "cell_type": "code",
   "execution_count": 4,
   "metadata": {},
   "outputs": [
    {
     "data": {
      "text/html": [
       "<pre style=\"word-wrap: normal;white-space: pre;background: #fff0;line-height: 1.1;font-family: &quot;Courier New&quot;,Courier,monospace\">      ┌───┐\n",
       " q_0: ┤ H ├\n",
       "      ├───┤\n",
       " q_1: ┤ H ├\n",
       "      ├───┤\n",
       " q_2: ┤ H ├\n",
       "      ├───┤\n",
       " q_3: ┤ H ├\n",
       "      ├───┤\n",
       " q_4: ┤ H ├\n",
       "      ├───┤\n",
       " q_5: ┤ H ├\n",
       "      ├───┤\n",
       " q_6: ┤ H ├\n",
       "      ├───┤\n",
       " q_7: ┤ H ├\n",
       "      └───┘\n",
       " q_8: ─────\n",
       "           \n",
       " q_9: ─────\n",
       "           \n",
       "q_10: ─────\n",
       "      ┌───┐\n",
       "q_11: ┤ X ├\n",
       "      └───┘</pre>"
      ],
      "text/plain": [
       "      ┌───┐\n",
       " q_0: ┤ H ├\n",
       "      ├───┤\n",
       " q_1: ┤ H ├\n",
       "      ├───┤\n",
       " q_2: ┤ H ├\n",
       "      ├───┤\n",
       " q_3: ┤ H ├\n",
       "      ├───┤\n",
       " q_4: ┤ H ├\n",
       "      ├───┤\n",
       " q_5: ┤ H ├\n",
       "      ├───┤\n",
       " q_6: ┤ H ├\n",
       "      ├───┤\n",
       " q_7: ┤ H ├\n",
       "      └───┘\n",
       " q_8: ─────\n",
       "           \n",
       " q_9: ─────\n",
       "           \n",
       "q_10: ─────\n",
       "      ┌───┐\n",
       "q_11: ┤ X ├\n",
       "      └───┘"
      ]
     },
     "execution_count": 4,
     "metadata": {},
     "output_type": "execute_result"
    }
   ],
   "source": [
    "qc.draw()"
   ]
  },
  {
   "cell_type": "code",
   "execution_count": 5,
   "metadata": {},
   "outputs": [
    {
     "name": "stderr",
     "output_type": "stream",
     "text": [
      "100%|██████████| 20/20 [00:10<00:00,  1.99it/s]\n"
     ]
    }
   ],
   "source": [
    "P = 100\n",
    "dt = 1\n",
    "\n",
    "for pp in trange(20):\n",
    "    s_p = (pp+1)/P\n",
    "    gamma_p = s_p*dt\n",
    "    beta_p = (1-s_p)*dt\n",
    "\n",
    "    for mu in range( HH.data_size ):\n",
    "        qc = HH.hamming_circuit_for_sample(mu, qc = qc)\n",
    "        HH.control_unitaries(mu, gamma = gamma_p, qc = qc) # FIXME\n",
    "        #for jj in range( HH.n_qubit ):\n",
    "        #    #qc.rz(-2*gamma_p*HH.dataset[mu, jj]/np.sqrt(HH.n_qubit), jj)\n",
    "        #    #qc.cp(-2*gamma_p*HH.dataset[mu, jj]/np.sqrt(HH.n_qubit), jj, 11)\n",
    "        #    #qc.cu(0, 2*gamma_p*HH.dataset[mu, jj]/np.sqrt(HH.n_qubit), 0, gamma_p*HH.dataset[mu, jj]/np.sqrt(HH.n_qubit), 11, jj)\n",
    "        \n",
    "\n",
    "\n",
    "    # apply Ux\n",
    "    for ii in range( HH.n_qubit ):\n",
    "    #    # syntax:  lambda, control_qubit, target_qubit\n",
    "        qc.u( 2 * beta_p, math.pi/2, -math.pi/2, ii)\n",
    "\n",
    "    # measure loss\n",
    "    mystates.append( get_statevec(qc, HH.n_qubit) )"
   ]
  },
  {
   "cell_type": "code",
   "execution_count": 6,
   "metadata": {},
   "outputs": [],
   "source": [
    "#mystates.append( get_statevec(qc, HH.n_qubit) )"
   ]
  },
  {
   "cell_type": "code",
   "execution_count": 7,
   "metadata": {},
   "outputs": [
    {
     "name": "stderr",
     "output_type": "stream",
     "text": [
      "Constructing H_perc: 100%|██████████| 6/6 [00:00<00:00, 189.37it/s]\n"
     ]
    }
   ],
   "source": [
    "res = get_losses_from_sts(mystates, HH.dataset, labels, representation='buh')"
   ]
  },
  {
   "cell_type": "code",
   "execution_count": 8,
   "metadata": {},
   "outputs": [
    {
     "data": {
      "text/plain": [
       "array([-1.34441069e-17+9.61923349e-02j,  9.34234001e-02-1.13624388e-16j,\n",
       "       -9.90433369e-02+1.32706346e-16j, -1.95156391e-17+9.61923349e-02j,\n",
       "       -9.90433369e-02-2.60208521e-18j,  4.77048956e-18+9.61923349e-02j,\n",
       "        1.56125113e-17-1.01978839e-01j, -9.90433369e-02+2.21177243e-17j,\n",
       "       -2.80996839e-03+1.44740990e-17j,  1.29562160e-17+2.72908233e-03j,\n",
       "       -1.63172427e-17-2.89325180e-03j, -2.80996839e-03+1.02321580e-17j,\n",
       "       -1.01101853e-17-2.89325180e-03j, -2.80996839e-03+1.40539707e-17j,\n",
       "        2.97900361e-03-1.43521263e-17j, -1.44063364e-17-2.89325180e-03j,\n",
       "        7.60978321e-02-8.63400860e-03j, -8.38547521e-03-7.39073256e-02j,\n",
       "        8.88990816e-03+7.83532620e-02j,  7.60978321e-02-8.63400860e-03j,\n",
       "        8.88990816e-03+7.83532620e-02j,  7.60978321e-02-8.63400860e-03j,\n",
       "       -8.06755397e-02+9.15339221e-03j,  8.88990816e-03+7.83532620e-02j,\n",
       "        2.52216471e-04+2.22296821e-03j,  2.15897918e-03-2.44956319e-04j,\n",
       "       -2.28885378e-03+2.59691803e-04j,  2.52216471e-04+2.22296821e-03j,\n",
       "       -2.28885378e-03+2.59691803e-04j,  2.52216471e-04+2.22296821e-03j,\n",
       "       -2.67388694e-04-2.35669211e-03j, -2.28885378e-03+2.59691803e-04j,\n",
       "        7.60978321e-02-8.63400860e-03j, -8.38547521e-03-7.39073256e-02j,\n",
       "        8.88990816e-03+7.83532620e-02j,  7.60978321e-02-8.63400860e-03j,\n",
       "        8.88990816e-03+7.83532620e-02j,  7.60978321e-02-8.63400860e-03j,\n",
       "       -8.06755397e-02+9.15339221e-03j,  8.88990816e-03+7.83532620e-02j,\n",
       "        2.52216471e-04+2.22296821e-03j,  2.15897918e-03-2.44956319e-04j,\n",
       "       -2.28885378e-03+2.59691803e-04j,  2.52216471e-04+2.22296821e-03j,\n",
       "       -2.28885378e-03+2.59691803e-04j,  2.52216471e-04+2.22296821e-03j,\n",
       "       -2.67388694e-04-2.35669211e-03j, -2.28885378e-03+2.59691803e-04j,\n",
       "        5.04432942e-04-9.17463985e-02j, -8.91054418e-02-4.89912638e-04j,\n",
       "        9.44656293e-02+5.19383607e-04j,  5.04432942e-04-9.17463985e-02j,\n",
       "        9.44656293e-02+5.19383607e-04j,  5.04432942e-04-9.17463985e-02j,\n",
       "       -5.34777387e-04+9.72654543e-02j,  9.44656293e-02+5.19383607e-04j,\n",
       "        2.68009379e-03+1.47354841e-05j,  1.43113173e-05-2.60294622e-03j,\n",
       "       -1.51722226e-05+2.75952791e-03j,  2.68009379e-03+1.47354841e-05j,\n",
       "       -1.51722226e-05+2.75952791e-03j,  2.68009379e-03+1.47354841e-05j,\n",
       "       -2.84131633e-03-1.56219054e-05j, -1.51722226e-05+2.75952791e-03j,\n",
       "       -2.80996839e-03-1.45283091e-17j, -1.38371302e-17+2.72908233e-03j,\n",
       "        1.36473948e-17-2.89325180e-03j, -2.80996839e-03-1.56260638e-17j,\n",
       "        1.72523671e-17-2.89325180e-03j, -2.80996839e-03-8.56519716e-18j,\n",
       "        2.97900361e-03+1.40133131e-17j,  1.28613483e-17-2.89325180e-03j,\n",
       "       -1.08420217e-17+9.61923349e-02j,  9.34234001e-02-1.25767452e-17j,\n",
       "       -9.90433369e-02-1.08420217e-17j, -2.60208521e-17+9.61923349e-02j,\n",
       "       -9.90433369e-02-3.46944695e-18j,  2.60208521e-18+9.61923349e-02j,\n",
       "        8.67361738e-18-1.01978839e-01j, -9.90433369e-02+1.90819582e-17j,\n",
       "        2.52216471e-04+2.22296821e-03j,  2.15897918e-03-2.44956319e-04j,\n",
       "       -2.28885378e-03+2.59691803e-04j,  2.52216471e-04+2.22296821e-03j,\n",
       "       -2.28885378e-03+2.59691803e-04j,  2.52216471e-04+2.22296821e-03j,\n",
       "       -2.67388694e-04-2.35669211e-03j, -2.28885378e-03+2.59691803e-04j,\n",
       "        7.60978321e-02-8.63400860e-03j, -8.38547521e-03-7.39073256e-02j,\n",
       "        8.88990816e-03+7.83532620e-02j,  7.60978321e-02-8.63400860e-03j,\n",
       "        8.88990816e-03+7.83532620e-02j,  7.60978321e-02-8.63400860e-03j,\n",
       "       -8.06755397e-02+9.15339221e-03j,  8.88990816e-03+7.83532620e-02j,\n",
       "        2.52216471e-04+2.22296821e-03j,  2.15897918e-03-2.44956319e-04j,\n",
       "       -2.28885378e-03+2.59691803e-04j,  2.52216471e-04+2.22296821e-03j,\n",
       "       -2.28885378e-03+2.59691803e-04j,  2.52216471e-04+2.22296821e-03j,\n",
       "       -2.67388694e-04-2.35669211e-03j, -2.28885378e-03+2.59691803e-04j,\n",
       "        7.60978321e-02-8.63400860e-03j, -8.38547521e-03-7.39073256e-02j,\n",
       "        8.88990816e-03+7.83532620e-02j,  7.60978321e-02-8.63400860e-03j,\n",
       "        8.88990816e-03+7.83532620e-02j,  7.60978321e-02-8.63400860e-03j,\n",
       "       -8.06755397e-02+9.15339221e-03j,  8.88990816e-03+7.83532620e-02j,\n",
       "        2.68009379e-03+1.47354841e-05j,  1.43113173e-05-2.60294622e-03j,\n",
       "       -1.51722226e-05+2.75952791e-03j,  2.68009379e-03+1.47354841e-05j,\n",
       "       -1.51722226e-05+2.75952791e-03j,  2.68009379e-03+1.47354841e-05j,\n",
       "       -2.84131633e-03-1.56219054e-05j, -1.51722226e-05+2.75952791e-03j,\n",
       "        5.04432942e-04-9.17463985e-02j, -8.91054418e-02-4.89912638e-04j,\n",
       "        9.44656293e-02+5.19383607e-04j,  5.04432942e-04-9.17463985e-02j,\n",
       "        9.44656293e-02+5.19383607e-04j,  5.04432942e-04-9.17463985e-02j,\n",
       "       -5.34777387e-04+9.72654543e-02j,  9.44656293e-02+5.19383607e-04j,\n",
       "       -9.90433369e-02+1.56125113e-17j, -1.73472348e-18+9.61923349e-02j,\n",
       "        2.81892565e-17-1.01978839e-01j, -9.90433369e-02-1.17093835e-17j,\n",
       "        4.25007252e-17-1.01978839e-01j, -9.90433369e-02-2.60208521e-18j,\n",
       "        1.05001344e-01+0.00000000e+00j,  1.25767452e-17-1.01978839e-01j,\n",
       "       -1.60326396e-17-2.89325180e-03j, -2.80996839e-03+1.58429042e-17j,\n",
       "        2.97900361e-03-1.21566169e-17j, -1.53685658e-17-2.89325180e-03j,\n",
       "        2.97900361e-03-1.58022467e-17j, -9.79847713e-18-2.89325180e-03j,\n",
       "        1.20346441e-17+3.06729698e-03j,  2.97900361e-03-1.35796322e-17j,\n",
       "        8.88990816e-03+7.83532620e-02j,  7.60978321e-02-8.63400860e-03j,\n",
       "       -8.06755397e-02+9.15339221e-03j,  8.88990816e-03+7.83532620e-02j,\n",
       "       -8.06755397e-02+9.15339221e-03j,  8.88990816e-03+7.83532620e-02j,\n",
       "       -9.42468554e-03-8.30666462e-02j, -8.06755397e-02+9.15339221e-03j,\n",
       "       -2.28885378e-03+2.59691803e-04j,  2.52216471e-04+2.22296821e-03j,\n",
       "       -2.67388694e-04-2.35669211e-03j, -2.28885378e-03+2.59691803e-04j,\n",
       "       -2.67388694e-04-2.35669211e-03j, -2.28885378e-03+2.59691803e-04j,\n",
       "        2.42654106e-03-2.75313709e-04j, -2.67388694e-04-2.35669211e-03j,\n",
       "        8.88990816e-03+7.83532620e-02j,  7.60978321e-02-8.63400860e-03j,\n",
       "       -8.06755397e-02+9.15339221e-03j,  8.88990816e-03+7.83532620e-02j,\n",
       "       -8.06755397e-02+9.15339221e-03j,  8.88990816e-03+7.83532620e-02j,\n",
       "       -9.42468554e-03-8.30666462e-02j, -8.06755397e-02+9.15339221e-03j,\n",
       "       -2.28885378e-03+2.59691803e-04j,  2.52216471e-04+2.22296821e-03j,\n",
       "       -2.67388694e-04-2.35669211e-03j, -2.28885378e-03+2.59691803e-04j,\n",
       "       -2.67388694e-04-2.35669211e-03j, -2.28885378e-03+2.59691803e-04j,\n",
       "        2.42654106e-03-2.75313709e-04j, -2.67388694e-04-2.35669211e-03j,\n",
       "        9.44656293e-02+5.19383607e-04j,  5.04432942e-04-9.17463985e-02j,\n",
       "       -5.34777387e-04+9.72654543e-02j,  9.44656293e-02+5.19383607e-04j,\n",
       "       -5.34777387e-04+9.72654543e-02j,  9.44656293e-02+5.19383607e-04j,\n",
       "       -1.00148262e-01-5.50627417e-04j, -5.34777387e-04+9.72654543e-02j,\n",
       "       -1.51722226e-05+2.75952791e-03j,  2.68009379e-03+1.47354841e-05j,\n",
       "       -2.84131633e-03-1.56219054e-05j, -1.51722226e-05+2.75952791e-03j,\n",
       "       -2.84131633e-03-1.56219054e-05j, -1.51722226e-05+2.75952791e-03j,\n",
       "        1.60849161e-05-2.92552885e-03j, -2.84131633e-03-1.56219054e-05j,\n",
       "        1.42979161e-17-2.89325180e-03j, -2.80996839e-03-1.29020059e-17j,\n",
       "        2.97900361e-03+1.61546124e-17j,  1.06116288e-17-2.89325180e-03j,\n",
       "        2.97900361e-03+1.53685658e-17j,  1.67509236e-17-2.89325180e-03j,\n",
       "       -1.21837219e-17+3.06729698e-03j,  2.97900361e-03+1.36067373e-17j,\n",
       "       -9.90433369e-02+2.03830008e-17j,  8.67361738e-18+9.61923349e-02j,\n",
       "       -3.03576608e-18-1.01978839e-01j, -9.90433369e-02+2.21177243e-17j,\n",
       "        3.16587034e-17-1.01978839e-01j, -9.90433369e-02-1.25767452e-17j,\n",
       "        1.05001344e-01-2.12503626e-17j,  1.34441069e-17-1.01978839e-01j,\n",
       "       -2.28885378e-03+2.59691803e-04j,  2.52216471e-04+2.22296821e-03j,\n",
       "       -2.67388694e-04-2.35669211e-03j, -2.28885378e-03+2.59691803e-04j,\n",
       "       -2.67388694e-04-2.35669211e-03j, -2.28885378e-03+2.59691803e-04j,\n",
       "        2.42654106e-03-2.75313709e-04j, -2.67388694e-04-2.35669211e-03j,\n",
       "        8.88990816e-03+7.83532620e-02j,  7.60978321e-02-8.63400860e-03j,\n",
       "       -8.06755397e-02+9.15339221e-03j,  8.88990816e-03+7.83532620e-02j,\n",
       "       -8.06755397e-02+9.15339221e-03j,  8.88990816e-03+7.83532620e-02j,\n",
       "       -9.42468554e-03-8.30666462e-02j, -8.06755397e-02+9.15339221e-03j,\n",
       "       -2.28885378e-03+2.59691803e-04j,  2.52216471e-04+2.22296821e-03j,\n",
       "       -2.67388694e-04-2.35669211e-03j, -2.28885378e-03+2.59691803e-04j,\n",
       "       -2.67388694e-04-2.35669211e-03j, -2.28885378e-03+2.59691803e-04j,\n",
       "        2.42654106e-03-2.75313709e-04j, -2.67388694e-04-2.35669211e-03j,\n",
       "        8.88990816e-03+7.83532620e-02j,  7.60978321e-02-8.63400860e-03j,\n",
       "       -8.06755397e-02+9.15339221e-03j,  8.88990816e-03+7.83532620e-02j,\n",
       "       -8.06755397e-02+9.15339221e-03j,  8.88990816e-03+7.83532620e-02j,\n",
       "       -9.42468554e-03-8.30666462e-02j, -8.06755397e-02+9.15339221e-03j,\n",
       "       -1.51722226e-05+2.75952791e-03j,  2.68009379e-03+1.47354841e-05j,\n",
       "       -2.84131633e-03-1.56219054e-05j, -1.51722226e-05+2.75952791e-03j,\n",
       "       -2.84131633e-03-1.56219054e-05j, -1.51722226e-05+2.75952791e-03j,\n",
       "        1.60849161e-05-2.92552885e-03j, -2.84131633e-03-1.56219054e-05j,\n",
       "        9.44656293e-02+5.19383607e-04j,  5.04432942e-04-9.17463985e-02j,\n",
       "       -5.34777387e-04+9.72654543e-02j,  9.44656293e-02+5.19383607e-04j,\n",
       "       -5.34777387e-04+9.72654543e-02j,  9.44656293e-02+5.19383607e-04j,\n",
       "       -1.00148262e-01-5.50627417e-04j, -5.34777387e-04+9.72654543e-02j])"
      ]
     },
     "execution_count": 8,
     "metadata": {},
     "output_type": "execute_result"
    }
   ],
   "source": [
    "mystates[-1]"
   ]
  },
  {
   "cell_type": "code",
   "execution_count": 9,
   "metadata": {},
   "outputs": [
    {
     "name": "stderr",
     "output_type": "stream",
     "text": [
      "/home/baronefr/.local/lib/python3.10/site-packages/matplotlib/cbook/__init__.py:1369: ComplexWarning: Casting complex values to real discards the imaginary part\n",
      "  return np.asarray(x, float)\n"
     ]
    },
    {
     "data": {
      "image/png": "[encoded data removed]",
      "text/plain": [
       "<Figure size 640x480 with 1 Axes>"
      ]
     },
     "metadata": {},
     "output_type": "display_data"
    }
   ],
   "source": [
    "plt.plot(res)\n",
    "plt.yscale('log')"
   ]
  },
  {
   "cell_type": "code",
   "execution_count": 11,
   "metadata": {},
   "outputs": [],
   "source": [
    "#qc.draw()"
   ]
  }
 ],
 "metadata": {
  "kernelspec": {
   "display_name": "Python 3",
   "language": "python",
   "name": "python3"
  },
  "language_info": {
   "codemirror_mode": {
    "name": "ipython",
    "version": 3
   },
   "file_extension": ".py",
   "mimetype": "text/x-python",
   "name": "python",
   "nbconvert_exporter": "python",
   "pygments_lexer": "ipython3",
   "version": "3.10.6"
  },
  "orig_nbformat": 4
 },
 "nbformat": 4,
 "nbformat_minor": 2
}
