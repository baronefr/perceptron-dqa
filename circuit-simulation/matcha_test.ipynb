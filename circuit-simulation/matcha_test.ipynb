{
 "cells": [
  {
   "cell_type": "code",
   "execution_count": 3,
   "metadata": {},
   "outputs": [],
   "source": [
    "import numpy as np\n",
    "import cupy as cp\n",
    "from qiskit import QuantumCircuit\n",
    "from qiskit.circuit import Parameter\n",
    "from qmatchatea.circuit.circuit import Qcircuit\n",
    "from qmatchatea.preprocessing import preprocess\n",
    "from qmatchatea.qk_utils import qk_transpilation_params\n",
    "import qiskit.quantum_info as qi\n",
    "import qiskit.circuit.library as qcl\n",
    "from qiskit.extensions import UnitaryGate\n",
    "from qtealeaves.observables import TNObsTensorProduct, TNObservables\n",
    "import qtealeaves.observables as obs\n",
    "from qmatchatea import QCOperators, QCConvergenceParameters, run_simulation, QCBackend\n",
    "from qmatchatea.qk_utils import GHZ_qiskit, QFT_qiskit\n",
    "from qmatchatea.py_emulator import run_py_simulation, QcMps\n",
    "from tqdm.notebook import tqdm"
   ]
  },
  {
   "attachments": {},
   "cell_type": "markdown",
   "metadata": {},
   "source": [
    "# Example from qmatcha library"
   ]
  },
  {
   "cell_type": "code",
   "execution_count": 2,
   "metadata": {},
   "outputs": [],
   "source": [
    "# Initialize operator class\n",
    "operators = QCOperators()\n",
    "\n",
    "# Define local observable\n",
    "sigma_z = np.array([[1, 0], [0, -1]])\n",
    "num_qubits = 10\n",
    "\n",
    "# Add the observable operator to the list\n",
    "operators.ops[\"sz\"] = sigma_z\n",
    "\n",
    "# Define Observable class\n",
    "parity = TNObsTensorProduct(\"parity\", \"sz\", num_qubits)"
   ]
  },
  {
   "cell_type": "code",
   "execution_count": 3,
   "metadata": {},
   "outputs": [],
   "source": [
    "################################################################################\n",
    "# We can then add the specific observable to the class :py:class:`TNObservables`,\n",
    "# which is the one devoted to the input/output/measurement management.\n",
    "# After doing that, it is time to set up the quantum circuit, which determines\n",
    "# the evolution of the quantum state. For simplicity, we will\n",
    "# use a function defined in the utility of this module, which creates a GHZ state.\n",
    "# We recall that a GHZ state of :math:`n` qubits is defined as:\n",
    "#\n",
    "# .. math::\n",
    "#   |GHZ\\rangle = \\frac{|0\\rangle^{\\otimes n}+|1\\rangle^{\\otimes n}}{\\sqrt{2}}\n",
    "\n",
    "# Add the observable to the IO class\n",
    "observables = TNObservables()\n",
    "observables += parity\n",
    "\n",
    "# Initialize the quantum circuit and prepare a GHZ state\n",
    "qc = QuantumCircuit(num_qubits)\n",
    "_ = GHZ_qiskit(qc)"
   ]
  },
  {
   "cell_type": "code",
   "execution_count": 6,
   "metadata": {},
   "outputs": [],
   "source": [
    "################################################################################\n",
    "# We are now ready to run the simulation ( :doc:`/../chapters/interface` )!\n",
    "# The function we use is :py:func:`run_simulation`. It really has a lot of\n",
    "# customizations through different parameters. For this quickstart we will simply\n",
    "# use the more basic parameters. Remember to pass the operators and the observables to the\n",
    "# function. An important parameter to pass to this function is the **bond_dimension**,\n",
    "# through the :py:class:`QCConvergenceParameters`, which underlines how much\n",
    "# entanglement we can encode in our system. There is no way to know a priori which\n",
    "# bond dimension is enough for your application. A way to discover it is to perform\n",
    "# multiple simulation with different bond dimensions, and see after which value the\n",
    "# results converges.\n",
    "# For further information about the importance of the bond dimension see the\n",
    "# example :doc:`random_quantum_circuit`.\n",
    "# This time we are interested in the value of the Parity. However, the result\n",
    "# class, :class:`simulation_results` contains many more interesting quantities.\n",
    "# For further information about that, see :doc:`/../chapters/utils`\n",
    "#\n",
    "# It is possible to choose between different approaches for running the simulation:\n",
    "# - The backend can be either python \"PY\" or fortran \"FR\".\n",
    "# - The machine precision can be either double complex \"Z\" or single complex \"C\".\n",
    "# - The device of the simulation can be either \"cpu\" or \"gpu\".\n",
    "# - The number of processes for the MPI simulation. If 1 is passed, then a serial\n",
    "#   program is run.\n",
    "# - The approach for the MPI simulation. Either master/worker \"MW\", cartesian \"CT\" or\n",
    "#   serial \"SR\".\n",
    "#\n",
    "\n",
    "\n",
    "backend = QCBackend(\n",
    "    backend=\"PY\", precision=\"Z\", device=\"gpu\", num_procs=1, mpi_approach=\"SR\"\n",
    ")\n",
    "\n",
    "\n",
    "conv_params = QCConvergenceParameters(max_bond_dimension=10)\n",
    "results = run_py_simulation(\n",
    "    qc,\n",
    "    convergence_parameters=conv_params,\n",
    "    operators=operators,\n",
    "    observables=observables,\n",
    "    backend=backend,\n",
    ")\n",
    "observable_measures = results.observables"
   ]
  },
  {
   "cell_type": "code",
   "execution_count": 7,
   "metadata": {},
   "outputs": [
    {
     "data": {
      "text/plain": [
       "{'time': 0.07177591323852539,\n",
       " 'energy': None,\n",
       " 'norm': array(1.),\n",
       " 'parity': (0.9999999999999998+0j),\n",
       " 'projective_measurements': {}}"
      ]
     },
     "execution_count": 7,
     "metadata": {},
     "output_type": "execute_result"
    }
   ],
   "source": [
    "observable_measures"
   ]
  },
  {
   "cell_type": "code",
   "execution_count": 8,
   "metadata": {},
   "outputs": [
    {
     "data": {
      "text/html": [
       "<pre style=\"word-wrap: normal;white-space: pre;background: #fff0;line-height: 1.1;font-family: &quot;Courier New&quot;,Courier,monospace\">         ┌───┐                                              ░ ┌─┐            »\n",
       "    q_0: ┤ H ├──■───────────────────────────────────────────░─┤M├────────────»\n",
       "         └───┘┌─┴─┐                                         ░ └╥┘┌─┐         »\n",
       "    q_1: ─────┤ X ├──■──────────────────────────────────────░──╫─┤M├─────────»\n",
       "              └───┘┌─┴─┐                                    ░  ║ └╥┘┌─┐      »\n",
       "    q_2: ──────────┤ X ├──■─────────────────────────────────░──╫──╫─┤M├──────»\n",
       "                   └───┘┌─┴─┐                               ░  ║  ║ └╥┘┌─┐   »\n",
       "    q_3: ───────────────┤ X ├──■────────────────────────────░──╫──╫──╫─┤M├───»\n",
       "                        └───┘┌─┴─┐                          ░  ║  ║  ║ └╥┘┌─┐»\n",
       "    q_4: ────────────────────┤ X ├──■───────────────────────░──╫──╫──╫──╫─┤M├»\n",
       "                             └───┘┌─┴─┐                     ░  ║  ║  ║  ║ └╥┘»\n",
       "    q_5: ─────────────────────────┤ X ├──■──────────────────░──╫──╫──╫──╫──╫─»\n",
       "                                  └───┘┌─┴─┐                ░  ║  ║  ║  ║  ║ »\n",
       "    q_6: ──────────────────────────────┤ X ├──■─────────────░──╫──╫──╫──╫──╫─»\n",
       "                                       └───┘┌─┴─┐           ░  ║  ║  ║  ║  ║ »\n",
       "    q_7: ───────────────────────────────────┤ X ├──■────────░──╫──╫──╫──╫──╫─»\n",
       "                                            └───┘┌─┴─┐      ░  ║  ║  ║  ║  ║ »\n",
       "    q_8: ────────────────────────────────────────┤ X ├──■───░──╫──╫──╫──╫──╫─»\n",
       "                                                 └───┘┌─┴─┐ ░  ║  ║  ║  ║  ║ »\n",
       "    q_9: ─────────────────────────────────────────────┤ X ├─░──╫──╫──╫──╫──╫─»\n",
       "                                                      └───┘ ░  ║  ║  ║  ║  ║ »\n",
       "meas: 10/══════════════════════════════════════════════════════╩══╩══╩══╩══╩═»\n",
       "                                                               0  1  2  3  4 »\n",
       "«                        \n",
       "«    q_0: ───────────────\n",
       "«                        \n",
       "«    q_1: ───────────────\n",
       "«                        \n",
       "«    q_2: ───────────────\n",
       "«                        \n",
       "«    q_3: ───────────────\n",
       "«                        \n",
       "«    q_4: ───────────────\n",
       "«         ┌─┐            \n",
       "«    q_5: ┤M├────────────\n",
       "«         └╥┘┌─┐         \n",
       "«    q_6: ─╫─┤M├─────────\n",
       "«          ║ └╥┘┌─┐      \n",
       "«    q_7: ─╫──╫─┤M├──────\n",
       "«          ║  ║ └╥┘┌─┐   \n",
       "«    q_8: ─╫──╫──╫─┤M├───\n",
       "«          ║  ║  ║ └╥┘┌─┐\n",
       "«    q_9: ─╫──╫──╫──╫─┤M├\n",
       "«          ║  ║  ║  ║ └╥┘\n",
       "«meas: 10/═╩══╩══╩══╩══╩═\n",
       "«          5  6  7  8  9 </pre>"
      ],
      "text/plain": [
       "         ┌───┐                                              ░ ┌─┐            »\n",
       "    q_0: ┤ H ├──■───────────────────────────────────────────░─┤M├────────────»\n",
       "         └───┘┌─┴─┐                                         ░ └╥┘┌─┐         »\n",
       "    q_1: ─────┤ X ├──■──────────────────────────────────────░──╫─┤M├─────────»\n",
       "              └───┘┌─┴─┐                                    ░  ║ └╥┘┌─┐      »\n",
       "    q_2: ──────────┤ X ├──■─────────────────────────────────░──╫──╫─┤M├──────»\n",
       "                   └───┘┌─┴─┐                               ░  ║  ║ └╥┘┌─┐   »\n",
       "    q_3: ───────────────┤ X ├──■────────────────────────────░──╫──╫──╫─┤M├───»\n",
       "                        └───┘┌─┴─┐                          ░  ║  ║  ║ └╥┘┌─┐»\n",
       "    q_4: ────────────────────┤ X ├──■───────────────────────░──╫──╫──╫──╫─┤M├»\n",
       "                             └───┘┌─┴─┐                     ░  ║  ║  ║  ║ └╥┘»\n",
       "    q_5: ─────────────────────────┤ X ├──■──────────────────░──╫──╫──╫──╫──╫─»\n",
       "                                  └───┘┌─┴─┐                ░  ║  ║  ║  ║  ║ »\n",
       "    q_6: ──────────────────────────────┤ X ├──■─────────────░──╫──╫──╫──╫──╫─»\n",
       "                                       └───┘┌─┴─┐           ░  ║  ║  ║  ║  ║ »\n",
       "    q_7: ───────────────────────────────────┤ X ├──■────────░──╫──╫──╫──╫──╫─»\n",
       "                                            └───┘┌─┴─┐      ░  ║  ║  ║  ║  ║ »\n",
       "    q_8: ────────────────────────────────────────┤ X ├──■───░──╫──╫──╫──╫──╫─»\n",
       "                                                 └───┘┌─┴─┐ ░  ║  ║  ║  ║  ║ »\n",
       "    q_9: ─────────────────────────────────────────────┤ X ├─░──╫──╫──╫──╫──╫─»\n",
       "                                                      └───┘ ░  ║  ║  ║  ║  ║ »\n",
       "meas: 10/══════════════════════════════════════════════════════╩══╩══╩══╩══╩═»\n",
       "                                                               0  1  2  3  4 »\n",
       "«                        \n",
       "«    q_0: ───────────────\n",
       "«                        \n",
       "«    q_1: ───────────────\n",
       "«                        \n",
       "«    q_2: ───────────────\n",
       "«                        \n",
       "«    q_3: ───────────────\n",
       "«                        \n",
       "«    q_4: ───────────────\n",
       "«         ┌─┐            \n",
       "«    q_5: ┤M├────────────\n",
       "«         └╥┘┌─┐         \n",
       "«    q_6: ─╫─┤M├─────────\n",
       "«          ║ └╥┘┌─┐      \n",
       "«    q_7: ─╫──╫─┤M├──────\n",
       "«          ║  ║ └╥┘┌─┐   \n",
       "«    q_8: ─╫──╫──╫─┤M├───\n",
       "«          ║  ║  ║ └╥┘┌─┐\n",
       "«    q_9: ─╫──╫──╫──╫─┤M├\n",
       "«          ║  ║  ║  ║ └╥┘\n",
       "«meas: 10/═╩══╩══╩══╩══╩═\n",
       "«          5  6  7  8  9 "
      ]
     },
     "execution_count": 8,
     "metadata": {},
     "output_type": "execute_result"
    }
   ],
   "source": [
    "qc.draw()"
   ]
  },
  {
   "attachments": {},
   "cell_type": "markdown",
   "metadata": {},
   "source": [
    "# Try to construct our circuit"
   ]
  },
  {
   "attachments": {},
   "cell_type": "markdown",
   "metadata": {},
   "source": [
    "## Define H_perc"
   ]
  },
  {
   "cell_type": "code",
   "execution_count": 4,
   "metadata": {},
   "outputs": [],
   "source": [
    "sigma_z  = np.diag([1., -1.])\n",
    "identity = np.diag([1., 1.])\n",
    "\n",
    "def kronecker_prod(operators):\n",
    "\n",
    "    result = operators[0]\n",
    "    for op in operators[1:]:\n",
    "\n",
    "        result = np.kron(result, op)\n",
    "\n",
    "    return result\n",
    "\n",
    "def ReLU(x):\n",
    "    return x * (x > 0)\n",
    "\n",
    "def H_perc_nobatch(data, labels):\n",
    "    n_data, n = data.shape\n",
    "\n",
    "    h_perc = np.zeros((2**n, 2**n), dtype='float32')\n",
    "    \n",
    "    for i in tqdm(range(n_data), desc='Constructing H_perc'):\n",
    "\n",
    "        op = np.zeros((2**n, 2**n), dtype='float32')\n",
    "        for j in range(n):\n",
    "\n",
    "            op += kronecker_prod([identity]*j+[data[i, j] * sigma_z]+[identity]*(n-j-1))\n",
    "\n",
    "        h_perc += ReLU(-labels[i]*op)\n",
    "        del op\n",
    "\n",
    "    return (h_perc / np.sqrt(n)).astype('complex')"
   ]
  },
  {
   "cell_type": "code",
   "execution_count": 17,
   "metadata": {},
   "outputs": [],
   "source": [
    "def H_perc_diag(data, labels):\n",
    "    n_data, n = data.shape\n",
    "    identity = np.ones((2,), 'float32')\n",
    "    sigma_z  = np.array([1., -1.])\n",
    "\n",
    "    h_perc = np.zeros((2**n,), dtype='float32')\n",
    "    \n",
    "    for i in tqdm(range(n_data), desc='Constructing H_perc'):\n",
    "\n",
    "        op = np.zeros((2**n,), dtype='float32')\n",
    "        for j in range(n):\n",
    "\n",
    "            op += kronecker_prod([identity]*j+[data[i, j] * sigma_z]+[identity]*(n-j-1))\n",
    "\n",
    "        h_perc += ReLU(-labels[i]*op)\n",
    "        del op\n",
    "\n",
    "    return (h_perc / np.sqrt(n)).astype('complex')"
   ]
  },
  {
   "cell_type": "code",
   "execution_count": 6,
   "metadata": {},
   "outputs": [
    {
     "data": {
      "application/vnd.jupyter.widget-view+json": {
       "model_id": "052826067097421e97cf9e4523ad4b29",
       "version_major": 2,
       "version_minor": 0
      },
      "text/plain": [
       "Constructing H_perc:   0%|          | 0/8 [00:00<?, ?it/s]"
      ]
     },
     "metadata": {},
     "output_type": "display_data"
    }
   ],
   "source": [
    "data = np.load('../data/patterns8_10.npy')\n",
    "labels = np.ones((data.shape[0],))\n",
    "\n",
    "h_perc = H_perc_nobatch(data[:,::1], labels)"
   ]
  },
  {
   "cell_type": "code",
   "execution_count": 35,
   "metadata": {},
   "outputs": [],
   "source": [
    "eigvals, _ = np.linalg.eigh(h_perc)"
   ]
  },
  {
   "cell_type": "code",
   "execution_count": 38,
   "metadata": {},
   "outputs": [
    {
     "data": {
      "text/plain": [
       "True"
      ]
     },
     "execution_count": 38,
     "metadata": {},
     "output_type": "execute_result"
    }
   ],
   "source": [
    "np.allclose(np.sort(np.diag(h_perc)), eigvals)"
   ]
  },
  {
   "cell_type": "code",
   "execution_count": 8,
   "metadata": {},
   "outputs": [
    {
     "data": {
      "application/vnd.jupyter.widget-view+json": {
       "model_id": "f9f216620b0c49c793aa492a8433ce39",
       "version_major": 2,
       "version_minor": 0
      },
      "text/plain": [
       "Constructing H_perc:   0%|          | 0/8 [00:00<?, ?it/s]"
      ]
     },
     "metadata": {},
     "output_type": "display_data"
    }
   ],
   "source": [
    "h_perc_opt = H_perc_opt(data, labels)"
   ]
  },
  {
   "cell_type": "code",
   "execution_count": 10,
   "metadata": {},
   "outputs": [
    {
     "data": {
      "text/plain": [
       "True"
      ]
     },
     "execution_count": 10,
     "metadata": {},
     "output_type": "execute_result"
    }
   ],
   "source": [
    "np.allclose(h_perc_opt, np.diag(h_perc))"
   ]
  },
  {
   "cell_type": "code",
   "execution_count": 11,
   "metadata": {},
   "outputs": [
    {
     "data": {
      "text/plain": [
       "(array([593]),)"
      ]
     },
     "execution_count": 11,
     "metadata": {},
     "output_type": "execute_result"
    }
   ],
   "source": [
    "# investigate solution\n",
    "_, eigvecs = np.linalg.eigh(h_perc)\n",
    "np.where(eigvecs[0])"
   ]
  },
  {
   "cell_type": "code",
   "execution_count": 13,
   "metadata": {},
   "outputs": [
    {
     "data": {
      "application/vnd.jupyter.widget-view+json": {
       "model_id": "4e6c38914a3f4b268ade35ed123444a1",
       "version_major": 2,
       "version_minor": 0
      },
      "text/plain": [
       "Constructing circuit:   0%|          | 0/100 [00:00<?, ?it/s]"
      ]
     },
     "metadata": {},
     "output_type": "display_data"
    }
   ],
   "source": [
    "N_data = 8\n",
    "N_feat = 10\n",
    "P = 100\n",
    "dt = 0.5\n",
    "\n",
    "num_qubits = N_feat\n",
    "\n",
    "\n",
    "qc = QuantumCircuit(num_qubits)\n",
    "\n",
    "# prepare initial state\n",
    "for i in range(num_qubits):\n",
    "\n",
    "    qc.h(i)\n",
    "\n",
    "for p in tqdm(range(P), 'Constructing circuit'):\n",
    "    frac  = (p+1)/P\n",
    "    beta  = (1-frac)*dt\n",
    "    gamma = frac*dt\n",
    "\n",
    "    Uz = np.exp(-1.j*gamma*np.diag(h_perc), dtype='complex128')\n",
    "    op = UnitaryGate(np.diag(Uz))\n",
    "\n",
    "    # apply evolution with Uz (oracle)\n",
    "    qc.append(op, range(num_qubits))\n",
    "\n",
    "    # apply evoltion with Ux\n",
    "    for i in range(num_qubits):\n",
    "\n",
    "        qc.h(i)\n",
    "        qc.p(-2*beta, i)\n",
    "        qc.h(i)\n",
    "\n",
    "\n",
    "\n",
    "#qc.draw()"
   ]
  },
  {
   "cell_type": "code",
   "execution_count": 7,
   "metadata": {},
   "outputs": [
    {
     "ename": "KeyboardInterrupt",
     "evalue": "",
     "output_type": "error",
     "traceback": [
      "\u001b[0;31m---------------------------------------------------------------------------\u001b[0m",
      "\u001b[0;31mKeyboardInterrupt\u001b[0m                         Traceback (most recent call last)",
      "Cell \u001b[0;32mIn[7], line 1\u001b[0m\n\u001b[0;32m----> 1\u001b[0m qi\u001b[39m.\u001b[39;49mOperator(qc)\n",
      "File \u001b[0;32m/media/alberto/Volume/Kubuntu/miniconda3/envs/qmatcha/lib/python3.9/site-packages/qiskit/quantum_info/operators/operator.py:86\u001b[0m, in \u001b[0;36mOperator.__init__\u001b[0;34m(self, data, input_dims, output_dims)\u001b[0m\n\u001b[1;32m     77\u001b[0m     \u001b[39mself\u001b[39m\u001b[39m.\u001b[39m_data \u001b[39m=\u001b[39m np\u001b[39m.\u001b[39masarray(data, dtype\u001b[39m=\u001b[39m\u001b[39mcomplex\u001b[39m)\n\u001b[1;32m     78\u001b[0m \u001b[39melif\u001b[39;00m \u001b[39misinstance\u001b[39m(data, (QuantumCircuit, Instruction)):\n\u001b[1;32m     79\u001b[0m     \u001b[39m# If the input is a Terra QuantumCircuit or Instruction we\u001b[39;00m\n\u001b[1;32m     80\u001b[0m     \u001b[39m# perform a simulation to construct the unitary operator.\u001b[39;00m\n\u001b[0;32m   (...)\u001b[0m\n\u001b[1;32m     84\u001b[0m     \u001b[39m# conditional gates, measure, or reset will cause an\u001b[39;00m\n\u001b[1;32m     85\u001b[0m     \u001b[39m# exception to be raised.\u001b[39;00m\n\u001b[0;32m---> 86\u001b[0m     \u001b[39mself\u001b[39m\u001b[39m.\u001b[39m_data \u001b[39m=\u001b[39m \u001b[39mself\u001b[39;49m\u001b[39m.\u001b[39;49m_init_instruction(data)\u001b[39m.\u001b[39mdata\n\u001b[1;32m     87\u001b[0m \u001b[39melif\u001b[39;00m \u001b[39mhasattr\u001b[39m(data, \u001b[39m\"\u001b[39m\u001b[39mto_operator\u001b[39m\u001b[39m\"\u001b[39m):\n\u001b[1;32m     88\u001b[0m     \u001b[39m# If the data object has a 'to_operator' attribute this is given\u001b[39;00m\n\u001b[1;32m     89\u001b[0m     \u001b[39m# higher preference than the 'to_matrix' method for initializing\u001b[39;00m\n\u001b[1;32m     90\u001b[0m     \u001b[39m# an Operator object.\u001b[39;00m\n\u001b[1;32m     91\u001b[0m     data \u001b[39m=\u001b[39m data\u001b[39m.\u001b[39mto_operator()\n",
      "File \u001b[0;32m/media/alberto/Volume/Kubuntu/miniconda3/envs/qmatcha/lib/python3.9/site-packages/qiskit/quantum_info/operators/operator.py:511\u001b[0m, in \u001b[0;36mOperator._init_instruction\u001b[0;34m(cls, instruction)\u001b[0m\n\u001b[1;32m    509\u001b[0m \u001b[39mif\u001b[39;00m \u001b[39misinstance\u001b[39m(instruction, QuantumCircuit):\n\u001b[1;32m    510\u001b[0m     instruction \u001b[39m=\u001b[39m instruction\u001b[39m.\u001b[39mto_instruction()\n\u001b[0;32m--> 511\u001b[0m op\u001b[39m.\u001b[39;49m_append_instruction(instruction)\n\u001b[1;32m    512\u001b[0m \u001b[39mreturn\u001b[39;00m op\n",
      "File \u001b[0;32m/media/alberto/Volume/Kubuntu/miniconda3/envs/qmatcha/lib/python3.9/site-packages/qiskit/quantum_info/operators/operator.py:580\u001b[0m, in \u001b[0;36mOperator._append_instruction\u001b[0;34m(self, obj, qargs)\u001b[0m\n\u001b[1;32m    578\u001b[0m \u001b[39melse\u001b[39;00m:\n\u001b[1;32m    579\u001b[0m     new_qargs \u001b[39m=\u001b[39m [qargs[bit_indices[tup]] \u001b[39mfor\u001b[39;00m tup \u001b[39min\u001b[39;00m instruction\u001b[39m.\u001b[39mqubits]\n\u001b[0;32m--> 580\u001b[0m \u001b[39mself\u001b[39;49m\u001b[39m.\u001b[39;49m_append_instruction(instruction\u001b[39m.\u001b[39;49moperation, qargs\u001b[39m=\u001b[39;49mnew_qargs)\n",
      "File \u001b[0;32m/media/alberto/Volume/Kubuntu/miniconda3/envs/qmatcha/lib/python3.9/site-packages/qiskit/quantum_info/operators/operator.py:538\u001b[0m, in \u001b[0;36mOperator._append_instruction\u001b[0;34m(self, obj, qargs)\u001b[0m\n\u001b[1;32m    534\u001b[0m mat \u001b[39m=\u001b[39m \u001b[39mself\u001b[39m\u001b[39m.\u001b[39m_instruction_to_matrix(obj)\n\u001b[1;32m    535\u001b[0m \u001b[39mif\u001b[39;00m mat \u001b[39mis\u001b[39;00m \u001b[39mnot\u001b[39;00m \u001b[39mNone\u001b[39;00m:\n\u001b[1;32m    536\u001b[0m     \u001b[39m# Perform the composition and inplace update the current state\u001b[39;00m\n\u001b[1;32m    537\u001b[0m     \u001b[39m# of the operator\u001b[39;00m\n\u001b[0;32m--> 538\u001b[0m     op \u001b[39m=\u001b[39m \u001b[39mself\u001b[39;49m\u001b[39m.\u001b[39;49mcompose(mat, qargs\u001b[39m=\u001b[39;49mqargs)\n\u001b[1;32m    539\u001b[0m     \u001b[39mself\u001b[39m\u001b[39m.\u001b[39m_data \u001b[39m=\u001b[39m op\u001b[39m.\u001b[39mdata\n\u001b[1;32m    540\u001b[0m \u001b[39melif\u001b[39;00m \u001b[39misinstance\u001b[39m(obj, Barrier):\n",
      "File \u001b[0;32m/media/alberto/Volume/Kubuntu/miniconda3/envs/qmatcha/lib/python3.9/site-packages/qiskit/quantum_info/operators/operator.py:324\u001b[0m, in \u001b[0;36mOperator.compose\u001b[0;34m(self, other, qargs, front)\u001b[0m\n\u001b[1;32m    321\u001b[0m indices \u001b[39m=\u001b[39m [num_indices \u001b[39m-\u001b[39m \u001b[39m1\u001b[39m \u001b[39m-\u001b[39m qubit \u001b[39mfor\u001b[39;00m qubit \u001b[39min\u001b[39;00m qargs]\n\u001b[1;32m    322\u001b[0m final_shape \u001b[39m=\u001b[39m [np\u001b[39m.\u001b[39mproduct(output_dims), np\u001b[39m.\u001b[39mproduct(input_dims)]\n\u001b[1;32m    323\u001b[0m data \u001b[39m=\u001b[39m np\u001b[39m.\u001b[39mreshape(\n\u001b[0;32m--> 324\u001b[0m     Operator\u001b[39m.\u001b[39;49m_einsum_matmul(tensor, mat, indices, shift, right_mul), final_shape\n\u001b[1;32m    325\u001b[0m )\n\u001b[1;32m    326\u001b[0m ret \u001b[39m=\u001b[39m Operator(data, input_dims, output_dims)\n\u001b[1;32m    327\u001b[0m ret\u001b[39m.\u001b[39m_op_shape \u001b[39m=\u001b[39m new_shape\n",
      "File \u001b[0;32m/media/alberto/Volume/Kubuntu/miniconda3/envs/qmatcha/lib/python3.9/site-packages/qiskit/quantum_info/operators/operator.py:497\u001b[0m, in \u001b[0;36mOperator._einsum_matmul\u001b[0;34m(cls, tensor, mat, indices, shift, right_mul)\u001b[0m\n\u001b[1;32m    495\u001b[0m \u001b[39melse\u001b[39;00m:\n\u001b[1;32m    496\u001b[0m     indices_mat \u001b[39m=\u001b[39m mat_free \u001b[39m+\u001b[39m mat_contract\n\u001b[0;32m--> 497\u001b[0m \u001b[39mreturn\u001b[39;00m np\u001b[39m.\u001b[39;49meinsum(tensor, indices_tensor, mat, indices_mat)\n",
      "File \u001b[0;32m<__array_function__ internals>:200\u001b[0m, in \u001b[0;36meinsum\u001b[0;34m(*args, **kwargs)\u001b[0m\n",
      "File \u001b[0;32m/media/alberto/Volume/Kubuntu/miniconda3/envs/qmatcha/lib/python3.9/site-packages/numpy/core/einsumfunc.py:1371\u001b[0m, in \u001b[0;36meinsum\u001b[0;34m(out, optimize, *operands, **kwargs)\u001b[0m\n\u001b[1;32m   1369\u001b[0m     \u001b[39mif\u001b[39;00m specified_out:\n\u001b[1;32m   1370\u001b[0m         kwargs[\u001b[39m'\u001b[39m\u001b[39mout\u001b[39m\u001b[39m'\u001b[39m] \u001b[39m=\u001b[39m out\n\u001b[0;32m-> 1371\u001b[0m     \u001b[39mreturn\u001b[39;00m c_einsum(\u001b[39m*\u001b[39;49moperands, \u001b[39m*\u001b[39;49m\u001b[39m*\u001b[39;49mkwargs)\n\u001b[1;32m   1373\u001b[0m \u001b[39m# Check the kwargs to avoid a more cryptic error later, without having to\u001b[39;00m\n\u001b[1;32m   1374\u001b[0m \u001b[39m# repeat default values here\u001b[39;00m\n\u001b[1;32m   1375\u001b[0m valid_einsum_kwargs \u001b[39m=\u001b[39m [\u001b[39m'\u001b[39m\u001b[39mdtype\u001b[39m\u001b[39m'\u001b[39m, \u001b[39m'\u001b[39m\u001b[39morder\u001b[39m\u001b[39m'\u001b[39m, \u001b[39m'\u001b[39m\u001b[39mcasting\u001b[39m\u001b[39m'\u001b[39m]\n",
      "\u001b[0;31mKeyboardInterrupt\u001b[0m: "
     ]
    }
   ],
   "source": [
    "qi.Operator(qc)"
   ]
  },
  {
   "cell_type": "code",
   "execution_count": 8,
   "metadata": {},
   "outputs": [
    {
     "ename": "KeyboardInterrupt",
     "evalue": "",
     "output_type": "error",
     "traceback": [
      "\u001b[0;31m---------------------------------------------------------------------------\u001b[0m",
      "\u001b[0;31mKeyboardInterrupt\u001b[0m                         Traceback (most recent call last)",
      "Cell \u001b[0;32mIn[8], line 3\u001b[0m\n\u001b[1;32m      1\u001b[0m \u001b[39m# optimize circuit\u001b[39;00m\n\u001b[1;32m      2\u001b[0m qk_params \u001b[39m=\u001b[39m qk_transpilation_params(optimization\u001b[39m=\u001b[39m\u001b[39m3\u001b[39m, basis_gates\u001b[39m=\u001b[39m[\u001b[39m'\u001b[39m\u001b[39mx\u001b[39m\u001b[39m'\u001b[39m, \u001b[39m'\u001b[39m\u001b[39my\u001b[39m\u001b[39m'\u001b[39m, \u001b[39m'\u001b[39m\u001b[39mz\u001b[39m\u001b[39m'\u001b[39m, \u001b[39m'\u001b[39m\u001b[39mh\u001b[39m\u001b[39m'\u001b[39m, \u001b[39m'\u001b[39m\u001b[39mcx\u001b[39m\u001b[39m'\u001b[39m, \u001b[39m'\u001b[39m\u001b[39mcy\u001b[39m\u001b[39m'\u001b[39m, \u001b[39m'\u001b[39m\u001b[39mcz\u001b[39m\u001b[39m'\u001b[39m, \u001b[39m'\u001b[39m\u001b[39mp\u001b[39m\u001b[39m'\u001b[39m, \u001b[39m'\u001b[39m\u001b[39mcp\u001b[39m\u001b[39m'\u001b[39m, \u001b[39m'\u001b[39m\u001b[39mr\u001b[39m\u001b[39m'\u001b[39m, \u001b[39m'\u001b[39m\u001b[39mcr\u001b[39m\u001b[39m'\u001b[39m, \u001b[39m'\u001b[39m\u001b[39mu1\u001b[39m\u001b[39m'\u001b[39m, \u001b[39m'\u001b[39m\u001b[39mu2\u001b[39m\u001b[39m'\u001b[39m, \u001b[39m'\u001b[39m\u001b[39mu3\u001b[39m\u001b[39m'\u001b[39m, \u001b[39m'\u001b[39m\u001b[39mcu\u001b[39m\u001b[39m'\u001b[39m, \u001b[39m'\u001b[39m\u001b[39mu\u001b[39m\u001b[39m'\u001b[39m, \u001b[39m'\u001b[39m\u001b[39mcnot\u001b[39m\u001b[39m'\u001b[39m])\n\u001b[0;32m----> 3\u001b[0m qc_opt \u001b[39m=\u001b[39m preprocess(qc, qk_params\u001b[39m=\u001b[39;49mqk_params)\n\u001b[1;32m      4\u001b[0m qc_opt\u001b[39m.\u001b[39mdepth()\n",
      "File \u001b[0;32m/media/alberto/Volume/Kubuntu/miniconda3/envs/qmatcha/lib/python3.9/site-packages/qmatchatea/preprocessing.py:552\u001b[0m, in \u001b[0;36mpreprocess\u001b[0;34m(circ, **kwargs)\u001b[0m\n\u001b[1;32m    529\u001b[0m \u001b[39m\u001b[39m\u001b[39m\"\"\"\u001b[39;00m\n\u001b[1;32m    530\u001b[0m \u001b[39m    Interface for the preprocessing of qiskit and strawberry fields\u001b[39;00m\n\u001b[1;32m    531\u001b[0m \n\u001b[0;32m   (...)\u001b[0m\n\u001b[1;32m    548\u001b[0m \u001b[39m        Preprocessed quantum circuit instance\u001b[39;00m\n\u001b[1;32m    549\u001b[0m \u001b[39m\"\"\"\u001b[39;00m\n\u001b[1;32m    551\u001b[0m \u001b[39mif\u001b[39;00m \u001b[39misinstance\u001b[39m(circ, QuantumCircuit):\n\u001b[0;32m--> 552\u001b[0m     preprocessed_circ \u001b[39m=\u001b[39m _preprocess_qk(circ, \u001b[39m*\u001b[39;49m\u001b[39m*\u001b[39;49mkwargs)\n\u001b[1;32m    553\u001b[0m \u001b[39melif\u001b[39;00m SF_IS_IMPORTED \u001b[39mand\u001b[39;00m \u001b[39misinstance\u001b[39m(circ, Program):\n\u001b[1;32m    554\u001b[0m     preprocessed_circ \u001b[39m=\u001b[39m _preprocess_sf(circ)\n",
      "File \u001b[0;32m/media/alberto/Volume/Kubuntu/miniconda3/envs/qmatcha/lib/python3.9/site-packages/qmatchatea/preprocessing.py:472\u001b[0m, in \u001b[0;36m_preprocess_qk\u001b[0;34m(qc, qk_params)\u001b[0m\n\u001b[1;32m    470\u001b[0m \u001b[39m# Transpile the circuit\u001b[39;00m\n\u001b[1;32m    471\u001b[0m \u001b[39mif\u001b[39;00m \u001b[39mlen\u001b[39m(basis_gates) \u001b[39m>\u001b[39m \u001b[39m0\u001b[39m \u001b[39mand\u001b[39;00m qk_params\u001b[39m.\u001b[39mlinearize:\n\u001b[0;32m--> 472\u001b[0m     linear_qc \u001b[39m=\u001b[39m transpile(\n\u001b[1;32m    473\u001b[0m         qc,\n\u001b[1;32m    474\u001b[0m         coupling_map\u001b[39m=\u001b[39;49mlinear_map,\n\u001b[1;32m    475\u001b[0m         optimization_level\u001b[39m=\u001b[39;49mqk_params\u001b[39m.\u001b[39;49moptimization,\n\u001b[1;32m    476\u001b[0m         basis_gates\u001b[39m=\u001b[39;49mbasis_gates,\n\u001b[1;32m    477\u001b[0m         initial_layout\u001b[39m=\u001b[39;49m\u001b[39mlist\u001b[39;49m(\u001b[39mrange\u001b[39;49m(n_qub)),\n\u001b[1;32m    478\u001b[0m     )\n\u001b[1;32m    479\u001b[0m \u001b[39melif\u001b[39;00m \u001b[39mlen\u001b[39m(basis_gates) \u001b[39m==\u001b[39m \u001b[39m0\u001b[39m \u001b[39mand\u001b[39;00m qk_params\u001b[39m.\u001b[39mlinearize:\n\u001b[1;32m    480\u001b[0m     linear_qc \u001b[39m=\u001b[39m transpile(\n\u001b[1;32m    481\u001b[0m         qc,\n\u001b[1;32m    482\u001b[0m         coupling_map\u001b[39m=\u001b[39mlinear_map,\n\u001b[1;32m    483\u001b[0m         optimization_level\u001b[39m=\u001b[39mqk_params\u001b[39m.\u001b[39moptimization,\n\u001b[1;32m    484\u001b[0m         initial_layout\u001b[39m=\u001b[39m\u001b[39mlist\u001b[39m(\u001b[39mrange\u001b[39m(n_qub)),\n\u001b[1;32m    485\u001b[0m     )\n",
      "File \u001b[0;32m/media/alberto/Volume/Kubuntu/miniconda3/envs/qmatcha/lib/python3.9/site-packages/qiskit/compiler/transpiler.py:341\u001b[0m, in \u001b[0;36mtranspile\u001b[0;34m(circuits, backend, basis_gates, inst_map, coupling_map, backend_properties, initial_layout, layout_method, routing_method, translation_method, scheduling_method, instruction_durations, dt, approximation_degree, timing_constraints, seed_transpiler, optimization_level, callback, output_name, unitary_synthesis_method, unitary_synthesis_plugin_config, target)\u001b[0m\n\u001b[1;32m    338\u001b[0m     \u001b[39mfor\u001b[39;00m circuit, unique_args \u001b[39min\u001b[39;00m \u001b[39mzip\u001b[39m(circuits, unique_transpile_args):\n\u001b[1;32m    339\u001b[0m         transpile_config, pass_manager \u001b[39m=\u001b[39m _combine_args(shared_args, unique_args)\n\u001b[1;32m    340\u001b[0m         output_circuits\u001b[39m.\u001b[39mappend(\n\u001b[0;32m--> 341\u001b[0m             _serial_transpile_circuit(\n\u001b[1;32m    342\u001b[0m                 circuit,\n\u001b[1;32m    343\u001b[0m                 pass_manager,\n\u001b[1;32m    344\u001b[0m                 transpile_config[\u001b[39m\"\u001b[39;49m\u001b[39mcallback\u001b[39;49m\u001b[39m\"\u001b[39;49m],\n\u001b[1;32m    345\u001b[0m                 transpile_config[\u001b[39m\"\u001b[39;49m\u001b[39moutput_name\u001b[39;49m\u001b[39m\"\u001b[39;49m],\n\u001b[1;32m    346\u001b[0m                 transpile_config[\u001b[39m\"\u001b[39;49m\u001b[39mbackend_num_qubits\u001b[39;49m\u001b[39m\"\u001b[39;49m],\n\u001b[1;32m    347\u001b[0m                 transpile_config[\u001b[39m\"\u001b[39;49m\u001b[39mfaulty_qubits_map\u001b[39;49m\u001b[39m\"\u001b[39;49m],\n\u001b[1;32m    348\u001b[0m                 transpile_config[\u001b[39m\"\u001b[39;49m\u001b[39mpass_manager_config\u001b[39;49m\u001b[39m\"\u001b[39;49m]\u001b[39m.\u001b[39;49mbackend_properties,\n\u001b[1;32m    349\u001b[0m             )\n\u001b[1;32m    350\u001b[0m         )\n\u001b[1;32m    351\u001b[0m     circuits \u001b[39m=\u001b[39m output_circuits\n\u001b[1;32m    352\u001b[0m end_time \u001b[39m=\u001b[39m time()\n",
      "File \u001b[0;32m/media/alberto/Volume/Kubuntu/miniconda3/envs/qmatcha/lib/python3.9/site-packages/qiskit/compiler/transpiler.py:434\u001b[0m, in \u001b[0;36m_serial_transpile_circuit\u001b[0;34m(circuit, pass_manager, callback, output_name, num_qubits, faulty_qubits_map, backend_prop)\u001b[0m\n\u001b[1;32m    425\u001b[0m \u001b[39mdef\u001b[39;00m \u001b[39m_serial_transpile_circuit\u001b[39m(\n\u001b[1;32m    426\u001b[0m     circuit,\n\u001b[1;32m    427\u001b[0m     pass_manager,\n\u001b[0;32m   (...)\u001b[0m\n\u001b[1;32m    432\u001b[0m     backend_prop\u001b[39m=\u001b[39m\u001b[39mNone\u001b[39;00m,\n\u001b[1;32m    433\u001b[0m ):\n\u001b[0;32m--> 434\u001b[0m     result \u001b[39m=\u001b[39m pass_manager\u001b[39m.\u001b[39;49mrun(circuit, callback\u001b[39m=\u001b[39;49mcallback, output_name\u001b[39m=\u001b[39;49moutput_name)\n\u001b[1;32m    435\u001b[0m     \u001b[39mif\u001b[39;00m faulty_qubits_map:\n\u001b[1;32m    436\u001b[0m         \u001b[39mreturn\u001b[39;00m _remap_circuit_faulty_backend(\n\u001b[1;32m    437\u001b[0m             result,\n\u001b[1;32m    438\u001b[0m             num_qubits,\n\u001b[1;32m    439\u001b[0m             backend_prop,\n\u001b[1;32m    440\u001b[0m             faulty_qubits_map,\n\u001b[1;32m    441\u001b[0m         )\n",
      "File \u001b[0;32m/media/alberto/Volume/Kubuntu/miniconda3/envs/qmatcha/lib/python3.9/site-packages/qiskit/transpiler/passmanager.py:511\u001b[0m, in \u001b[0;36mStagedPassManager.run\u001b[0;34m(self, circuits, output_name, callback)\u001b[0m\n\u001b[1;32m    504\u001b[0m \u001b[39mdef\u001b[39;00m \u001b[39mrun\u001b[39m(\n\u001b[1;32m    505\u001b[0m     \u001b[39mself\u001b[39m,\n\u001b[1;32m    506\u001b[0m     circuits: Union[QuantumCircuit, List[QuantumCircuit]],\n\u001b[1;32m    507\u001b[0m     output_name: \u001b[39mstr\u001b[39m \u001b[39m=\u001b[39m \u001b[39mNone\u001b[39;00m,\n\u001b[1;32m    508\u001b[0m     callback: Callable \u001b[39m=\u001b[39m \u001b[39mNone\u001b[39;00m,\n\u001b[1;32m    509\u001b[0m ) \u001b[39m-\u001b[39m\u001b[39m>\u001b[39m Union[QuantumCircuit, List[QuantumCircuit]]:\n\u001b[1;32m    510\u001b[0m     \u001b[39mself\u001b[39m\u001b[39m.\u001b[39m_update_passmanager()\n\u001b[0;32m--> 511\u001b[0m     \u001b[39mreturn\u001b[39;00m \u001b[39msuper\u001b[39;49m()\u001b[39m.\u001b[39;49mrun(circuits, output_name, callback)\n",
      "File \u001b[0;32m/media/alberto/Volume/Kubuntu/miniconda3/envs/qmatcha/lib/python3.9/site-packages/qiskit/transpiler/passmanager.py:224\u001b[0m, in \u001b[0;36mPassManager.run\u001b[0;34m(self, circuits, output_name, callback)\u001b[0m\n\u001b[1;32m    222\u001b[0m     \u001b[39mreturn\u001b[39;00m circuits\n\u001b[1;32m    223\u001b[0m \u001b[39mif\u001b[39;00m \u001b[39misinstance\u001b[39m(circuits, QuantumCircuit):\n\u001b[0;32m--> 224\u001b[0m     \u001b[39mreturn\u001b[39;00m \u001b[39mself\u001b[39;49m\u001b[39m.\u001b[39;49m_run_single_circuit(circuits, output_name, callback)\n\u001b[1;32m    225\u001b[0m \u001b[39mif\u001b[39;00m \u001b[39mlen\u001b[39m(circuits) \u001b[39m==\u001b[39m \u001b[39m1\u001b[39m:\n\u001b[1;32m    226\u001b[0m     \u001b[39mreturn\u001b[39;00m \u001b[39mself\u001b[39m\u001b[39m.\u001b[39m_run_single_circuit(circuits[\u001b[39m0\u001b[39m], output_name, callback)\n",
      "File \u001b[0;32m/media/alberto/Volume/Kubuntu/miniconda3/envs/qmatcha/lib/python3.9/site-packages/qiskit/transpiler/passmanager.py:279\u001b[0m, in \u001b[0;36mPassManager._run_single_circuit\u001b[0;34m(self, circuit, output_name, callback)\u001b[0m\n\u001b[1;32m    267\u001b[0m \u001b[39m\u001b[39m\u001b[39m\"\"\"Run all the passes on a ``circuit``.\u001b[39;00m\n\u001b[1;32m    268\u001b[0m \n\u001b[1;32m    269\u001b[0m \u001b[39mArgs:\u001b[39;00m\n\u001b[0;32m   (...)\u001b[0m\n\u001b[1;32m    276\u001b[0m \u001b[39m    The transformed circuit.\u001b[39;00m\n\u001b[1;32m    277\u001b[0m \u001b[39m\"\"\"\u001b[39;00m\n\u001b[1;32m    278\u001b[0m running_passmanager \u001b[39m=\u001b[39m \u001b[39mself\u001b[39m\u001b[39m.\u001b[39m_create_running_passmanager()\n\u001b[0;32m--> 279\u001b[0m result \u001b[39m=\u001b[39m running_passmanager\u001b[39m.\u001b[39;49mrun(circuit, output_name\u001b[39m=\u001b[39;49moutput_name, callback\u001b[39m=\u001b[39;49mcallback)\n\u001b[1;32m    280\u001b[0m \u001b[39mself\u001b[39m\u001b[39m.\u001b[39mproperty_set \u001b[39m=\u001b[39m running_passmanager\u001b[39m.\u001b[39mproperty_set\n\u001b[1;32m    281\u001b[0m \u001b[39mreturn\u001b[39;00m result\n",
      "File \u001b[0;32m/media/alberto/Volume/Kubuntu/miniconda3/envs/qmatcha/lib/python3.9/site-packages/qiskit/transpiler/runningpassmanager.py:124\u001b[0m, in \u001b[0;36mRunningPassManager.run\u001b[0;34m(***failed resolving arguments***)\u001b[0m\n\u001b[1;32m    122\u001b[0m \u001b[39mfor\u001b[39;00m passset \u001b[39min\u001b[39;00m \u001b[39mself\u001b[39m\u001b[39m.\u001b[39mworking_list:\n\u001b[1;32m    123\u001b[0m     \u001b[39mfor\u001b[39;00m pass_ \u001b[39min\u001b[39;00m passset:\n\u001b[0;32m--> 124\u001b[0m         dag \u001b[39m=\u001b[39m \u001b[39mself\u001b[39;49m\u001b[39m.\u001b[39;49m_do_pass(pass_, dag, passset\u001b[39m.\u001b[39;49moptions)\n\u001b[1;32m    126\u001b[0m circuit \u001b[39m=\u001b[39m dag_to_circuit(dag)\n\u001b[1;32m    127\u001b[0m \u001b[39mif\u001b[39;00m output_name:\n",
      "File \u001b[0;32m/media/alberto/Volume/Kubuntu/miniconda3/envs/qmatcha/lib/python3.9/site-packages/qiskit/transpiler/runningpassmanager.py:163\u001b[0m, in \u001b[0;36mRunningPassManager._do_pass\u001b[0;34m(self, pass_, dag, options)\u001b[0m\n\u001b[1;32m    160\u001b[0m \u001b[39mif\u001b[39;00m \u001b[39misinstance\u001b[39m(pass_, BasePass):\n\u001b[1;32m    161\u001b[0m     \u001b[39m# First, do the requires of pass_\u001b[39;00m\n\u001b[1;32m    162\u001b[0m     \u001b[39mfor\u001b[39;00m required_pass \u001b[39min\u001b[39;00m pass_\u001b[39m.\u001b[39mrequires:\n\u001b[0;32m--> 163\u001b[0m         dag \u001b[39m=\u001b[39m \u001b[39mself\u001b[39;49m\u001b[39m.\u001b[39;49m_do_pass(required_pass, dag, options)\n\u001b[1;32m    165\u001b[0m     \u001b[39m# Run the pass itself, if not already run\u001b[39;00m\n\u001b[1;32m    166\u001b[0m     \u001b[39mif\u001b[39;00m pass_ \u001b[39mnot\u001b[39;00m \u001b[39min\u001b[39;00m \u001b[39mself\u001b[39m\u001b[39m.\u001b[39mvalid_passes:\n",
      "File \u001b[0;32m/media/alberto/Volume/Kubuntu/miniconda3/envs/qmatcha/lib/python3.9/site-packages/qiskit/transpiler/runningpassmanager.py:167\u001b[0m, in \u001b[0;36mRunningPassManager._do_pass\u001b[0;34m(self, pass_, dag, options)\u001b[0m\n\u001b[1;32m    165\u001b[0m \u001b[39m# Run the pass itself, if not already run\u001b[39;00m\n\u001b[1;32m    166\u001b[0m \u001b[39mif\u001b[39;00m pass_ \u001b[39mnot\u001b[39;00m \u001b[39min\u001b[39;00m \u001b[39mself\u001b[39m\u001b[39m.\u001b[39mvalid_passes:\n\u001b[0;32m--> 167\u001b[0m     dag \u001b[39m=\u001b[39m \u001b[39mself\u001b[39;49m\u001b[39m.\u001b[39;49m_run_this_pass(pass_, dag)\n\u001b[1;32m    169\u001b[0m     \u001b[39m# update the valid_passes property\u001b[39;00m\n\u001b[1;32m    170\u001b[0m     \u001b[39mself\u001b[39m\u001b[39m.\u001b[39m_update_valid_passes(pass_)\n",
      "File \u001b[0;32m/media/alberto/Volume/Kubuntu/miniconda3/envs/qmatcha/lib/python3.9/site-packages/qiskit/transpiler/runningpassmanager.py:221\u001b[0m, in \u001b[0;36mRunningPassManager._run_this_pass\u001b[0;34m(self, pass_, dag)\u001b[0m\n\u001b[1;32m    218\u001b[0m \u001b[39melif\u001b[39;00m pass_\u001b[39m.\u001b[39mis_analysis_pass:\n\u001b[1;32m    219\u001b[0m     \u001b[39m# Measure time if we have a callback or logging set\u001b[39;00m\n\u001b[1;32m    220\u001b[0m     start_time \u001b[39m=\u001b[39m time()\n\u001b[0;32m--> 221\u001b[0m     pass_\u001b[39m.\u001b[39;49mrun(FencedDAGCircuit(dag))\n\u001b[1;32m    222\u001b[0m     end_time \u001b[39m=\u001b[39m time()\n\u001b[1;32m    223\u001b[0m     run_time \u001b[39m=\u001b[39m end_time \u001b[39m-\u001b[39m start_time\n",
      "File \u001b[0;32m/media/alberto/Volume/Kubuntu/miniconda3/envs/qmatcha/lib/python3.9/site-packages/qiskit/transpiler/passes/optimization/commutation_analysis.py:77\u001b[0m, in \u001b[0;36mCommutationAnalysis.run\u001b[0;34m(self, dag)\u001b[0m\n\u001b[1;32m     75\u001b[0m does_commute \u001b[39m=\u001b[39m \u001b[39mFalse\u001b[39;00m\n\u001b[1;32m     76\u001b[0m \u001b[39mtry\u001b[39;00m:\n\u001b[0;32m---> 77\u001b[0m     does_commute \u001b[39m=\u001b[39m _commute(current_gate, prev_gate, \u001b[39mself\u001b[39;49m\u001b[39m.\u001b[39;49mcache)\n\u001b[1;32m     78\u001b[0m \u001b[39mexcept\u001b[39;00m TranspilerError:\n\u001b[1;32m     79\u001b[0m     \u001b[39mpass\u001b[39;00m\n",
      "File \u001b[0;32m/media/alberto/Volume/Kubuntu/miniconda3/envs/qmatcha/lib/python3.9/site-packages/qiskit/transpiler/passes/optimization/commutation_analysis.py:145\u001b[0m, in \u001b[0;36m_commute\u001b[0;34m(node1, node2, cache)\u001b[0m\n\u001b[1;32m    141\u001b[0m node2_key \u001b[39m=\u001b[39m (node2\u001b[39m.\u001b[39mop\u001b[39m.\u001b[39mname, _hashable_parameters(node2\u001b[39m.\u001b[39mop\u001b[39m.\u001b[39mparams), qarg2)\n\u001b[1;32m    142\u001b[0m \u001b[39mtry\u001b[39;00m:\n\u001b[1;32m    143\u001b[0m     \u001b[39m# We only need to try one orientation of the keys, since if we've seen the compound key\u001b[39;00m\n\u001b[1;32m    144\u001b[0m     \u001b[39m# before, we've set it in both orientations.\u001b[39;00m\n\u001b[0;32m--> 145\u001b[0m     \u001b[39mreturn\u001b[39;00m cache[node1_key, node2_key]\n\u001b[1;32m    146\u001b[0m \u001b[39mexcept\u001b[39;00m \u001b[39mKeyError\u001b[39;00m:\n\u001b[1;32m    147\u001b[0m     \u001b[39mpass\u001b[39;00m\n",
      "File \u001b[0;32m/media/alberto/Volume/Kubuntu/miniconda3/envs/qmatcha/lib/python3.9/site-packages/qiskit/circuit/parameterexpression.py:501\u001b[0m, in \u001b[0;36mParameterExpression.__eq__\u001b[0;34m(self, other)\u001b[0m\n\u001b[1;32m    498\u001b[0m \u001b[39mif\u001b[39;00m _optionals\u001b[39m.\u001b[39mHAS_SYMENGINE:\n\u001b[1;32m    499\u001b[0m     \u001b[39mfrom\u001b[39;00m \u001b[39msympy\u001b[39;00m \u001b[39mimport\u001b[39;00m sympify\n\u001b[0;32m--> 501\u001b[0m     \u001b[39mreturn\u001b[39;00m sympify(\u001b[39mself\u001b[39m\u001b[39m.\u001b[39m_symbol_expr)\u001b[39m.\u001b[39mequals(sympify(other\u001b[39m.\u001b[39;49m_symbol_expr))\n\u001b[1;32m    502\u001b[0m \u001b[39melse\u001b[39;00m:\n\u001b[1;32m    503\u001b[0m     \u001b[39mreturn\u001b[39;00m \u001b[39mself\u001b[39m\u001b[39m.\u001b[39m_symbol_expr\u001b[39m.\u001b[39mequals(other\u001b[39m.\u001b[39m_symbol_expr)\n",
      "File \u001b[0;32m/media/alberto/Volume/Kubuntu/miniconda3/envs/qmatcha/lib/python3.9/site-packages/sympy/core/sympify.py:406\u001b[0m, in \u001b[0;36msympify\u001b[0;34m(a, locals, convert_xor, strict, rational, evaluate)\u001b[0m\n\u001b[1;32m    404\u001b[0m \u001b[39mif\u001b[39;00m _sympy_ \u001b[39mis\u001b[39;00m \u001b[39mnot\u001b[39;00m \u001b[39mNone\u001b[39;00m:\n\u001b[1;32m    405\u001b[0m     \u001b[39mtry\u001b[39;00m:\n\u001b[0;32m--> 406\u001b[0m         \u001b[39mreturn\u001b[39;00m a\u001b[39m.\u001b[39;49m_sympy_()\n\u001b[1;32m    407\u001b[0m     \u001b[39m# XXX: Catches AttributeError: 'SymPyConverter' object has no\u001b[39;00m\n\u001b[1;32m    408\u001b[0m     \u001b[39m# attribute 'tuple'\u001b[39;00m\n\u001b[1;32m    409\u001b[0m     \u001b[39m# This is probably a bug somewhere but for now we catch it here.\u001b[39;00m\n\u001b[1;32m    410\u001b[0m     \u001b[39mexcept\u001b[39;00m \u001b[39mAttributeError\u001b[39;00m:\n",
      "File \u001b[0;32msymengine_wrapper.pyx:1905\u001b[0m, in \u001b[0;36msymengine.lib.symengine_wrapper.RealDouble._sympy_\u001b[0;34m()\u001b[0m\n",
      "File \u001b[0;32m/media/alberto/Volume/Kubuntu/miniconda3/envs/qmatcha/lib/python3.9/site-packages/sympy/core/numbers.py:1085\u001b[0m, in \u001b[0;36mFloat.__new__\u001b[0;34m(cls, num, dps, precision)\u001b[0m\n\u001b[1;32m   1083\u001b[0m \u001b[39melse\u001b[39;00m:\n\u001b[1;32m   1084\u001b[0m     isint \u001b[39m=\u001b[39m \u001b[39m'\u001b[39m\u001b[39m.\u001b[39m\u001b[39m'\u001b[39m \u001b[39mnot\u001b[39;00m \u001b[39min\u001b[39;00m num\n\u001b[0;32m-> 1085\u001b[0m     num, dps \u001b[39m=\u001b[39m _decimal_to_Rational_prec(Num)\n\u001b[1;32m   1086\u001b[0m     \u001b[39mif\u001b[39;00m num\u001b[39m.\u001b[39mis_Integer \u001b[39mand\u001b[39;00m isint:\n\u001b[1;32m   1087\u001b[0m         dps \u001b[39m=\u001b[39m \u001b[39mmax\u001b[39m(dps, \u001b[39mlen\u001b[39m(\u001b[39mstr\u001b[39m(num)\u001b[39m.\u001b[39mlstrip(\u001b[39m'\u001b[39m\u001b[39m-\u001b[39m\u001b[39m'\u001b[39m)))\n",
      "File \u001b[0;32m/media/alberto/Volume/Kubuntu/miniconda3/envs/qmatcha/lib/python3.9/site-packages/sympy/core/numbers.py:216\u001b[0m, in \u001b[0;36m_decimal_to_Rational_prec\u001b[0;34m(dec)\u001b[0m\n\u001b[1;32m    214\u001b[0m     s \u001b[39m=\u001b[39m (\u001b[39m-\u001b[39m\u001b[39m1\u001b[39m)\u001b[39m*\u001b[39m\u001b[39m*\u001b[39ms\n\u001b[1;32m    215\u001b[0m     d \u001b[39m=\u001b[39m \u001b[39msum\u001b[39m([di\u001b[39m*\u001b[39m\u001b[39m10\u001b[39m\u001b[39m*\u001b[39m\u001b[39m*\u001b[39mi \u001b[39mfor\u001b[39;00m i, di \u001b[39min\u001b[39;00m \u001b[39menumerate\u001b[39m(\u001b[39mreversed\u001b[39m(d))])\n\u001b[0;32m--> 216\u001b[0m     rv \u001b[39m=\u001b[39m Rational(s\u001b[39m*\u001b[39md, \u001b[39m10\u001b[39;49m\u001b[39m*\u001b[39;49m\u001b[39m*\u001b[39;49m\u001b[39m-\u001b[39;49me)\n\u001b[1;32m    217\u001b[0m \u001b[39mreturn\u001b[39;00m rv, prec\n",
      "\u001b[0;31mKeyboardInterrupt\u001b[0m: "
     ]
    }
   ],
   "source": [
    "# optimize circuit\n",
    "qk_params = qk_transpilation_params(optimization=3, basis_gates=['x', 'y', 'z', 'h', 'cx', 'cy', 'cz', 'p', 'cp', 'r', 'cr', 'u1', 'u2', 'u3', 'cu', 'u', 'cnot'])\n",
    "qc_opt = preprocess(qc, qk_params=qk_params)\n",
    "qc_opt.depth()"
   ]
  },
  {
   "cell_type": "code",
   "execution_count": 49,
   "metadata": {},
   "outputs": [],
   "source": [
    "operators = QCOperators()\n",
    "sigma_z = np.array([[1, 0], [0, -1]])\n",
    "operators.ops[\"sz\"] = sigma_z"
   ]
  },
  {
   "cell_type": "code",
   "execution_count": 6,
   "metadata": {},
   "outputs": [],
   "source": [
    "observables = TNObservables()\n",
    "observables += obs.TNState2File(\"state.txt\", \"F\")\n",
    "observables += obs.TNObsLocal('label', 'sx')"
   ]
  },
  {
   "cell_type": "code",
   "execution_count": 69,
   "metadata": {},
   "outputs": [],
   "source": [
    "backend = QCBackend(\n",
    "    backend=\"PY\", precision=\"Z\", device=\"gpu\", num_procs=1, mpi_approach=\"SR\"\n",
    ")\n",
    "\n",
    "\n",
    "conv_params = QCConvergenceParameters(max_bond_dimension=10)\n",
    "results = run_py_simulation(\n",
    "    qc_opt,\n",
    "    convergence_parameters=conv_params,\n",
    "    observables=observables,\n",
    "    backend=backend,\n",
    ")\n",
    "observable_measures = results.observables"
   ]
  },
  {
   "cell_type": "code",
   "execution_count": 5,
   "metadata": {},
   "outputs": [
    {
     "data": {
      "text/plain": [
       "{'mps_state': [array([[[-0.70710678+0.j],\n",
       "          [-0.70710678+0.j]]]),\n",
       "  array([[[-0.70710678+0.j],\n",
       "          [-0.70710678+0.j]]]),\n",
       "  array([[[-0.70710678+0.j],\n",
       "          [-0.70710678+0.j]]]),\n",
       "  array([[[-0.70710678+0.j],\n",
       "          [-0.70710678+0.j]]]),\n",
       "  array([[[-0.70710678+0.j],\n",
       "          [-0.70710678+0.j]]]),\n",
       "  array([[[-0.70710678+0.j],\n",
       "          [-0.70710678+0.j]]]),\n",
       "  array([[[-0.70710678+0.j],\n",
       "          [-0.70710678+0.j]]]),\n",
       "  array([[[-0.70710678+0.j],\n",
       "          [-0.70710678+0.j]]]),\n",
       "  array([[[-0.70710678+0.j],\n",
       "          [-0.70710678+0.j]]]),\n",
       "  array([[[-0.70710678+0.j],\n",
       "          [-0.70710678+0.j]]])],\n",
       " 'time': 1.0490984916687012,\n",
       " 'energy': None,\n",
       " 'norm': array(1.),\n",
       " 'projective_measurements': {}}"
      ]
     },
     "execution_count": 5,
     "metadata": {},
     "output_type": "execute_result"
    }
   ],
   "source": [
    "observable_measures"
   ]
  },
  {
   "attachments": {},
   "cell_type": "markdown",
   "metadata": {},
   "source": [
    "## Using Qcircuit"
   ]
  },
  {
   "cell_type": "code",
   "execution_count": 6,
   "metadata": {},
   "outputs": [],
   "source": [
    "qc = Qcircuit(num_qubits)\n",
    "# prepare initial state\n",
    "for i in range(num_qubits):\n",
    "\n",
    "    qc.h(i)\n",
    "\n",
    "for p in range(P):\n",
    "    frac  = (p+1)/P\n",
    "    beta  = (1-frac)*dt\n",
    "    gamma = frac*dt\n",
    "\n",
    "    Uz = np.exp(-1.j*gamma*np.diag(h_perc), dtype='complex128')\n",
    "    op = np.diag(Uz)\n",
    "\n",
    "    qc.gate(op, [i for i in range(num_qubits)])\n",
    "\n",
    "    for i in range(num_qubits):\n",
    "\n",
    "        qc.h(i)\n",
    "        qc.p(-2*beta, i)\n",
    "        qc.h(i)\n",
    "\n",
    "\n",
    "\n",
    "#qc.draw()"
   ]
  },
  {
   "cell_type": "code",
   "execution_count": 48,
   "metadata": {},
   "outputs": [
    {
     "data": {
      "text/plain": [
       "array([[-0.00072327-7.63608301e-03j,  0.009846  +3.82786450e-03j,\n",
       "         0.00696446-5.75464708e-03j, ..., -0.00250887+2.33970760e-03j,\n",
       "        -0.00372461+4.65269789e-03j, -0.00204303-1.69936765e-03j],\n",
       "       [ 0.00488685-1.85576418e-03j, -0.0007315 +7.15873578e-04j,\n",
       "         0.0043101 -3.54678077e-03j, ...,  0.00406221-4.56790528e-03j,\n",
       "         0.00396828+2.46609134e-03j,  0.00613295+1.52780936e-03j],\n",
       "       [ 0.00895617-4.93120436e-03j,  0.00737681+2.46742795e-02j,\n",
       "         0.00679449-1.15536879e-02j, ..., -0.00185472+1.18866646e-03j,\n",
       "         0.00151323+3.95051245e-03j, -0.00033909+2.95715506e-03j],\n",
       "       ...,\n",
       "       [ 0.00027635-9.09034469e-04j, -0.00135225-9.25100170e-04j,\n",
       "         0.00069297+6.34016552e-04j, ..., -0.00379365+4.80123709e-03j,\n",
       "        -0.00282146-7.32101464e-03j, -0.00334134-5.51750427e-04j],\n",
       "       [-0.0002377 -8.19184374e-04j, -0.00099469-3.99071339e-04j,\n",
       "        -0.00058063-1.17185806e-03j, ..., -0.01396254+1.10087606e-02j,\n",
       "         0.01195201+6.93376802e-03j, -0.00170949+1.00095464e-02j],\n",
       "       [ 0.00097161-2.56549489e-03j, -0.00276936-2.55637963e-03j,\n",
       "        -0.00243937-6.79094246e-05j, ...,  0.00099858+2.52417056e-03j,\n",
       "         0.00068875+2.10167301e-03j,  0.00119582+1.14071474e-03j]])"
      ]
     },
     "execution_count": 48,
     "metadata": {},
     "output_type": "execute_result"
    }
   ],
   "source": [
    "qc.to_matrix()"
   ]
  },
  {
   "cell_type": "code",
   "execution_count": 30,
   "metadata": {},
   "outputs": [
    {
     "data": {
      "text/plain": [
       "array([[-0.01034234-0.99994652j,  0.        +0.j        ,\n",
       "         0.        +0.j        , ...,  0.        +0.j        ,\n",
       "         0.        +0.j        ,  0.        +0.j        ],\n",
       "       [ 0.        +0.j        , -0.32079639-0.94714818j,\n",
       "         0.        +0.j        , ...,  0.        +0.j        ,\n",
       "         0.        +0.j        ,  0.        +0.j        ],\n",
       "       [ 0.        +0.j        ,  0.        +0.j        ,\n",
       "         0.30113747-0.95358074j, ...,  0.        +0.j        ,\n",
       "         0.        +0.j        ,  0.        +0.j        ],\n",
       "       ...,\n",
       "       [ 0.        +0.j        ,  0.        +0.j        ,\n",
       "         0.        +0.j        , ..., -0.59943745-0.8004216j ,\n",
       "         0.        +0.j        ,  0.        +0.j        ],\n",
       "       [ 0.        +0.j        ,  0.        +0.j        ,\n",
       "         0.        +0.j        , ...,  0.        +0.j        ,\n",
       "        -0.95664417-0.29125922j,  0.        +0.j        ],\n",
       "       [ 0.        +0.j        ,  0.        +0.j        ,\n",
       "         0.        +0.j        , ...,  0.        +0.j        ,\n",
       "         0.        +0.j        , -0.32079639-0.94714818j]])"
      ]
     },
     "execution_count": 30,
     "metadata": {},
     "output_type": "execute_result"
    }
   ],
   "source": [
    "op"
   ]
  },
  {
   "cell_type": "code",
   "execution_count": 8,
   "metadata": {},
   "outputs": [
    {
     "ename": "TypeError",
     "evalue": "apply_two_site_gate() takes 4 positional arguments but 12 were given",
     "output_type": "error",
     "traceback": [
      "\u001b[0;31m---------------------------------------------------------------------------\u001b[0m",
      "\u001b[0;31mTypeError\u001b[0m                                 Traceback (most recent call last)",
      "Cell \u001b[0;32mIn[8], line 2\u001b[0m\n\u001b[1;32m      1\u001b[0m mps \u001b[39m=\u001b[39m QcMps(num_qubits, \u001b[39m0\u001b[39m)\n\u001b[0;32m----> 2\u001b[0m mps\u001b[39m.\u001b[39;49mrun_from_qcirc(qc)\n",
      "File \u001b[0;32m/media/alberto/Volume/Kubuntu/miniconda3/envs/qmatcha/lib/python3.9/site-packages/qmatchatea/py_emulator.py:464\u001b[0m, in \u001b[0;36mQcMps.run_from_qcirc\u001b[0;34m(self, qcirc, starting_idx)\u001b[0m\n\u001b[1;32m    462\u001b[0m                 \u001b[39mif\u001b[39;00m xp \u001b[39m==\u001b[39m cp:\n\u001b[1;32m    463\u001b[0m                     gate_mat \u001b[39m=\u001b[39m cp\u001b[39m.\u001b[39masarray(gate_mat)\n\u001b[0;32m--> 464\u001b[0m                 svd_cut \u001b[39m=\u001b[39m \u001b[39mself\u001b[39;49m\u001b[39m.\u001b[39;49mapply_two_site_gate(operation\u001b[39m.\u001b[39;49moperator, \u001b[39m*\u001b[39;49msites)\n\u001b[1;32m    465\u001b[0m                 svd_cuts \u001b[39m+\u001b[39m\u001b[39m=\u001b[39m svd_cut\n\u001b[1;32m    467\u001b[0m \u001b[39m# Truncation\u001b[39;00m\n",
      "\u001b[0;31mTypeError\u001b[0m: apply_two_site_gate() takes 4 positional arguments but 12 were given"
     ]
    }
   ],
   "source": [
    "mps = QcMps(num_qubits, 0)\n",
    "mps.run_from_qcirc(qc)"
   ]
  },
  {
   "attachments": {},
   "cell_type": "markdown",
   "metadata": {},
   "source": [
    "## Measure Loss\n",
    "### in qiskit"
   ]
  },
  {
   "cell_type": "code",
   "execution_count": 14,
   "metadata": {},
   "outputs": [],
   "source": [
    "import qiskit.quantum_info as qi\n",
    "from qiskit.extensions.simulator import snapshot\n",
    "from qiskit import Aer, transpile, QuantumRegister, AncillaRegister"
   ]
  },
  {
   "cell_type": "code",
   "execution_count": 39,
   "metadata": {},
   "outputs": [],
   "source": [
    "class LossTracker:\n",
    "    def __init__(self, num_qubits, num_ancillae):\n",
    "\n",
    "        self.n_qubits   = num_qubits\n",
    "        self.n_ancillae = num_ancillae\n",
    "        self._statevecs = []\n",
    "        self._h_perc    = None\n",
    "        self._little_endian = True\n",
    "        self._statevecs_arr = None\n",
    "\n",
    "\n",
    "    def track(self, qc, compose=True):\n",
    "\n",
    "        if compose:\n",
    "            # create a copy of the current circuit internally\n",
    "            self.current_qc = QuantumCircuit(QuantumRegister(self.n_qubits), AncillaRegister(self.n_ancillae))\n",
    "            if len(self._statevecs) > 0:\n",
    "                self.current_qc.initialize(self._statevecs[-1], range(self.n_qubits+self.n_ancillae))\n",
    "\n",
    "            # compose the circuit\n",
    "            if type(qc) is list:\n",
    "                for circuit in qc:\n",
    "                    self.current_qc = self.current_qc.compose(circuit.copy())\n",
    "            elif type(qc) is QuantumCircuit:\n",
    "                self.current_qc = self.current_qc.compose(qc.copy())\n",
    "            else:\n",
    "                print('Error: type of qc is', type(qc))\n",
    "                return\n",
    "        else:\n",
    "            self.current_qc = qc\n",
    "\n",
    "        # track the state\n",
    "        self._statevecs.append(qi.Statevector.from_instruction(self.current_qc))\n",
    "        del self.current_qc\n",
    "\n",
    "    @property\n",
    "    def statevecs(self):\n",
    "        return self._statevecs\n",
    "    \n",
    "    @property\n",
    "    def h_perc(self):\n",
    "        return self._h_perc\n",
    "\n",
    "    def reset(self, num_qubits=None, num_ancillae=None):\n",
    "        self._statevecs.clear()\n",
    "        self._statevecs_arr = None\n",
    "\n",
    "        if num_qubits:\n",
    "            self.n_qubits = num_qubits\n",
    "        if num_ancillae:\n",
    "            self.n_ancillae = num_ancillae\n",
    "\n",
    "    def finalize(self):\n",
    "\n",
    "        # convert statevectors to arrays, keep only qubits of interest\n",
    "        arr_list = []\n",
    "        for state in self._statevecs:\n",
    "            out_red = qi.partial_trace(state, range(self.n_qubits, self.n_qubits + self.n_ancillae))\n",
    "            prob, st_all = np.linalg.eig(out_red.data)\n",
    "            idx    = np.argmax(prob) \n",
    "            arr_list.append(st_all[:, idx])\n",
    "\n",
    "        self._statevecs_arr = np.stack(arr_list)\n",
    "        del out_red, prob, st_all, idx, arr_list\n",
    "\n",
    "    def __loss(self, statevec, h_perc):\n",
    "\n",
    "        return np.vdot(statevec, h_perc * statevec)\n",
    "\n",
    "    def get_losses(self, data, little_endian=True, labels=None):\n",
    "\n",
    "        if len(self._statevecs) == 0:\n",
    "            print('Error: no statevectors has been tracked down, please call track() before')\n",
    "            return\n",
    "        \n",
    "        if labels is None:\n",
    "            labels = np.ones((data.shape[0],))\n",
    "        \n",
    "        if self._statevecs_arr is None:\n",
    "            print('LossTracker was not finalized, finalizing...')\n",
    "            self.finalize()\n",
    "            print('Done!')\n",
    "            \n",
    "        if self._h_perc is None or self._little_endian != little_endian:\n",
    "\n",
    "            if little_endian:\n",
    "                self._h_perc = H_perc_diag(data, labels)\n",
    "            else:\n",
    "                # invert data components if the circuit was constructed in big endian mode\n",
    "                # NOT SURE IF THIS WORKS\n",
    "                self._h_perc = H_perc_diag(data[:,::-1], labels)\n",
    "           \n",
    "           \n",
    "        return np.apply_along_axis(self.__loss, axis=1, arr=self._statevecs_arr, h_perc=self._h_perc)\n",
    "    \n",
    "    def get_edensity(self, data, little_endian=True, labels=None):\n",
    "\n",
    "        losses = self.get_losses(data, little_endian=little_endian, labels=labels)\n",
    "        e0 = np.sort(self._h_perc)[0]\n",
    "\n",
    "        return (losses-e0) / data.shape[1]\n"
   ]
  },
  {
   "cell_type": "code",
   "execution_count": 27,
   "metadata": {},
   "outputs": [
    {
     "data": {
      "text/plain": [
       "array([1., 2., 3.])"
      ]
     },
     "execution_count": 27,
     "metadata": {},
     "output_type": "execute_result"
    }
   ],
   "source": [
    "np.ones((3, )) * np.array([1, 2, 3])"
   ]
  },
  {
   "cell_type": "code",
   "execution_count": 21,
   "metadata": {},
   "outputs": [
    {
     "data": {
      "application/vnd.jupyter.widget-view+json": {
       "model_id": "f26a272f5aea4990a381dc2ab7ff706f",
       "version_major": 2,
       "version_minor": 0
      },
      "text/plain": [
       "Constructing H_perc:   0%|          | 0/3 [00:00<?, ?it/s]"
      ]
     },
     "metadata": {},
     "output_type": "display_data"
    }
   ],
   "source": [
    "N_feat = 4\n",
    "N_data = 3\n",
    "\n",
    "data = np.array([[1., 1., 1., 1.], \n",
    "                 [1., -1., 1., -1.], \n",
    "                 [1., -1., 1., 1.]])\n",
    "\n",
    "labels = np.ones((N_data, ))\n",
    "\n",
    "h_perc = H_perc_nobatch(data, labels)\n",
    "\n",
    "def loss(statevec, h_perc):\n",
    "\n",
    "    return np.vdot(statevec, np.dot(h_perc, statevec))\n",
    "\n",
    "def get_losses_from_results(results, data, labels, num_qubits, representation='same'):\n",
    "    statevectors = np.stack(results.data()['snapshots']['statevector']['weight_statevector'])[:,:2**num_qubits]\n",
    "\n",
    "    if representation != 'same':\n",
    "        # invert data components if the circuit was constructed in big endian mode\n",
    "        # NOT SURE IF THIS WORKS\n",
    "        h_perc = H_perc_nobatch(data[:,::-1], labels)\n",
    "    else:\n",
    "        h_perc = H_perc_nobatch(data, labels)\n",
    "\n",
    "    return np.apply_along_axis(loss, axis=1, arr=statevectors, h_perc=h_perc)\n",
    "\n",
    "def get_losses_from_sts(statevecs, data, labels, representation='same'):\n",
    "    statevectors = np.stack(statevecs)\n",
    "\n",
    "    if representation != 'same':\n",
    "        # invert data components if the circuit was constructed in big endian mode\n",
    "        # NOT SURE IF THIS WORKS\n",
    "        h_perc = H_perc_nobatch(data[:,::-1], labels)\n",
    "    else:\n",
    "        h_perc = H_perc_nobatch(data, labels)\n",
    "\n",
    "    return np.apply_along_axis(loss, axis=1, arr=statevectors, h_perc=h_perc)\n"
   ]
  },
  {
   "cell_type": "code",
   "execution_count": 47,
   "metadata": {},
   "outputs": [],
   "source": [
    "def test():\n",
    "    return QuantumCircuit(2)"
   ]
  },
  {
   "cell_type": "code",
   "execution_count": 50,
   "metadata": {},
   "outputs": [
    {
     "data": {
      "text/plain": [
       "<qiskit.circuit.quantumcircuit.QuantumCircuit at 0x7f2311f8f430>"
      ]
     },
     "execution_count": 50,
     "metadata": {},
     "output_type": "execute_result"
    }
   ],
   "source": [
    "test()"
   ]
  },
  {
   "cell_type": "code",
   "execution_count": 160,
   "metadata": {},
   "outputs": [
    {
     "name": "stdout",
     "output_type": "stream",
     "text": [
      "min loss: 0j 0.0 \n",
      "max loss: (4+0j) 4.0\n"
     ]
    }
   ],
   "source": [
    "eigvals, eigvecs = np.linalg.eigh(h_perc)\n",
    "\n",
    "print('min loss:', loss(eigvecs[:,0], h_perc), eigvals[0], '\\nmax loss:', loss(eigvecs[:,-1], h_perc), eigvals[-1])"
   ]
  },
  {
   "cell_type": "code",
   "execution_count": 162,
   "metadata": {},
   "outputs": [
    {
     "data": {
      "text/plain": [
       "(array([0.+0.j, 0.+0.j, 1.+0.j, 0.+0.j, 0.+0.j, 0.+0.j, 0.+0.j, 0.+0.j,\n",
       "        0.+0.j, 0.+0.j, 0.+0.j, 0.+0.j, 0.+0.j, 0.+0.j, 0.+0.j, 0.+0.j]),\n",
       " 1.0)"
      ]
     },
     "execution_count": 162,
     "metadata": {},
     "output_type": "execute_result"
    }
   ],
   "source": [
    "inspect = 6\n",
    "eigvecs[:,inspect], eigvals[inspect]"
   ]
  },
  {
   "cell_type": "code",
   "execution_count": 12,
   "metadata": {},
   "outputs": [],
   "source": [
    "def your_evolution(p, num_qubits, num_ancillae):\n",
    "    \n",
    "    # implement yout evolution here\n",
    "    qc = QuantumCircuit(num_qubits+num_ancillae)\n",
    "    if p == 1:\n",
    "        qc.h(range(num_qubits))\n",
    "    if p == 2:\n",
    "        qc.h(range(num_qubits))\n",
    "        qc.x(range(num_qubits, num_qubits+num_ancillae))\n",
    "    if p == 3:\n",
    "        qc.x( 3)\n",
    "\n",
    "    if p == 4:\n",
    "        qc.x(2)\n",
    "\n",
    "    return qc\n",
    "    \n",
    "def get_statevec(qc, num_qubits):\n",
    "\n",
    "    statevec = qi.Statevector.from_instruction(qc)\n",
    "    out_red = qi.partial_trace(statevec, range(num_qubits, qc.num_qubits))\n",
    "    prob, st_all = np.linalg.eig(out_red.data)\n",
    "    cond = np.argmax(prob)\n",
    "    st = st_all[:, cond]\n",
    "    \n",
    "    return(st)\n",
    "\n",
    "\n",
    "def get_statevec2(qc, num_qubits):\n",
    "    qc.snapshot(\"weight_statevector\", qubits=range(num_qubits))\n",
    "\n"
   ]
  },
  {
   "cell_type": "code",
   "execution_count": 40,
   "metadata": {},
   "outputs": [
    {
     "data": {
      "text/html": [
       "<pre style=\"word-wrap: normal;white-space: pre;background: #fff0;line-height: 1.1;font-family: &quot;Courier New&quot;,Courier,monospace\">     ┌───┐┌───┐     \n",
       "q_0: ┤ H ├┤ H ├─────\n",
       "     ├───┤├───┤     \n",
       "q_1: ┤ H ├┤ H ├─────\n",
       "     ├───┤├───┤     \n",
       "q_2: ┤ H ├┤ H ├─────\n",
       "     ├───┤├───┤┌───┐\n",
       "q_3: ┤ H ├┤ H ├┤ X ├\n",
       "     ├───┤└───┘└───┘\n",
       "q_4: ┤ X ├──────────\n",
       "     ├───┤          \n",
       "q_5: ┤ X ├──────────\n",
       "     └───┘          </pre>"
      ],
      "text/plain": [
       "     ┌───┐┌───┐     \n",
       "q_0: ┤ H ├┤ H ├─────\n",
       "     ├───┤├───┤     \n",
       "q_1: ┤ H ├┤ H ├─────\n",
       "     ├───┤├───┤     \n",
       "q_2: ┤ H ├┤ H ├─────\n",
       "     ├───┤├───┤┌───┐\n",
       "q_3: ┤ H ├┤ H ├┤ X ├\n",
       "     ├───┤└───┘└───┘\n",
       "q_4: ┤ X ├──────────\n",
       "     ├───┤          \n",
       "q_5: ┤ X ├──────────\n",
       "     └───┘          "
      ]
     },
     "execution_count": 40,
     "metadata": {},
     "output_type": "execute_result"
    }
   ],
   "source": [
    "N_data = 3\n",
    "N_feat = 4\n",
    "P = 3\n",
    "\n",
    "num_qubits   = 4\n",
    "num_ancillae = 2\n",
    "\n",
    "qc_tot = QuantumCircuit(num_qubits + num_ancillae)\n",
    "myst = []\n",
    "\n",
    "loss_tracker = LossTracker(num_qubits, num_ancillae)\n",
    "\n",
    "# apply evoltion \n",
    "for p in range(P):\n",
    "\n",
    "    qc = your_evolution(p+1, num_qubits, num_ancillae)\n",
    "    loss_tracker.track(qc)\n",
    "    qc_tot = qc_tot.compose(qc)\n",
    "    #get_statevec2(qc, num_qubits)\n",
    "\n",
    "\n",
    "qc_tot.draw()"
   ]
  },
  {
   "cell_type": "code",
   "execution_count": 41,
   "metadata": {},
   "outputs": [
    {
     "name": "stdout",
     "output_type": "stream",
     "text": [
      "LossTracker was not finalized, finalizing...\n",
      "Done!\n"
     ]
    },
    {
     "data": {
      "application/vnd.jupyter.widget-view+json": {
       "model_id": "6b2d1b8cc9514f7abd31d91a491af746",
       "version_major": 2,
       "version_minor": 0
      },
      "text/plain": [
       "Constructing H_perc:   0%|          | 0/3 [00:00<?, ?it/s]"
      ]
     },
     "metadata": {},
     "output_type": "display_data"
    },
    {
     "data": {
      "text/plain": [
       "array([2.81250000e-01+0.j, 8.21166447e-33+0.j, 2.50000000e-01+0.j])"
      ]
     },
     "execution_count": 41,
     "metadata": {},
     "output_type": "execute_result"
    }
   ],
   "source": [
    "loss_tracker.get_edensity(data)"
   ]
  },
  {
   "cell_type": "code",
   "execution_count": 26,
   "metadata": {},
   "outputs": [],
   "source": [
    "simulator = Aer.get_backend('aer_simulator_statevector')\n",
    "circ = transpile(qc, simulator)\n",
    "\n",
    "# Run and get counts\n",
    "result = simulator.run(circ).result()"
   ]
  },
  {
   "cell_type": "code",
   "execution_count": 27,
   "metadata": {},
   "outputs": [
    {
     "data": {
      "application/vnd.jupyter.widget-view+json": {
       "model_id": "1a8f3f1de7a144098681ed717a527407",
       "version_major": 2,
       "version_minor": 0
      },
      "text/plain": [
       "Constructing H_perc:   0%|          | 0/3 [00:00<?, ?it/s]"
      ]
     },
     "metadata": {},
     "output_type": "display_data"
    },
    {
     "data": {
      "text/plain": [
       "array([1.1250000e+00+0.j, 2.0884012e-32+0.j, 0.0000000e+00+0.j])"
      ]
     },
     "execution_count": 27,
     "metadata": {},
     "output_type": "execute_result"
    }
   ],
   "source": [
    "get_losses_from_results(result, data, labels, num_qubits, representation='same')"
   ]
  },
  {
   "cell_type": "code",
   "execution_count": 8,
   "metadata": {},
   "outputs": [
    {
     "data": {
      "application/vnd.jupyter.widget-view+json": {
       "model_id": "3b3b166af9564d62bff8c568814b9434",
       "version_major": 2,
       "version_minor": 0
      },
      "text/plain": [
       "Constructing H_perc:   0%|          | 0/3 [00:00<?, ?it/s]"
      ]
     },
     "metadata": {},
     "output_type": "display_data"
    },
    {
     "data": {
      "text/plain": [
       "array([1.12500000e+00+0.j, 6.36949476e-34+0.j, 1.00000000e+00+0.j])"
      ]
     },
     "execution_count": 8,
     "metadata": {},
     "output_type": "execute_result"
    }
   ],
   "source": [
    "get_losses_from_sts(myst, data, labels, representation='same')"
   ]
  },
  {
   "cell_type": "code",
   "execution_count": 220,
   "metadata": {},
   "outputs": [],
   "source": [
    "statevectors = np.stack(result.data()['snapshots']['statevector']['weight_statevector'])[:,:2**num_qubits]"
   ]
  },
  {
   "cell_type": "code",
   "execution_count": 192,
   "metadata": {},
   "outputs": [
    {
     "data": {
      "text/plain": [
       "array([-1.11022302e-16+6.12323400e-17j, -9.81307787e-18-6.16297582e-33j,\n",
       "       -3.74939946e-33-6.16297582e-33j, -9.81307787e-18+3.08148791e-33j,\n",
       "       -3.92523115e-17+6.16297582e-33j, -9.81307787e-18-2.29584502e-49j,\n",
       "       -3.42113883e-49-2.29584502e-49j, -9.81307787e-18-6.84227766e-49j,\n",
       "        1.00000000e+00-2.44929360e-16j, -9.81307787e-18+6.12323400e-17j,\n",
       "        7.49879891e-33+6.12323400e-17j, -9.81307787e-18+8.55284707e-49j,\n",
       "       -3.92523115e-17+6.12323400e-17j, -9.81307787e-18+2.29584502e-49j,\n",
       "       -3.74939946e-33+2.29584502e-49j, -9.81307787e-18+3.08148791e-33j])"
      ]
     },
     "execution_count": 192,
     "metadata": {},
     "output_type": "execute_result"
    }
   ],
   "source": [
    "last = statevectors[-1].copy()\n",
    "last"
   ]
  },
  {
   "cell_type": "code",
   "execution_count": null,
   "metadata": {},
   "outputs": [],
   "source": [
    "permutation = []\n",
    "\n",
    "num_arr = np.array([2**i for i in range(num_qubits-1, -1, -1)])\n",
    "\n",
    "permutation.append(0)\n",
    "for i in range(num_qubits):\n",
    "    permutation.append(num_arr[i])\n",
    "\n",
    "    for j in range(2**i):\n",
    "        permutation.append(np.sum(num_arr[:j+1]) + num_arr[i])"
   ]
  },
  {
   "attachments": {},
   "cell_type": "markdown",
   "metadata": {},
   "source": [
    "### in qmatcha"
   ]
  },
  {
   "cell_type": "code",
   "execution_count": null,
   "metadata": {},
   "outputs": [],
   "source": []
  }
 ],
 "metadata": {
  "kernelspec": {
   "display_name": "qmatcha",
   "language": "python",
   "name": "python3"
  },
  "language_info": {
   "codemirror_mode": {
    "name": "ipython",
    "version": 3
   },
   "file_extension": ".py",
   "mimetype": "text/x-python",
   "name": "python",
   "nbconvert_exporter": "python",
   "pygments_lexer": "ipython3",
   "version": "3.9.16"
  },
  "orig_nbformat": 4
 },
 "nbformat": 4,
 "nbformat_minor": 2
}
