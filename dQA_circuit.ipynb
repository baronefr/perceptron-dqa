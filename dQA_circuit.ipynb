{
 "cells": [
  {
   "cell_type": "code",
   "execution_count": 1,
   "metadata": {},
   "outputs": [],
   "source": [
    "import numpy as np\n",
    "\n",
    "from qiskit import QuantumCircuit, QuantumRegister, AncillaRegister\n",
    "from qiskit.circuit.library import QFT, IntegerComparator\n",
    "from qiskit.visualization import plot_histogram\n",
    "from qiskit.quantum_info import Statevector\n",
    "\n",
    "from lib.losstre import *\n",
    "from tqdm import trange"
   ]
  },
  {
   "cell_type": "code",
   "execution_count": 2,
   "metadata": {},
   "outputs": [],
   "source": [
    "class Heaviside_evolution:\n",
    "    \"\"\"\n",
    "    Class to generate all the modules of Heaviside evolution circuit consistently.\n",
    "    \"\"\"\n",
    "    def __init__(self, num_data_qubits) -> None:\n",
    "        \n",
    "        # number of qubits, number ancillas used to count, number of ancillas used to compare Hamming distance\n",
    "        self.num_data_qubits = num_data_qubits\n",
    "        self.num_count_ancillas = int(np.ceil(np.log2(num_data_qubits+1)))\n",
    "\n",
    "        # in this situation the comparison is really simple\n",
    "        self.simple_compare = (self.num_data_qubits + 1 == 2**self.num_count_ancillas)\n",
    "\n",
    "        # circuit initializer\n",
    "        self.data_qubits = QuantumRegister(self.num_data_qubits)\n",
    "        self.count_ancillas = AncillaRegister(self.num_count_ancillas)\n",
    "        self.qc = QuantumCircuit(self.data_qubits, self.count_ancillas)\n",
    "\n",
    "        # intialize comparison ancillas if necessary\n",
    "        if not self.simple_compare:\n",
    "            self.num_comp_ancillas = self.num_count_ancillas\n",
    "            self.comp_ancillas = AncillaRegister(self.num_count_ancillas)\n",
    "            self.qc.add_register(self.comp_ancillas)\n",
    "\n",
    "        # ancilla in which the Heaviside control will be stored\n",
    "        if self.simple_compare:\n",
    "            self.control_ancilla = self.count_ancillas[-1]\n",
    "        else:\n",
    "            self.control_ancilla = self.comp_ancillas[0]\n",
    "\n",
    "\n",
    "    def init_state_plus(self):\n",
    "        \"\"\"\n",
    "        Generate a circuit where all the qubits are initialized at |+> = H|0> intead of simply |0>.\n",
    "        \"\"\"\n",
    "\n",
    "        # return a new copy of the circuit, but with the same number of qubits for consistency\n",
    "        circ = self.qc.copy()\n",
    "\n",
    "        for iq in range(self.num_data_qubits):\n",
    "            circ.h(self.data_qubits[iq])\n",
    "\n",
    "        return circ\n",
    "\n",
    "\n",
    "    def Hamming_count(self, train_data):\n",
    "        \"\"\" \n",
    "        Generate circuit of `self.num_data_qubits` qubits that counts the Hamming distance from the training data.\n",
    "        The count is stored in the `self.count_ancillas` qubits. \n",
    "            - train_data: vector of training data.\n",
    "\n",
    "            Conventions:\n",
    "            - (1,-1) <--> (|0>,|1>)\n",
    "            - little endians: least significant bit is the last one of the string\n",
    "        \"\"\"\n",
    "\n",
    "        assert len(train_data) == self.num_data_qubits, \"Wrong dimension of training data\"\n",
    "\n",
    "        # return a new copy of the circuit, but with the same number of qubits for consistency\n",
    "        circ = self.qc.copy()\n",
    "\n",
    "\n",
    "        # flip only when the training data is -1: in this way the circuit can simply count the number \n",
    "        # of states that are |1>\n",
    "        # little endians convention is applied !!! train_data[::-1] !!!\n",
    "        for iq, train_data_i in enumerate(train_data[::-1]):\n",
    "            if train_data_i == -1:\n",
    "                circ.x(self.data_qubits[iq])\n",
    "\n",
    "        # initial Hadamards to create superposition in the counter register\n",
    "        for ia in range(self.num_count_ancillas):\n",
    "            circ.h(self.count_ancillas[ia])\n",
    "        \n",
    "        \n",
    "        # Phase estimation\n",
    "        for ia in range(self.num_count_ancillas):\n",
    "            # the order is from the lowest index of the ancilla to the highest\n",
    "            n_reps = 2**ia\n",
    "\n",
    "            # repeat n_reps times the application of the unitary gate controlled on the ancillary qubit\n",
    "            for rep_idx in range(n_reps):\n",
    "                for iq in range(self.num_data_qubits):\n",
    "                    circ.cp(2*np.pi/2**self.num_count_ancillas, self.count_ancillas[ia], self.data_qubits[iq])\n",
    "\n",
    "\n",
    "        # invert flip applied previously to count the number of |1>\n",
    "        # little endians convention is applied !!! train_data[::-1] !!!\n",
    "        for iq, train_data_i in enumerate(train_data[::-1]):\n",
    "            if train_data_i == -1:\n",
    "                circ.x(self.data_qubits[iq])\n",
    "\n",
    "        circ.barrier()\n",
    "        qft_circ = QFT(self.num_count_ancillas, inverse=True).decompose(reps=1)\n",
    "\n",
    "        circ = circ.compose(qft_circ, self.count_ancillas)\n",
    "\n",
    "        # add an additional comparison circuit if needed\n",
    "        if not self.simple_compare:\n",
    "            circ = circ.compose(IntegerComparator(self.num_count_ancillas, int(np.ceil(self.num_data_qubits/2.0)), geq=True).decompose(reps=1),\n",
    "                                qubits=list(self.count_ancillas)+list(self.comp_ancillas))\n",
    "\n",
    "        return circ\n",
    "\n",
    "\n",
    "    def U_z(self, train_data, gamma):\n",
    "        \"\"\"\n",
    "        Generate circuit for Uz evolution according to the training data and the value of gamma.\n",
    "            - train_data: vector of training data.\n",
    "            - gamma: multiplicative float in the time evolution definition.\n",
    "\n",
    "            Conventions:\n",
    "            - (1,-1) <--> (|0>,|1>)\n",
    "            - little endians: least significant bit is the last one of the string\n",
    "        \"\"\"\n",
    "        assert len(train_data) == self.num_data_qubits, \"Wrong dimension of training data\"\n",
    "\n",
    "        # return a new copy of the circuit, but with the same number of qubits for consistency\n",
    "        circ = self.qc.copy()\n",
    "        circ.barrier()\n",
    "\n",
    "        # define controlled operation on the 'ancilla_index'\n",
    "        # little endians convention is applied !!! iq and idata goes on opposite directions !!!\n",
    "        for iq, idata in zip(range(self.num_data_qubits),range(len(train_data)-1,-1,-1)):\n",
    "            circ.crz(-2*gamma*train_data[idata]/np.sqrt(self.num_data_qubits), self.control_ancilla, self.data_qubits[iq])\n",
    "\n",
    "        circ.barrier()\n",
    "        return circ\n",
    "\n",
    "\n",
    "    def U_x(self, beta):\n",
    "        \"\"\"\n",
    "        Generate circuit for Ux evolution according to the value of beta.\n",
    "            - beta: multiplicative float in the time evolution definition.\n",
    "\n",
    "        \"\"\"\n",
    "\n",
    "        # return a new copy of the circuit, but with the same number of qubits for consistency\n",
    "        circ = self.qc.copy()\n",
    "        circ.barrier()\n",
    "\n",
    "        for iq in range(self.num_data_qubits):\n",
    "            circ.rx(-2*beta, self.data_qubits[iq])\n",
    "\n",
    "        return circ"
   ]
  },
  {
   "cell_type": "code",
   "execution_count": 30,
   "metadata": {},
   "outputs": [],
   "source": [
    "N_xi, N_features = 1, 2\n",
    "#N_xi, N_features =  8, 10\n",
    "\n",
    "x = np.random.randint(2, size=(N_xi, N_features))\n",
    "x[ x == 0 ] = -1  # data is encoded as +- 1\n",
    "\n",
    "csi_patterns = np.array([1,1,1,1,1]).reshape(1,-1)\n",
    "\n",
    "\n",
    "\n",
    "N_csi, N = csi_patterns.shape\n",
    "labels = np.ones((N_csi, ))"
   ]
  },
  {
   "cell_type": "code",
   "execution_count": 31,
   "metadata": {},
   "outputs": [
    {
     "name": "stdout",
     "output_type": "stream",
     "text": [
      "[[1 1 1 1 1]]\n"
     ]
    }
   ],
   "source": [
    "print(csi_patterns)"
   ]
  },
  {
   "attachments": {},
   "cell_type": "markdown",
   "metadata": {},
   "source": [
    "### evolution test"
   ]
  },
  {
   "cell_type": "code",
   "execution_count": 32,
   "metadata": {},
   "outputs": [],
   "source": [
    "# circuit generator\n",
    "qc_generator = Heaviside_evolution(num_data_qubits=N)\n",
    "\n",
    "# actual circuit (in initial superposition)\n",
    "qc = qc_generator.init_state_plus()\n",
    "\n",
    "mystates = []\n",
    "mystates.append( get_statevec(qc, N) )"
   ]
  },
  {
   "cell_type": "code",
   "execution_count": 33,
   "metadata": {},
   "outputs": [
    {
     "name": "stderr",
     "output_type": "stream",
     "text": [
      "100%|██████████| 50/50 [00:29<00:00,  1.70it/s]\n"
     ]
    }
   ],
   "source": [
    "P = 50\n",
    "dt = 1\n",
    "\n",
    "for pp in trange(P):\n",
    "    s_p = (pp+1)/P\n",
    "    gamma_p = s_p*dt\n",
    "    beta_p = (1-s_p)*dt\n",
    "\n",
    "    for mu in range( N_csi ):\n",
    "    \n",
    "        # create Hamming error counter circuit based on the given pattern\n",
    "        qc_counter = qc_generator.Hamming_count(train_data=csi_patterns[mu,:])\n",
    "        qc_counter_inverse = qc_counter.inverse()\n",
    "    \n",
    "        # create evolution circuit\n",
    "        qc_Uz = qc_generator.U_z(train_data=csi_patterns[mu,:], gamma=gamma_p)\n",
    "    \n",
    "        qc = qc.compose(qc_counter)\n",
    "        qc = qc.compose(qc_Uz)\n",
    "        qc = qc.compose(qc_counter_inverse)\n",
    "\n",
    "    # measure loss\n",
    "    mystates.append( get_statevec(qc, N) )\n",
    "\n",
    "    # apply Ux\n",
    "    qc_Ux = qc_generator.U_x(beta_p)\n",
    "    qc = qc.compose(qc_Ux)"
   ]
  },
  {
   "cell_type": "code",
   "execution_count": 34,
   "metadata": {},
   "outputs": [
    {
     "data": {
      "image/png": "[encoded data removed]",
      "text/plain": [
       "<Figure size 700x500 with 1 Axes>"
      ]
     },
     "execution_count": 34,
     "metadata": {},
     "output_type": "execute_result"
    }
   ],
   "source": [
    "finalstate = Statevector.from_instruction(qc)\n",
    "#finalstate.probabilities_dict()\n",
    "plot_histogram(finalstate.probabilities_dict(), number_to_keep=2**N)"
   ]
  },
  {
   "cell_type": "code",
   "execution_count": 35,
   "metadata": {},
   "outputs": [
    {
     "name": "stderr",
     "output_type": "stream",
     "text": [
      "Constructing H_perc: 100%|██████████| 1/1 [00:00<00:00, 591.66it/s]"
     ]
    },
    {
     "name": "stdout",
     "output_type": "stream",
     "text": [
      "[0.08385255 0.08385255 0.08238175 0.08161458 0.08195029 0.08030947\n",
      " 0.07874445 0.0790934  0.07759272 0.07577105 0.07462306 0.07446072\n",
      " 0.07246965 0.07084927 0.07038695 0.07089694 0.07005266 0.06912315\n",
      " 0.06713907 0.06419785 0.05979305 0.05814075 0.05937818 0.05765833\n",
      " 0.05272855 0.05159516 0.05191229 0.04614959 0.04560998 0.04511879\n",
      " 0.04021389 0.04098397 0.03484825 0.03572162 0.03088621 0.031308\n",
      " 0.02730071 0.02641735 0.02435692 0.02101522 0.01921685 0.01819835\n",
      " 0.01520216 0.01277359 0.01291073 0.01175179 0.00855244 0.00637011\n",
      " 0.00562577 0.00491749 0.00420137]\n"
     ]
    },
    {
     "name": "stderr",
     "output_type": "stream",
     "text": [
      "\n"
     ]
    }
   ],
   "source": [
    "loss = np.real_if_close(get_losses_from_sts(mystates, csi_patterns, labels, representation='same'))\n",
    "print(loss)"
   ]
  },
  {
   "cell_type": "code",
   "execution_count": 36,
   "metadata": {},
   "outputs": [
    {
     "data": {
      "image/png": "[encoded data removed]",
      "text/plain": [
       "<Figure size 640x480 with 1 Axes>"
      ]
     },
     "metadata": {},
     "output_type": "display_data"
    }
   ],
   "source": [
    "import matplotlib.pyplot as plt \n",
    "plt.plot(loss)\n",
    "plt.yscale('log')"
   ]
  },
  {
   "cell_type": "code",
   "execution_count": null,
   "metadata": {},
   "outputs": [],
   "source": []
  }
 ],
 "metadata": {
  "kernelspec": {
   "display_name": "quimb_env",
   "language": "python",
   "name": "python3"
  },
  "language_info": {
   "codemirror_mode": {
    "name": "ipython",
    "version": 3
   },
   "file_extension": ".py",
   "mimetype": "text/x-python",
   "name": "python",
   "nbconvert_exporter": "python",
   "pygments_lexer": "ipython3",
   "version": "3.10.6"
  },
  "orig_nbformat": 4,
  "vscode": {
   "interpreter": {
    "hash": "30be1788c55a9c56f0f365d4818a43cde71336da9de7e6fce87f21238f11f8b1"
   }
  }
 },
 "nbformat": 4,
 "nbformat_minor": 2
}
