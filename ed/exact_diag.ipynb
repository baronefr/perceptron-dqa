{
 "cells": [
  {
   "attachments": {},
   "cell_type": "markdown",
   "metadata": {},
   "source": [
    "# Simulating QA with Exact Diagonalization "
   ]
  },
  {
   "cell_type": "code",
   "execution_count": 1,
   "metadata": {},
   "outputs": [
    {
     "name": "stderr",
     "output_type": "stream",
     "text": [
      "2023-03-19 18:21:16.418019: I tensorflow/core/platform/cpu_feature_guard.cc:193] This TensorFlow binary is optimized with oneAPI Deep Neural Network Library (oneDNN) to use the following CPU instructions in performance-critical operations:  AVX2 FMA\n",
      "To enable them in other operations, rebuild TensorFlow with the appropriate compiler flags.\n",
      "2023-03-19 18:21:18.929102: W tensorflow/compiler/xla/stream_executor/platform/default/dso_loader.cc:64] Could not load dynamic library 'libnvinfer.so.7'; dlerror: libnvinfer.so.7: cannot open shared object file: No such file or directory; LD_LIBRARY_PATH: :/media/alberto/Volume/Kubuntu/miniconda3/envs/tf2/lib/\n",
      "2023-03-19 18:21:18.929562: W tensorflow/compiler/xla/stream_executor/platform/default/dso_loader.cc:64] Could not load dynamic library 'libnvinfer_plugin.so.7'; dlerror: libnvinfer_plugin.so.7: cannot open shared object file: No such file or directory; LD_LIBRARY_PATH: :/media/alberto/Volume/Kubuntu/miniconda3/envs/tf2/lib/\n",
      "2023-03-19 18:21:18.929574: W tensorflow/compiler/tf2tensorrt/utils/py_utils.cc:38] TF-TRT Warning: Cannot dlopen some TensorRT libraries. If you would like to use Nvidia GPU with TensorRT, please make sure the missing libraries mentioned above are installed properly.\n"
     ]
    },
    {
     "name": "stdout",
     "output_type": "stream",
     "text": [
      "GPU devices: [PhysicalDevice(name='/physical_device:GPU:0', device_type='GPU')]\n"
     ]
    },
    {
     "name": "stderr",
     "output_type": "stream",
     "text": [
      "2023-03-19 18:21:21.743865: I tensorflow/compiler/xla/stream_executor/cuda/cuda_gpu_executor.cc:981] successful NUMA node read from SysFS had negative value (-1), but there must be at least one NUMA node, so returning NUMA node zero\n",
      "2023-03-19 18:21:21.799867: I tensorflow/compiler/xla/stream_executor/cuda/cuda_gpu_executor.cc:981] successful NUMA node read from SysFS had negative value (-1), but there must be at least one NUMA node, so returning NUMA node zero\n",
      "2023-03-19 18:21:21.800177: I tensorflow/compiler/xla/stream_executor/cuda/cuda_gpu_executor.cc:981] successful NUMA node read from SysFS had negative value (-1), but there must be at least one NUMA node, so returning NUMA node zero\n"
     ]
    }
   ],
   "source": [
    "import tensorflow as tf\n",
    "import tensorflow.linalg as tfl\n",
    "import numpy as np\n",
    "import matplotlib.pyplot as plt\n",
    "\n",
    "from tqdm.notebook import tqdm\n",
    "\n",
    "physical_devices = tf.config.list_physical_devices('GPU')\n",
    "print('GPU devices:', physical_devices)\n",
    "\n",
    "if physical_devices:\n",
    "    for device in physical_devices:\n",
    "        tf.config.experimental.set_memory_growth(device, True)"
   ]
  },
  {
   "attachments": {},
   "cell_type": "markdown",
   "metadata": {},
   "source": [
    "## Defining operators and init"
   ]
  },
  {
   "cell_type": "code",
   "execution_count": 6,
   "metadata": {},
   "outputs": [],
   "source": [
    "sigma_x = tfl.LinearOperatorFullMatrix([[0., 1.], [1., 0.]])\n",
    "sigma_z = tfl.LinearOperatorFullMatrix([[1., 0.], [0., -1.]])\n",
    "id      = tfl.LinearOperatorIdentity(2)\n",
    "\n",
    "def H_perc(data, labels):\n",
    "    n_data, n = data.shape\n",
    "\n",
    "    # define a batch of ientities operators where batch is the #data\n",
    "    id_batch = tfl.LinearOperatorIdentity(2, batch_shape=[n_data])\n",
    "\n",
    "    # define a batch of sigma_z operators where batch is the #data\n",
    "    sigma_z_batch = tf.tile(tf.expand_dims(tf.constant([[1., 0.], [0., -1.]]), axis=0), [n_data, 1, 1])\n",
    "    sigma_z_op = tfl.LinearOperatorFullMatrix(sigma_z_batch)\n",
    "\n",
    "    # define a batch of data operators where batch is the #data.\n",
    "    # each coordinate of a single datum is casted into a 2x2 operator,\n",
    "    # which will be composed with the corresponding sigma_z operator\n",
    "    # result is a list of n [n_data, 2, 2] opearators\n",
    "    data_ops = [tfl.LinearOperatorDiag(tf.repeat(data, [2], axis=1)[:,i:i+2]) for i in range(0, n*2, 2)]\n",
    "\n",
    "    ops = [tfl.LinearOperatorKronecker([id_batch]*i+[tfl.LinearOperatorComposition([data_ops[i], sigma_z_op])]+[id_batch]*(n-i-1)).to_dense() for i in range(n)]\n",
    "    \n",
    "    # opearotrs are first stacked on the n dimension and reduced, then labels are applied,\n",
    "    # then heaviside step function is applied (relu), and finally reduced over n_data\n",
    "    return tf.reduce_sum(tf.nn.relu(-tf.reshape(labels, (-1, 1, 1))*tf.reduce_sum(tf.stack(ops), axis=0)), axis=0)# / tf.sqrt(n+0.)\n",
    "\n",
    "# reimplementation of the previous function with an eye over ram usage\n",
    "def H_perc_nobatch(data, labels):\n",
    "    n_data, n = data.shape\n",
    "\n",
    "    h_perc = tf.zeros((2**n, 2**n), dtype='float32')\n",
    "    \n",
    "    for i in tqdm(range(n_data), desc='Constructing H_perc'):\n",
    "\n",
    "        op = tf.zeros((2**n, 2**n), dtype='float32')\n",
    "        for j in range(n):\n",
    "\n",
    "            data_op = tfl.LinearOperatorDiag(tf.repeat(data[i, :], [2], axis=0)[2*j:2*(j+1)])\n",
    "            op     += tfl.LinearOperatorKronecker([id]*j+[tfl.LinearOperatorComposition([data_op, sigma_z])]+[id]*(n-j-1)).to_dense()\n",
    "            del data_op\n",
    "\n",
    "        h_perc += tf.nn.relu(-labels[i]*op)\n",
    "        del op\n",
    "\n",
    "    return h_perc #/ tf.sqrt(n+0.)\n",
    "\n",
    "def H_x(n):\n",
    "    sigma_xs = [tfl.LinearOperatorKronecker([id]*i+[sigma_x]+[id]*(n-i-1)).to_dense() for i in range(n)]\n",
    "    return -tf.reduce_sum(tf.stack(sigma_xs), axis=0)\n",
    "\n",
    "def H_z(n):\n",
    "    sigma_zs = [tfl.LinearOperatorKronecker([id]*i+[sigma_z]+[id]*(n-i-1)).to_dense() for i in range(n)]\n",
    "    return tf.reduce_sum(tf.stack(sigma_zs), axis=0)\n",
    "\n",
    "def H_QA(p, P, Hz, Hx):\n",
    "    frac = p/P\n",
    "    return tf.cast(frac*Hz + (1-frac)*Hx, dtype='complex128')\n",
    "\n",
    "\n",
    "def init_state(n):\n",
    "    return tf.ones((2**n,), dtype='complex128')/tf.sqrt((2.**n+0.j))"
   ]
  },
  {
   "attachments": {},
   "cell_type": "markdown",
   "metadata": {},
   "source": [
    "### Tests"
   ]
  },
  {
   "cell_type": "code",
   "execution_count": 8,
   "metadata": {},
   "outputs": [
    {
     "data": {
      "text/plain": [
       "<tf.Tensor: shape=(4, 4), dtype=float32, numpy=\n",
       "array([[0., 0., 0., 0.],\n",
       "       [0., 0., 0., 0.],\n",
       "       [0., 0., 2., 0.],\n",
       "       [0., 0., 0., 2.]], dtype=float32)>"
      ]
     },
     "execution_count": 8,
     "metadata": {},
     "output_type": "execute_result"
    }
   ],
   "source": [
    "data   = tf.constant([[1., -1.], [-1., -1.]])\n",
    "labels = tf.constant([1., -1.])\n",
    "\n",
    "h_perc = H_perc(data, labels)\n",
    "h_perc"
   ]
  },
  {
   "cell_type": "code",
   "execution_count": null,
   "metadata": {},
   "outputs": [],
   "source": [
    "n_data, n = data.shape\n",
    "\n",
    "# define a batch of ientities operators where batch is the #data\n",
    "id_batch = tfl.LinearOperatorIdentity(2, batch_shape=[n_data])\n",
    "\n",
    "# define a batch of sigma_z operators where batch is the #data\n",
    "sigma_z_batch = tf.tile(tf.expand_dims(tf.constant([[1., 0.], [0., -1.]]), axis=0), [n_data, 1, 1])\n",
    "sigma_z_op = tfl.LinearOperatorFullMatrix(sigma_z_batch)\n",
    "\n",
    "# define a batch of data operators where batch is the #data.\n",
    "# each coordinate of a single datum is casted into a 2x2 operator,\n",
    "# which will be composed with the corresponding sigma_z operator\n",
    "# result is a list of n [n_data, 2, 2] opearators\n",
    "data_ops = [tfl.LinearOperatorDiag(tf.repeat(data, [2], axis=1)[:,i:i+2]) for i in range(0, n*2, 2)]\n",
    "\n",
    "ops = [tfl.LinearOperatorKronecker([id_batch]*i+[tfl.LinearOperatorComposition([data_ops[i], sigma_z_op])]+[id_batch]*(n-i-1)).to_dense() for i in range(n)]\n"
   ]
  },
  {
   "cell_type": "code",
   "execution_count": 15,
   "metadata": {},
   "outputs": [
    {
     "data": {
      "text/plain": [
       "<tf.Tensor: shape=(4, 4), dtype=float32, numpy=\n",
       "array([[0., 0., 0., 0.],\n",
       "       [0., 0., 0., 0.],\n",
       "       [0., 0., 1., 0.],\n",
       "       [0., 0., 0., 1.]], dtype=float32)>"
      ]
     },
     "execution_count": 15,
     "metadata": {},
     "output_type": "execute_result"
    }
   ],
   "source": [
    "tfl.LinearOperatorKronecker([tfl.LinearOperatorFullMatrix(np.array([[0., 0.], [0., 1.]], 'float32')), id]).to_dense()"
   ]
  },
  {
   "cell_type": "code",
   "execution_count": 14,
   "metadata": {},
   "outputs": [
    {
     "data": {
      "text/plain": [
       "<tf.Tensor: shape=(4, 4), dtype=float32, numpy=\n",
       "array([[0., 0., 0., 0.],\n",
       "       [0., 1., 0., 0.],\n",
       "       [0., 0., 0., 0.],\n",
       "       [0., 0., 0., 1.]], dtype=float32)>"
      ]
     },
     "execution_count": 14,
     "metadata": {},
     "output_type": "execute_result"
    }
   ],
   "source": [
    "tfl.LinearOperatorKronecker([id, tfl.LinearOperatorFullMatrix(np.array([[0., 0.], [0., 1.]], 'float32'))]).to_dense()"
   ]
  },
  {
   "cell_type": "code",
   "execution_count": 22,
   "metadata": {},
   "outputs": [],
   "source": [
    "n = 10\n",
    "hadamard = tfl.LinearOperatorFullMatrix(np.array([[1., 1.], [1., -1.]], 'float32') / np.sqrt(2.))"
   ]
  },
  {
   "cell_type": "code",
   "execution_count": 23,
   "metadata": {},
   "outputs": [],
   "source": [
    "ops = [tfl.LinearOperatorKronecker([id]*i+[hadamard]+[id]*(n-i-1)).to_dense() for i in range(n)]"
   ]
  },
  {
   "cell_type": "code",
   "execution_count": 42,
   "metadata": {},
   "outputs": [
    {
     "data": {
      "text/plain": [
       "array([ 1., -1., -1.,  1.], dtype=float32)"
      ]
     },
     "execution_count": 42,
     "metadata": {},
     "output_type": "execute_result"
    }
   ],
   "source": [
    "np.diag(tfl.LinearOperatorKronecker([sigma_z]*10).to_dense())[:4]"
   ]
  },
  {
   "cell_type": "code",
   "execution_count": 25,
   "metadata": {},
   "outputs": [
    {
     "data": {
      "text/plain": [
       "<tf.Tensor: shape=(1024,), dtype=float32, numpy=\n",
       "array([7.071067  , 0.70710677, 0.70710677, ..., 0.        , 0.        ,\n",
       "       0.        ], dtype=float32)>"
      ]
     },
     "execution_count": 25,
     "metadata": {},
     "output_type": "execute_result"
    }
   ],
   "source": [
    "tf.reduce_sum(tf.stack(ops), axis=0)[:,0]"
   ]
  },
  {
   "cell_type": "code",
   "execution_count": null,
   "metadata": {},
   "outputs": [],
   "source": [
    "# define a batch of sigma_z operators where batch is the #data\n",
    "sigma_z_batch = tf.tile(tf.expand_dims(tf.constant([[1., 0.], [0., -1.]]), axis=0), [n_data, 1, 1])\n",
    "sigma_z_op = tfl.LinearOperatorFullMatrix(sigma_z_batch)\n",
    "\n",
    "# define a batch of data operators where batch is the #data.\n",
    "# each coordinate of a single datum is casted into a 2x2 operator,\n",
    "# which will be composed with the corresponding sigma_z operator\n",
    "# result is a list of n [n_data, 2, 2] opearators\n",
    "data_ops = [tfl.LinearOperatorDiag(tf.repeat(data, [2], axis=1)[:,i:i+2]) for i in range(0, n*2, 2)]\n",
    "\n",
    "ops = [tfl.LinearOperatorKronecker([id_batch]*i+[tfl.LinearOperatorComposition([data_ops[i], sigma_z_op])]+[id_batch]*(n-i-1)).to_dense() for i in range(n)]\n"
   ]
  },
  {
   "cell_type": "code",
   "execution_count": 74,
   "metadata": {},
   "outputs": [
    {
     "data": {
      "text/plain": [
       "<tf.Tensor: shape=(4, 4), dtype=float32, numpy=\n",
       "array([[0.       , 0.       , 0.       , 0.       ],\n",
       "       [0.       , 0.       , 0.       , 0.       ],\n",
       "       [0.       , 0.       , 1.4142135, 0.       ],\n",
       "       [0.       , 0.       , 0.       , 1.4142135]], dtype=float32)>"
      ]
     },
     "execution_count": 74,
     "metadata": {},
     "output_type": "execute_result"
    }
   ],
   "source": [
    "H_perc_nobatch(data, labels)"
   ]
  },
  {
   "cell_type": "code",
   "execution_count": 58,
   "metadata": {},
   "outputs": [
    {
     "data": {
      "text/plain": [
       "(<tf.Tensor: shape=(8,), dtype=float32, numpy=\n",
       " array([0.        , 0.        , 0.57735026, 0.57735026, 0.57735026,\n",
       "        0.57735026, 2.309401  , 2.309401  ], dtype=float32)>,\n",
       " <tf.Tensor: shape=(8, 8), dtype=float32, numpy=\n",
       " array([[1., 0., 0., 0., 0., 0., 0., 0.],\n",
       "        [0., 0., 1., 0., 0., 0., 0., 0.],\n",
       "        [0., 1., 0., 0., 0., 0., 0., 0.],\n",
       "        [0., 0., 0., 1., 0., 0., 0., 0.],\n",
       "        [0., 0., 0., 0., 1., 0., 0., 0.],\n",
       "        [0., 0., 0., 0., 0., 0., 1., 0.],\n",
       "        [0., 0., 0., 0., 0., 1., 0., 0.],\n",
       "        [0., 0., 0., 0., 0., 0., 0., 1.]], dtype=float32)>)"
      ]
     },
     "execution_count": 58,
     "metadata": {},
     "output_type": "execute_result"
    }
   ],
   "source": [
    "tfl.eigh(h_perc)"
   ]
  },
  {
   "cell_type": "code",
   "execution_count": 46,
   "metadata": {},
   "outputs": [],
   "source": [
    "h_x = H_x(10)\n",
    "h_x = tf.cast(h_x, 'complex64')"
   ]
  },
  {
   "cell_type": "code",
   "execution_count": 49,
   "metadata": {},
   "outputs": [
    {
     "data": {
      "text/plain": [
       "<tf.Tensor: shape=(1024, 1024), dtype=complex64, numpy=\n",
       "array([[ 2.12028925e-03+2.48561278e-08j, -1.35356245e-07+3.30181443e-03j,\n",
       "        -1.07416568e-07+3.30172945e-03j, ...,\n",
       "         1.39463907e-08+1.14284955e-01j,  2.98952934e-08+1.14284910e-01j,\n",
       "        -1.77988201e-01-8.90562717e-08j],\n",
       "       [-1.34782184e-07+3.30181373e-03j,  2.12021661e-03+2.56677435e-08j,\n",
       "        -5.14242565e-03+2.52602916e-08j, ...,\n",
       "         7.33815953e-02+4.48015181e-09j, -1.77988321e-01-8.34134113e-08j,\n",
       "         1.26395577e-07+1.14284970e-01j],\n",
       "       [-1.05071535e-07+3.30172828e-03j, -5.14241960e-03+2.67564797e-08j,\n",
       "         2.12010415e-03-9.85613724e-09j, ...,\n",
       "        -1.77988485e-01+1.31940894e-08j,  7.33815059e-02-3.86075216e-09j,\n",
       "        -8.44682546e-09+1.14285044e-01j],\n",
       "       ...,\n",
       "       [ 1.44361900e-08+1.14284955e-01j,  7.33816028e-02+8.29661584e-09j,\n",
       "        -1.77988485e-01+7.83095278e-09j, ...,\n",
       "         2.12038797e-03+8.43158290e-08j, -5.14247641e-03-5.84675668e-08j,\n",
       "         2.16125756e-07+3.30203981e-03j],\n",
       "       [ 3.01268201e-08+1.14284925e-01j, -1.77988350e-01-5.81322439e-08j,\n",
       "         7.33815134e-02-3.64987396e-09j, ...,\n",
       "        -5.14247967e-03-5.56293109e-08j,  2.12016003e-03-1.41272514e-08j,\n",
       "         1.84668167e-07+3.30199301e-03j],\n",
       "       [-1.77988201e-01-1.27106489e-07j,  1.26200916e-07+1.14284970e-01j,\n",
       "        -1.23915260e-08+1.14285037e-01j, ...,\n",
       "         2.13978083e-07+3.30203562e-03j,  1.86504053e-07+3.30199185e-03j,\n",
       "         2.11967085e-03+4.90127547e-07j]], dtype=complex64)>"
      ]
     },
     "execution_count": 49,
     "metadata": {},
     "output_type": "execute_result"
    }
   ],
   "source": [
    "eigvals, eigvecs = tfl.eigh(h_x)\n",
    "\n",
    "tfl.matmul(eigvecs, tfl.matmul(tfl.diag(tf.exp(-1.j*eigvals)), eigvecs, adjoint_b=True), adjoint_a=False)"
   ]
  },
  {
   "cell_type": "code",
   "execution_count": 15,
   "metadata": {},
   "outputs": [
    {
     "data": {
      "text/plain": [
       "<tf.Tensor: shape=(2, 2), dtype=float32, numpy=\n",
       "array([[-1.,  0.],\n",
       "       [ 0., -1.]], dtype=float32)>"
      ]
     },
     "execution_count": 15,
     "metadata": {},
     "output_type": "execute_result"
    }
   ],
   "source": [
    "datum_ops = [tfl.LinearOperatorDiag(tf.repeat(data[0,:], [2], axis=0)[i:i+2]) for i in range(0, 2*2, 2)]\n",
    "datum_ops[1].to_dense()"
   ]
  },
  {
   "cell_type": "code",
   "execution_count": 26,
   "metadata": {},
   "outputs": [
    {
     "data": {
      "text/plain": [
       "<tf.Tensor: shape=(4,), dtype=complex128, numpy=array([0.5+0.j, 0.5+0.j, 0.5+0.j, 0.5+0.j])>"
      ]
     },
     "execution_count": 26,
     "metadata": {},
     "output_type": "execute_result"
    }
   ],
   "source": [
    "init_state(2)"
   ]
  },
  {
   "cell_type": "code",
   "execution_count": 253,
   "metadata": {},
   "outputs": [
    {
     "data": {
      "text/plain": [
       "<tf.Tensor: shape=(4, 4), dtype=complex128, numpy=\n",
       "array([[0.+0.j, 1.+0.j, 1.+0.j, 0.+0.j],\n",
       "       [1.+0.j, 0.+0.j, 0.+0.j, 1.+0.j],\n",
       "       [1.+0.j, 0.+0.j, 0.+0.j, 1.+0.j],\n",
       "       [0.+0.j, 1.+0.j, 1.+0.j, 0.+0.j]])>"
      ]
     },
     "execution_count": 253,
     "metadata": {},
     "output_type": "execute_result"
    }
   ],
   "source": [
    "h_t = H_QA(1, 1_000, h_perc, h_x)\n",
    "h_t"
   ]
  },
  {
   "attachments": {},
   "cell_type": "markdown",
   "metadata": {},
   "source": [
    "## Defining algorithm functions"
   ]
  },
  {
   "cell_type": "code",
   "execution_count": 3,
   "metadata": {},
   "outputs": [],
   "source": [
    "def ed_qa_step(state, Ht, dt):\n",
    "\n",
    "    eigvals, eigvecs = tfl.eigh(Ht)\n",
    "    # define time evolution operator\n",
    "    U = tf.exp(-1.j*eigvals*dt)\n",
    "\n",
    "    # rewrite state in eigenvector basis, apply time evolution operator, project back to computational basis\n",
    "    evolved = tfl.matvec(eigvecs, U * tfl.matvec(eigvecs, state, adjoint_a=True))\n",
    "    return evolved"
   ]
  },
  {
   "attachments": {},
   "cell_type": "markdown",
   "metadata": {},
   "source": [
    "## Running ED QA"
   ]
  },
  {
   "cell_type": "code",
   "execution_count": 24,
   "metadata": {},
   "outputs": [],
   "source": [
    "def create_dataset(N : int, features : int):\n",
    "    \"\"\"Create dataset as described by ref. paper, i.e. random +-1 values.\"\"\"\n",
    "    x = np.random.randint(2, size=(N, features))\n",
    "    x[ x == 0 ] = -1  # data is encoded as +- 1\n",
    "    return x"
   ]
  },
  {
   "cell_type": "code",
   "execution_count": 30,
   "metadata": {},
   "outputs": [],
   "source": [
    "tau = 1_000\n",
    "P   = 1_000\n",
    "dt  = tau/P\n",
    "N_data = 8\n",
    "N_feat = 10\n",
    "\n",
    "data   = create_dataset(N_data, N_feat).astype('float32')\n",
    "labels = tf.ones((N_data), 'float32')"
   ]
  },
  {
   "cell_type": "code",
   "execution_count": 31,
   "metadata": {},
   "outputs": [],
   "source": [
    "data = np.load('patterns8_10.npy')\n",
    "#h_perc = tf.cast(H_perc_nobatch(data, labels), 'complex128')"
   ]
  },
  {
   "cell_type": "code",
   "execution_count": 32,
   "metadata": {},
   "outputs": [
    {
     "data": {
      "application/vnd.jupyter.widget-view+json": {
       "model_id": "6875edda55214ee8987dde79d8212205",
       "version_major": 2,
       "version_minor": 0
      },
      "text/plain": [
       "Constructing H_perc:   0%|          | 0/8 [00:00<?, ?it/s]"
      ]
     },
     "metadata": {},
     "output_type": "display_data"
    },
    {
     "data": {
      "application/vnd.jupyter.widget-view+json": {
       "model_id": "35431877e9a741078031b65124b72c9b",
       "version_major": 2,
       "version_minor": 0
      },
      "text/plain": [
       "ED QA:   0%|          | 0/1000 [00:00<?, ?it/s]"
      ]
     },
     "metadata": {},
     "output_type": "display_data"
    }
   ],
   "source": [
    "\n",
    "h_perc = tf.cast(H_perc_nobatch(data, labels), 'complex128')\n",
    "E0     = tfl.eigh(h_perc)[0][0]\n",
    "h_x    = tf.cast(H_x(data.shape[1]), 'complex128')\n",
    "#h_z    = tf.cast(H_z(data.shape[1]), 'complex128')\n",
    "\n",
    "state = init_state(data.shape[1])\n",
    "loss  = []\n",
    "\n",
    "pbar = tqdm(range(P), desc='ED QA')\n",
    "for i in pbar:\n",
    "\n",
    "    h_t   = H_QA(i+1, P, h_perc, h_x)\n",
    "    state = ed_qa_step(state, h_t, dt)\n",
    "\n",
    "    loss.append(tf.cast((tf.tensordot(tf.math.conj(state), tfl.matvec(tf.cast(h_perc, 'complex128'), state), axes=1)-E0)/N_feat, 'float32').numpy())\n",
    "\n",
    "    pbar.set_postfix({'loss':loss[-1], 'norm':tf.cast(tf.norm(state), 'float32').numpy()})"
   ]
  },
  {
   "cell_type": "code",
   "execution_count": 35,
   "metadata": {},
   "outputs": [
    {
     "data": {
      "text/plain": [
       "<tf.Tensor: shape=(1024,), dtype=complex128, numpy=\n",
       "array([ 3.12656941e-05-1.72558920e-05j, -1.13552917e-05-1.61864872e-05j,\n",
       "        6.86375497e-06-1.67800761e-05j, ...,\n",
       "        1.43318255e-04+8.19053867e-05j,  1.91462901e-05+4.63298154e-05j,\n",
       "        5.05310567e-05+2.08742778e-05j])>"
      ]
     },
     "execution_count": 35,
     "metadata": {},
     "output_type": "execute_result"
    }
   ],
   "source": [
    "state"
   ]
  },
  {
   "cell_type": "code",
   "execution_count": 37,
   "metadata": {},
   "outputs": [],
   "source": [
    "np.save('result', state.numpy())"
   ]
  },
  {
   "attachments": {},
   "cell_type": "markdown",
   "metadata": {},
   "source": [
    "### Tests"
   ]
  },
  {
   "cell_type": "code",
   "execution_count": 103,
   "metadata": {},
   "outputs": [
    {
     "data": {
      "text/plain": [
       "array([[142]])"
      ]
     },
     "execution_count": 103,
     "metadata": {},
     "output_type": "execute_result"
    }
   ],
   "source": [
    "which_down = tf.where(tf.cast(tfl.eigh(h_perc)[1][0], 'float32') > 0.).numpy()\n",
    "which_down"
   ]
  },
  {
   "cell_type": "code",
   "execution_count": 106,
   "metadata": {},
   "outputs": [
    {
     "data": {
      "text/plain": [
       "array([-8.16668636e-06+4.13087259e-05j])"
      ]
     },
     "execution_count": 106,
     "metadata": {},
     "output_type": "execute_result"
    }
   ],
   "source": [
    "state.numpy()[which_down[0]]"
   ]
  },
  {
   "cell_type": "code",
   "execution_count": 36,
   "metadata": {},
   "outputs": [
    {
     "data": {
      "image/png": "[encoded data removed]",
      "text/plain": [
       "<Figure size 640x480 with 1 Axes>"
      ]
     },
     "metadata": {},
     "output_type": "display_data"
    }
   ],
   "source": [
    "plt.plot((np.array(range(P))+1)/P, abs(np.asarray(loss)))\n",
    "plt.yscale('log')\n",
    "plt.ylabel(r'$\\epsilon(s)$')\n",
    "plt.xlabel(r'$s$')\n",
    "plt.grid(alpha=0.2)"
   ]
  },
  {
   "cell_type": "code",
   "execution_count": 42,
   "metadata": {},
   "outputs": [
    {
     "data": {
      "text/plain": [
       "<tf.Tensor: shape=(), dtype=float32, numpy=0.9799511>"
      ]
     },
     "execution_count": 42,
     "metadata": {},
     "output_type": "execute_result"
    }
   ],
   "source": [
    "# comparison with dQA approach\n",
    "\n",
    "psi_dqa = np.load('stato2.npy')\n",
    "psi_qa  = np.load('result.npy')\n",
    "\n",
    "\n",
    "tf.cast(tf.norm(tfl.matvec(tf.cast(psi_dqa, 'complex128'), psi_qa, adjoint_a=True )), 'float32')"
   ]
  },
  {
   "attachments": {},
   "cell_type": "markdown",
   "metadata": {},
   "source": [
    "## Study the time evolution operator\n",
    "To efficiently simulate the dynamics I want that the eigenvalues do not change very fast from one step to the next one"
   ]
  },
  {
   "cell_type": "code",
   "execution_count": 11,
   "metadata": {},
   "outputs": [
    {
     "data": {
      "application/vnd.jupyter.widget-view+json": {
       "model_id": "8562d63ac7ca47e8b5469d55e46a38af",
       "version_major": 2,
       "version_minor": 0
      },
      "text/plain": [
       "Constructing H_perc:   0%|          | 0/8 [00:00<?, ?it/s]"
      ]
     },
     "metadata": {},
     "output_type": "display_data"
    },
    {
     "name": "stderr",
     "output_type": "stream",
     "text": [
      "2023-03-17 10:32:39.160746: I tensorflow/core/util/cuda_solvers.cc:179] Creating GpuSolver handles for stream 0x5601b5f56d80\n"
     ]
    }
   ],
   "source": [
    "tau = 100\n",
    "P   = 1_000\n",
    "dt  = tau/P\n",
    "N_data = 8\n",
    "N_feat = 10\n",
    "\n",
    "#data   = create_dataset(N_data, N_feat).astype('float32')\n",
    "labels = tf.ones((N_data), 'float32')\n",
    "\n",
    "h_perc = tf.cast(H_perc_nobatch(data, labels), 'complex128')\n",
    "E0     = tfl.eigh(h_perc)[0][0]\n",
    "h_x    = tf.cast(H_x(data.shape[1]), 'complex128')"
   ]
  },
  {
   "cell_type": "code",
   "execution_count": 49,
   "metadata": {},
   "outputs": [
    {
     "data": {
      "application/vnd.jupyter.widget-view+json": {
       "model_id": "c484f4a6bd65470f932f7d9758dcc109",
       "version_major": 2,
       "version_minor": 0
      },
      "text/plain": [
       "Spectral analysis:   0%|          | 0/1000 [00:00<?, ?it/s]"
      ]
     },
     "metadata": {},
     "output_type": "display_data"
    }
   ],
   "source": [
    "eigvals_array = np.empty((P, 2**N_feat))\n",
    "\n",
    "pbar = tqdm(range(P), desc='Spectral analysis')\n",
    "for i in pbar:\n",
    "    \n",
    "    h_t   = H_QA(i+1, P, h_perc, h_x)\n",
    "    eigvals, eigvecs = tfl.eigh(h_t)\n",
    "\n",
    "    eigvals_array[i] = tf.cast(eigvals, 'float32')"
   ]
  },
  {
   "cell_type": "code",
   "execution_count": 50,
   "metadata": {},
   "outputs": [
    {
     "data": {
      "text/plain": [
       "[<matplotlib.lines.Line2D at 0x7f422c21f430>]"
      ]
     },
     "execution_count": 50,
     "metadata": {},
     "output_type": "execute_result"
    },
    {
     "data": {
      "image/png": "[encoded data removed]",
      "text/plain": [
       "<Figure size 640x480 with 1 Axes>"
      ]
     },
     "metadata": {},
     "output_type": "display_data"
    }
   ],
   "source": [
    "plt.plot(range(P), eigvals_array[:,0])"
   ]
  },
  {
   "cell_type": "code",
   "execution_count": 16,
   "metadata": {},
   "outputs": [
    {
     "data": {
      "text/plain": [
       "<tf.Tensor: shape=(), dtype=complex128, numpy=(0.005543623585253954+0j)>"
      ]
     },
     "execution_count": 16,
     "metadata": {},
     "output_type": "execute_result"
    }
   ],
   "source": [
    "state = tf.cast(psi_dqa.squeeze(), 'complex128')\n",
    "epsilon = (tf.cast(tf.tensordot(tf.math.conj(state), tfl.matvec(h_perc, state), axes=1), 'float32').numpy()-E0)/N_data\n",
    "epsilon"
   ]
  },
  {
   "cell_type": "code",
   "execution_count": 13,
   "metadata": {},
   "outputs": [
    {
     "data": {
      "text/plain": [
       "<tf.Tensor: shape=(1024, 1), dtype=complex128, numpy=\n",
       "array([[ 4.01072640e-07-6.31496687e-06j],\n",
       "       [ 3.94224998e-07+1.55372236e-05j],\n",
       "       [ 6.62732873e-06-5.25240330e-06j],\n",
       "       ...,\n",
       "       [-9.93800768e-07-4.13709472e-07j],\n",
       "       [-1.63134530e-07-2.94461330e-07j],\n",
       "       [ 2.34337222e-06+5.77729043e-06j]])>"
      ]
     },
     "execution_count": 13,
     "metadata": {},
     "output_type": "execute_result"
    }
   ],
   "source": [
    "state"
   ]
  },
  {
   "attachments": {},
   "cell_type": "markdown",
   "metadata": {},
   "source": [
    "# Reimplement in Numpy or Cupy"
   ]
  },
  {
   "cell_type": "code",
   "execution_count": 11,
   "metadata": {},
   "outputs": [],
   "source": [
    "import matplotlib.pyplot as plt\n",
    "import numpy as np\n",
    "from tqdm.notebook import tqdm\n",
    "from importlib.util import find_spec\n",
    "GPU = False\n",
    "\n",
    "if GPU:\n",
    "    if find_spec('cupy') is not None:\n",
    "        import cupy as ncp\n",
    "    else:\n",
    "        print('Selected device is GPU but cupy is not installed, falling back to numpy')\n",
    "        import numpy as ncp\n",
    "else:\n",
    "    import numpy as ncp"
   ]
  },
  {
   "cell_type": "code",
   "execution_count": 12,
   "metadata": {},
   "outputs": [],
   "source": [
    "def kronecker_prod(operators):\n",
    "\n",
    "    result = operators[0]\n",
    "    for op in operators[1:]:\n",
    "\n",
    "        result = ncp.kron(result, op)\n",
    "\n",
    "    return result\n",
    "\n",
    "def ReLU(x):\n",
    "    return x * (x > 0)\n",
    "\n",
    "def H_perc_diag(data, labels):\n",
    "    ## ASSUMING H_PERC IS DIAGONAL, WHICH IS IN THE COMPUTATIONAL BASIS ##\n",
    "    n_data, n = data.shape\n",
    "    identity = ncp.ones((2,), 'float64')\n",
    "    sigma_z  = ncp.array([1., -1.])\n",
    "\n",
    "    h_perc = ncp.zeros((2**n,), dtype='float64')\n",
    "    \n",
    "    for i in tqdm(range(n_data), desc='Constructing H_perc'):\n",
    "\n",
    "        op = ncp.zeros((2**n,), dtype='float64')\n",
    "        for j in range(n):\n",
    "\n",
    "            op += kronecker_prod([identity]*j+[data[i, j] * sigma_z]+[identity]*(n-j-1))\n",
    "\n",
    "        h_perc += ReLU(-labels[i]*op)\n",
    "        del op\n",
    "\n",
    "    return h_perc / ncp.sqrt(n)\n",
    "\n",
    "def H_x(n):\n",
    "    identity = ncp.diag([1., 1.])\n",
    "    sigma_x  = ncp.array([[0., 1.], [1., 0.]])\n",
    "\n",
    "    op = ncp.zeros((2**n, 2**n), dtype='float64')\n",
    "    for j in range(n):\n",
    "        op += kronecker_prod([identity]*j+[sigma_x]+[identity]*(n-j-1))\n",
    "\n",
    "    return -op\n",
    "\n",
    "def H_QA(p, P, Hz, Hx):\n",
    "    frac = p/P\n",
    "    return (frac*Hz + (1-frac)*Hx).astype('complex128')\n",
    "\n",
    "\n",
    "def init_state(n):\n",
    "    return (ncp.ones((2**n,))/ncp.sqrt(2**n)).astype('complex128')\n",
    "\n",
    "\n",
    "def ed_qa_step(state, Ht, dt):\n",
    "\n",
    "    eigvals, eigvecs = ncp.linalg.eigh(Ht)\n",
    "    # define time evolution operator\n",
    "    U = ncp.exp(-1.j*eigvals*dt)\n",
    "\n",
    "    # rewrite state in eigenvector basis, apply time evolution operator, project back to computational basis\n",
    "    evolved = ncp.dot(eigvecs, U * ncp.dot(eigvecs.transpose().conjugate(), state))\n",
    "    return evolved"
   ]
  },
  {
   "cell_type": "code",
   "execution_count": 13,
   "metadata": {},
   "outputs": [],
   "source": [
    "def create_dataset(N : int, features : int):\n",
    "    \"\"\"Create dataset as described by ref. paper, i.e. random +-1 values.\"\"\"\n",
    "    x = np.random.randint(2, size=(N, features))\n",
    "    x[ x == 0 ] = -1  # data is encoded as +- 1\n",
    "    return x"
   ]
  },
  {
   "cell_type": "code",
   "execution_count": 14,
   "metadata": {},
   "outputs": [],
   "source": [
    "tau = 1_000\n",
    "P   = 1_000\n",
    "dt  = tau/P\n",
    "N_data = 10\n",
    "N_feat = 13\n",
    "\n",
    "#data   = np.load('../data/patterns8_10.npy')\n",
    "data   = create_dataset(N_data, N_feat)\n",
    "labels = np.ones((N_data), 'float32')"
   ]
  },
  {
   "cell_type": "code",
   "execution_count": 15,
   "metadata": {},
   "outputs": [
    {
     "data": {
      "application/vnd.jupyter.widget-view+json": {
       "model_id": "601b16f6291d47ddadb479cd3dea7b03",
       "version_major": 2,
       "version_minor": 0
      },
      "text/plain": [
       "Constructing H_perc:   0%|          | 0/10 [00:00<?, ?it/s]"
      ]
     },
     "metadata": {},
     "output_type": "display_data"
    },
    {
     "data": {
      "application/vnd.jupyter.widget-view+json": {
       "model_id": "18babd905c4e4126ac26d9bbfd8cdc1b",
       "version_major": 2,
       "version_minor": 0
      },
      "text/plain": [
       "ED QA:   0%|          | 0/1000 [00:00<?, ?it/s]"
      ]
     },
     "metadata": {},
     "output_type": "display_data"
    }
   ],
   "source": [
    "\n",
    "h_perc_diag = H_perc_diag(data, labels)\n",
    "E0     = np.sort(h_perc_diag)[0]\n",
    "h_x    = H_x(data.shape[1])\n",
    "h_perc = np.diag(h_perc_diag)\n",
    "#h_z    = tf.cast(H_z(data.shape[1]), 'complex128')\n",
    "\n",
    "state = init_state(data.shape[1])\n",
    "loss  = []\n",
    "\n",
    "pbar = tqdm(range(P), desc='ED QA')\n",
    "for i in pbar:\n",
    "\n",
    "    h_t   = H_QA(i+1, P, h_perc, h_x)\n",
    "    state = ed_qa_step(state, h_t, dt)\n",
    "\n",
    "    loss.append(ncp.real_if_close((ncp.tensordot(state.conjugate(), ncp.dot(h_perc, state), axes=1)-E0)/N_feat))\n",
    "\n",
    "    pbar.set_postfix({'loss':loss[-1].astype('float32'), 'norm':ncp.linalg.norm(state).astype('float32')})"
   ]
  },
  {
   "cell_type": "code",
   "execution_count": 32,
   "metadata": {},
   "outputs": [],
   "source": [
    "test_arr = np.array([1., 1.], 'complex128')\n",
    "test_mat = np.array([[1., 0.], [0., 2.]])"
   ]
  },
  {
   "cell_type": "code",
   "execution_count": 33,
   "metadata": {},
   "outputs": [
    {
     "data": {
      "text/plain": [
       "array([1.+0.j, 1.+0.j, 1.+0.j, 1.+0.j])"
      ]
     },
     "execution_count": 33,
     "metadata": {},
     "output_type": "execute_result"
    }
   ],
   "source": [
    "ncp.kron(test_arr, test_arr)"
   ]
  },
  {
   "cell_type": "code",
   "execution_count": 22,
   "metadata": {},
   "outputs": [
    {
     "data": {
      "text/plain": [
       "array([1.+0.j, 2.+0.j])"
      ]
     },
     "execution_count": 22,
     "metadata": {},
     "output_type": "execute_result"
    }
   ],
   "source": [
    "np.tensordot( np.array([1., 1.], 'complex128'), np.array([[1., 0.], [0., 2.]]), axes=1)"
   ]
  },
  {
   "cell_type": "code",
   "execution_count": 17,
   "metadata": {},
   "outputs": [
    {
     "data": {
      "image/png": "[encoded data removed]",
      "text/plain": [
       "<Figure size 640x480 with 1 Axes>"
      ]
     },
     "metadata": {},
     "output_type": "display_data"
    }
   ],
   "source": [
    "plt.plot(((ncp.array(range(P))+1)/P).get(), ncp.asarray(loss).get())\n",
    "plt.yscale('log')\n",
    "plt.ylabel(r'$\\epsilon(s)$')\n",
    "plt.xlabel(r'$s$')\n",
    "plt.grid(alpha=0.2)"
   ]
  },
  {
   "attachments": {},
   "cell_type": "markdown",
   "metadata": {},
   "source": [
    "# Deprecated stuff"
   ]
  },
  {
   "cell_type": "code",
   "execution_count": 3,
   "metadata": {},
   "outputs": [],
   "source": [
    "def H_perc2(state, data, labels):\n",
    "    n_data, n = data.shape\n",
    "    h_perc = tf.zeros((2**n, 2**n), dtype='complex128')\n",
    "    \n",
    "    id      = tfl.LinearOperatorIdentity(2) \n",
    "    sigma_z = tfl.LinearOperatorFullMatrix(tf.constant([[1., 0.], [0., -1.]]))\n",
    "\n",
    "    for i in range(n_data):\n",
    "        datum_ops = [tfl.LinearOperatorDiag(tf.repeat(data[i,:], [2], axis=0)[j:j+2]) for j in range(0, n*2, 2)]\n",
    "        ops = [tfl.LinearOperatorKronecker([id]*i+[tfl.LinearOperatorComposition([sigma_z, datum_ops[i]])]+[id]*(n-i-1)).to_dense() for j in range(n)]\n",
    "        result_op = tf.cast(-tf.reshape(labels[i], (1, 1))*tf.reduce_sum(tf.stack(ops), axis=0), 'complex128')\n",
    "        if tf.cast(tf.tensordot(tf.math.conj(state), tfl.matvec(result_op, state), axes=1), 'float32') < 0.:\n",
    "            continue\n",
    "        else:\n",
    "            h_perc = h_perc + result_op\n",
    "\n",
    "    return h_perc"
   ]
  },
  {
   "cell_type": "code",
   "execution_count": null,
   "metadata": {},
   "outputs": [],
   "source": []
  }
 ],
 "metadata": {
  "kernelspec": {
   "display_name": "tf2",
   "language": "python",
   "name": "python3"
  },
  "language_info": {
   "codemirror_mode": {
    "name": "ipython",
    "version": 3
   },
   "file_extension": ".py",
   "mimetype": "text/x-python",
   "name": "python",
   "nbconvert_exporter": "python",
   "pygments_lexer": "ipython3",
   "version": "3.9.16"
  },
  "orig_nbformat": 4
 },
 "nbformat": 4,
 "nbformat_minor": 2
}
