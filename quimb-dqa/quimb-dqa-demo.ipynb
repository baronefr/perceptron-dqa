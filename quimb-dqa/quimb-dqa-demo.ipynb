{
 "cells": [
  {
   "attachments": {},
   "cell_type": "markdown",
   "metadata": {},
   "source": [
    "# dQA implementation (QUIMB)\n",
    "\n",
    "dated: 11 March 2022\n",
    "\n",
    "Project for *Quantum Information and Computing*, University of Padua, A.Y. 2022/23\n",
    "\n",
    "**Students** | Francesco Pio Barone, Alberto Coppi, Paolo Zinesi"
   ]
  },
  {
   "cell_type": "code",
   "execution_count": 1,
   "metadata": {},
   "outputs": [],
   "source": [
    "import quimb as qu\n",
    "import quimb.tensor as qtn\n",
    "\n",
    "import numpy as np\n",
    "import numpy.fft as fft\n",
    "\n",
    "import matplotlib.pyplot as plt\n",
    "\n",
    "from tqdm import tqdm"
   ]
  },
  {
   "cell_type": "code",
   "execution_count": 2,
   "metadata": {},
   "outputs": [],
   "source": [
    "#  to use alternative backends:\n",
    "#qtn.contraction.set_contract_backend('torch')"
   ]
  },
  {
   "attachments": {},
   "cell_type": "markdown",
   "metadata": {},
   "source": [
    "### parameters of dQA"
   ]
  },
  {
   "cell_type": "code",
   "execution_count": 3,
   "metadata": {},
   "outputs": [],
   "source": [
    "N = 12     # number of spins/sites/parameters/qubits\n",
    "P = 100    # total number of QA steps  // should be 100/1000\n",
    "dt = 0.5   # time interval\n",
    "# Note: tau (annealing time) will be fixed as P*dt\n",
    "\n",
    "max_bond = 10  # MPS max bond dimension\n",
    "\n",
    "N_xi = 9  # dataset size (number of patterns)"
   ]
  },
  {
   "attachments": {},
   "cell_type": "markdown",
   "metadata": {},
   "source": [
    "### general tools"
   ]
  },
  {
   "cell_type": "code",
   "execution_count": 4,
   "metadata": {},
   "outputs": [],
   "source": [
    "def apply_compress(mpo, mps, max_bond = 8, method = 'svd'):\n",
    "    \"\"\"Apply mpo to mps and compress to max bond dimension.\"\"\"\n",
    "\n",
    "    # note: prev default arg method = 'svds'\n",
    "    return mpo._apply_mps(mps, compress=True, method=method, max_bond=max_bond)"
   ]
  },
  {
   "cell_type": "code",
   "execution_count": 5,
   "metadata": {},
   "outputs": [],
   "source": [
    "def create_dataset(N : int, features : int):\n",
    "    \"\"\"Create dataset as described by ref. paper, i.e. random +-1 values.\"\"\"\n",
    "    x = np.random.randint(2, size=(N, features))\n",
    "    x[ x == 0 ] = -1  # data is encoded as +- 1\n",
    "    return x"
   ]
  },
  {
   "attachments": {},
   "cell_type": "markdown",
   "metadata": {},
   "source": [
    "### time evolution operators"
   ]
  },
  {
   "cell_type": "code",
   "execution_count": 6,
   "metadata": {},
   "outputs": [],
   "source": [
    "def make_Ux(N, beta_p, dtype = np.complex128):\n",
    "    \"\"\"Return as MPO the U_x evolution operator at time-parameter beta_p.\"\"\"\n",
    "\n",
    "    tb = np.array( [[np.cos(beta_p), 1j*np.sin(beta_p)],[1j*np.sin(beta_p), np.cos(beta_p)]], dtype=dtype)\n",
    "    \n",
    "    arrays = [ np.expand_dims(tb, axis=0) ] + \\\n",
    "             [ np.expand_dims(tb, axis=(0,1)) for _ in range(N-2) ] + \\\n",
    "             [ np.expand_dims(tb, axis=0) ]\n",
    "\n",
    "    return qtn.tensor_1d.MatrixProductOperator( arrays )"
   ]
  },
  {
   "cell_type": "code",
   "execution_count": 7,
   "metadata": {},
   "outputs": [],
   "source": [
    "def Wz(N, Uk : np.array, xi : int, marginal = False, dtype = np.complex128):\n",
    "    \"\"\"The tensors of Eq. 17 of reference paper.\"\"\"\n",
    "    \n",
    "    bond_dim = len(Uk)\n",
    "\n",
    "    shape = (bond_dim,2,2) if marginal else (bond_dim,bond_dim,2,2)\n",
    "    tensor = np.zeros( shape, dtype = dtype )\n",
    "\n",
    "    coeff = np.power( Uk/np.sqrt(N+1), 1/N)\n",
    "    exx = 1j * np.arange(bond_dim) * np.pi / (N + 1)    # check: N+1\n",
    "\n",
    "    for kk in range(bond_dim):\n",
    "        spin_matrix = np.diag(\n",
    "            [ coeff[kk]*np.exp(exx[kk]*(1-xi)), \n",
    "              coeff[kk]*np.exp(exx[kk]*(1+xi)) ] \n",
    "        )\n",
    "        if marginal:  tensor[kk,:,:] = spin_matrix\n",
    "        else:         tensor[kk,kk,:,:] = spin_matrix\n",
    "    \n",
    "    return tensor"
   ]
  },
  {
   "cell_type": "code",
   "execution_count": 8,
   "metadata": {},
   "outputs": [],
   "source": [
    "def make_Uz(N : int, Uk : np.array, xi : np.array, bond_dim=None, dtype = np.complex128):\n",
    "    \"\"\"Return as MPO the U_z evolution operator at time s_p (defined indirectly by Uk).\"\"\"\n",
    "\n",
    "    # Uk must be a vector for all k values, while p is fixed \n",
    "    # xi must be a single sample from dataset\n",
    "    \n",
    "    assert len(xi) == N, 'not matching dims'\n",
    "\n",
    "    arrays = [ Wz(N, Uk, xi[0], marginal = True, dtype = dtype) ] + \\\n",
    "             [ Wz(N, Uk, xi[i+1], dtype = dtype) for i in range(N-2) ] + \\\n",
    "             [ Wz(N, Uk, xi[N-1], marginal = True, dtype = dtype) ]\n",
    "\n",
    "    return qtn.tensor_1d.MatrixProductOperator( arrays )"
   ]
  },
  {
   "attachments": {},
   "cell_type": "markdown",
   "metadata": {},
   "source": [
    "#### time evolution secondo Paolo"
   ]
  },
  {
   "cell_type": "code",
   "execution_count": 9,
   "metadata": {},
   "outputs": [],
   "source": [
    "def Ux_p(N, d, beta_p):\n",
    "    \"\"\" Build factorized Ux(beta_p) (bond dimension = 1) on N sites\"\"\"\n",
    "\n",
    "    Ux_i = np.identity(d)*np.cos(beta_p) + 1.0j*(np.ones(d)-np.identity(d))*np.sin(beta_p) # single site operator\n",
    "    Ux = qtn.MPO_product_operator([Ux_i]*N, upper_ind_id='u{}', lower_ind_id='s{}')\n",
    "    return Ux\n",
    "\n",
    "def Uz_p_mu(N, d, p, mu, Uz_FT_, patterns):\n",
    "    \"\"\" Build Uz^mu(gamma_p) (bond dimension = N+1) on N sites\n",
    "        - p in range(1,P+1)\n",
    "    \"\"\"\n",
    "\n",
    "    Uz_i = []\n",
    "\n",
    "    # leftermost tensor (i = 1)\n",
    "    i = 1\n",
    "    tens = np.zeros((N+1,d,d), dtype=np.complex128)\n",
    "    for s_i in range(d):\n",
    "        tens[:,s_i,s_i] = np.power(Uz_FT_[:,p-1]/np.sqrt(N+1), 1/N) * np.exp(1.0j * (np.pi/(N+1)) * np.arange(N+1) * (1-patterns[mu,i-1]*(-1)**s_i))\n",
    "    Uz_i.append(tens.copy())\n",
    "\n",
    "    # bulk tensors (2 <= i <= N-1)\n",
    "    for i in range(2,N):\n",
    "        tens = np.zeros((N+1,N+1,d,d), dtype=np.complex128)\n",
    "        for s_i in range(d):\n",
    "            np.fill_diagonal(tens[:,:,s_i,s_i], \n",
    "                             np.power(Uz_FT_[:,p-1]/np.sqrt(N+1), 1/N) * np.exp(1.0j * (np.pi/(N+1)) * np.arange(N+1) * (1-patterns[mu,i-1]*(-1)**s_i)))\n",
    "        Uz_i.append(tens.copy())\n",
    "    \n",
    "\n",
    "    # rightermost tensor (i = N)\n",
    "    i = N\n",
    "    tens = np.zeros((N+1,d,d), dtype=np.complex128)\n",
    "    for s_i in range(d):\n",
    "        tens[:,s_i,s_i] = np.power(Uz_FT_[:,p-1]/np.sqrt(N+1), 1/N) * np.exp(1.0j * (np.pi/(N+1)) * np.arange(N+1) * (1-patterns[mu,i-1]*(-1)**s_i))\n",
    "    Uz_i.append(tens.copy())\n",
    "\n",
    "\n",
    "    Uz = qtn.tensor_1d.MatrixProductOperator(Uz_i, upper_ind_id='u{}', lower_ind_id='s{}') # lower is contracted with psi\n",
    "    return Uz"
   ]
  },
  {
   "attachments": {},
   "cell_type": "markdown",
   "metadata": {},
   "source": [
    "### hamiltonian evaluation"
   ]
  },
  {
   "cell_type": "code",
   "execution_count": 10,
   "metadata": {},
   "outputs": [],
   "source": [
    "def h_perceptron(m, N):\n",
    "    \"\"\" Cost function to be minimized in the perceptron model, depending on the overlap m.\n",
    "        The total H_z Hamiltonian is obtained as a sum of these cost functions evaluated at each pattern csi_mu.\n",
    "\n",
    "        h(m) = 0 if m>=0 else -m/sqrt(N)\n",
    "    \"\"\"\n",
    "    m = np.array(m)\n",
    "    return np.where(m>=0, 0, -m/np.sqrt(N)).squeeze()\n",
    "\n",
    "def f_perceptron(x, N):\n",
    "    \"\"\" Cost function to be minimized in the perceptron model, depending on the Hamming distance x.\n",
    "        The total H_z Hamiltonian is obtained as a sum of these cost functions evaluated at each pattern csi_mu.\n",
    "\n",
    "        f(x) = h(N - 2x) = h(m(x)) with m(x) = N - 2x\n",
    "    \"\"\"\n",
    "\n",
    "    m = N - 2*np.asarray(x)\n",
    "    return h_perceptron(m, N)"
   ]
  },
  {
   "cell_type": "code",
   "execution_count": 11,
   "metadata": {},
   "outputs": [],
   "source": [
    "fx_FT = fft.fft(f_perceptron(range(N+1), N), norm=\"ortho\")\n",
    "\n",
    "def Hz_mu_singleK(N, mu, K, f_FT_, patterns, dtype=np.complex128):\n",
    "    \"\"\" Build factorized Hz^{mu,k} (bond dimension = 1) on N sites\"\"\"\n",
    "\n",
    "    Hz_i = []\n",
    "    for i in range(N):\n",
    "        tens = np.zeros((2,2), dtype=dtype)\n",
    "        for s_i in range(2):\n",
    "            tens[s_i,s_i] = np.power(f_FT_[K]/np.sqrt(N+1), 1/N) * \\\n",
    "                np.exp( 1.0j * (np.pi/(N+1)) * K *\\\n",
    "                        (1-patterns[mu,i]*((-1)**s_i)) )\n",
    "        Hz_i.append(tens) # removed copy\n",
    "\n",
    "    Hz = qtn.MPO_product_operator(Hz_i, upper_ind_id='u{}', lower_ind_id='s{}')\n",
    "    return Hz\n",
    "\n",
    "# this is really the same!\n",
    "def Hz_mu_singleK(N, mu, K, f_FT_, patterns):\n",
    "    \"\"\" Build factorized Hz^{mu,k} (bond dimension = 1) on N sites\"\"\"\n",
    "\n",
    "    d = 2\n",
    "    Hz_i = []\n",
    "    for i in range(1,N+1):\n",
    "        tens = np.zeros((d,d), dtype=np.complex128)\n",
    "        for s_i in range(d):\n",
    "            tens[s_i,s_i] = np.power(f_FT_[K]/np.sqrt(N+1), 1/N) * np.exp(1.0j * (np.pi/(N+1)) * K * (1-patterns[mu,i-1]*(-1)**s_i))\n",
    "        Hz_i.append(tens.copy())\n",
    "\n",
    "    Hz = qtn.MPO_product_operator(Hz_i)#, upper_ind_id='u{}', lower_ind_id='s{}')\n",
    "    return Hz"
   ]
  },
  {
   "cell_type": "code",
   "execution_count": 12,
   "metadata": {},
   "outputs": [],
   "source": [
    "def compute_loss(psi, N, fxft, xi):\n",
    "    N_tens = psi.num_tensors\n",
    "    eps = 0.0\n",
    "    for mu in range(N_xi):\n",
    "        for kk in range(N+1):\n",
    "            mpo = Hz_mu_singleK(N, mu, kk, fxft, xi)  # store!\n",
    "\n",
    "            pp = psi.copy()\n",
    "\n",
    "            pH = pp.H\n",
    "            pp.align_(mpo, pH)\n",
    "\n",
    "            #pH = psi.reindex({f\"s{i}\":f\"u{i}\" for i in range(N_tens)}).H\n",
    "            \n",
    "            tnet = pH & mpo & pp\n",
    "\n",
    "            eps += (tnet.contract()/N_tens)\n",
    "    \n",
    "    return eps"
   ]
  },
  {
   "attachments": {},
   "cell_type": "markdown",
   "metadata": {},
   "source": [
    "## run"
   ]
  },
  {
   "cell_type": "code",
   "execution_count": 13,
   "metadata": {},
   "outputs": [],
   "source": [
    "try:\n",
    "    xi = np.load('../data/patterns_9-12.npy')\n",
    "except:\n",
    "    xi = create_dataset(N, N_xi)\n",
    "\n",
    "# this is the initial state, an MPS of bond_dim = 1\n",
    "psi = qu.tensor.tensor_builder.MPS_product_state( \n",
    "    [ np.array([[2**-0.5, 2**-0.5]], dtype=np.complex128) ] * N,\n",
    "    tags=['psi'],\n",
    ")\n",
    "\n",
    "tau = dt * P\n",
    "\n",
    "# keep track of loss function\n",
    "loss = []\n",
    "\n",
    "# etc\n",
    "cc = []"
   ]
  },
  {
   "cell_type": "code",
   "execution_count": 14,
   "metadata": {},
   "outputs": [],
   "source": [
    "# fourier transform of U_z -> U_k\n",
    "Uk_FT = np.zeros((N+1,P), dtype=np.complex128)\n",
    "\n",
    "for p in range(0,P):\n",
    "    Uk_FT[:,p] = fft.fft( np.exp(-1.0j*((p+1)/P)*dt*f_perceptron(range(N+1), N)), norm=\"ortho\")"
   ]
  },
  {
   "cell_type": "code",
   "execution_count": 15,
   "metadata": {},
   "outputs": [
    {
     "data": {
      "text/plain": [
       "(0.2930447289172962+4.926614671774132e-16j)"
      ]
     },
     "execution_count": 15,
     "metadata": {},
     "output_type": "execute_result"
    }
   ],
   "source": [
    "compute_loss(psi, N, fx_FT, xi)"
   ]
  },
  {
   "cell_type": "code",
   "execution_count": 16,
   "metadata": {},
   "outputs": [
    {
     "name": "stdout",
     "output_type": "stream",
     "text": [
      "dQA---\n",
      " tau = 50.0, P = 100, dt = 0.5\n"
     ]
    },
    {
     "name": "stderr",
     "output_type": "stream",
     "text": [
      "QAnnealing: 100%|██████████| 100/100 [02:13<00:00,  1.33s/it, loss = (0.00338+0j), bd = 10]\n"
     ]
    }
   ],
   "source": [
    "crop_p = None\n",
    "\n",
    "loss.append( (0, compute_loss(psi, N, fx_FT, xi)) )\n",
    "\n",
    "print('dQA---')\n",
    "print(' tau = {}, P = {}, dt = {}'.format(tau, P, dt) )\n",
    "\n",
    "if crop_p is not None:\n",
    "    print(' [!] simulation will be stopped at iter', crop_p)\n",
    "\n",
    "\n",
    "#  finally... RUN!\n",
    "with tqdm(total=P, desc='QAnnealing') as pbar:\n",
    "\n",
    "    for pp in range(P):\n",
    "\n",
    "        s_p = (pp+1)/P\n",
    "        beta_p = (1-s_p)*dt\n",
    "        #gamma_p = s_p*dt    # not needed\n",
    "    \n",
    "        # loop over patterns\n",
    "        for mu in range(N_xi):\n",
    "\n",
    "            Uz = make_Uz(N, Uk_FT[:,pp], xi[mu])\n",
    "            \n",
    "            #Uz = Uz_p_mu(N, 2, pp+1, mu, Uk_FT, patterns=xi)  # from Paolo\n",
    "\n",
    "            curr_bdim = psi.tensors[int(N/2)].shape[0]\n",
    "            cc.append( curr_bdim )\n",
    "\n",
    "            #psi = Uz._apply_mps( psi, compress = False)\n",
    "            psi = apply_compress(Uz, psi, max_bond=max_bond, method='svd')\n",
    "\n",
    "        \n",
    "        Ux = make_Ux(N, beta_p = beta_p)\n",
    "        #Ux = Ux_p(N, 2, beta_p=beta_p)     # from Paolo\n",
    "        psi = Ux.apply( psi, compress = False)\n",
    "\n",
    "        # evaluate  <psi | H | psi>\n",
    "        expv = compute_loss(psi, N, fx_FT, xi)\n",
    "        loss.append( (s_p, expv) )\n",
    "\n",
    "        # etc\n",
    "        pbar.update(1)\n",
    "        pbar.set_postfix_str(\"loss = {}, bd = {}\".format( np.round(expv, 5), curr_bdim ) )\n",
    "        \n",
    "        if crop_p is not None:\n",
    "            if pp == crop_p:   break"
   ]
  },
  {
   "attachments": {},
   "cell_type": "markdown",
   "metadata": {},
   "source": [
    "#### plot"
   ]
  },
  {
   "cell_type": "code",
   "execution_count": 17,
   "metadata": {},
   "outputs": [
    {
     "name": "stderr",
     "output_type": "stream",
     "text": [
      "/home/baronefr/.local/lib/python3.10/site-packages/matplotlib/cbook/__init__.py:1369: ComplexWarning: Casting complex values to real discards the imaginary part\n",
      "  return np.asarray(x, float)\n"
     ]
    },
    {
     "data": {
      "image/png": "[encoded data removed]",
      "text/plain": [
       "<Figure size 640x480 with 1 Axes>"
      ]
     },
     "metadata": {},
     "output_type": "display_data"
    }
   ],
   "source": [
    "plt.plot( *zip(*loss) )\n",
    "plt.yscale('log')\n",
    "plt.title('dQA')\n",
    "plt.show()"
   ]
  },
  {
   "cell_type": "code",
   "execution_count": 18,
   "metadata": {},
   "outputs": [
    {
     "data": {
      "text/plain": [
       "(1.0, (0.003382827131021171+1.734723475976807e-15j))"
      ]
     },
     "execution_count": 18,
     "metadata": {},
     "output_type": "execute_result"
    }
   ],
   "source": [
    "loss[-1]"
   ]
  },
  {
   "cell_type": "code",
   "execution_count": 19,
   "metadata": {},
   "outputs": [
    {
     "data": {
      "text/plain": [
       "[<matplotlib.lines.Line2D at 0x7f0e138e8a30>]"
      ]
     },
     "execution_count": 19,
     "metadata": {},
     "output_type": "execute_result"
    },
    {
     "data": {
      "image/png": "[encoded data removed]",
      "text/plain": [
       "<Figure size 640x480 with 1 Axes>"
      ]
     },
     "metadata": {},
     "output_type": "display_data"
    }
   ],
   "source": [
    "plt.plot(cc)"
   ]
  },
  {
   "cell_type": "code",
   "execution_count": 21,
   "metadata": {},
   "outputs": [],
   "source": [
    "# [INFO] to eventually save the curve...\n",
    "#np.save('../data/quimb-demo-dqa.npy', np.array([el[1] for el in loss]))"
   ]
  },
  {
   "attachments": {},
   "cell_type": "markdown",
   "metadata": {},
   "source": [
    "***\n",
    "Code by *Francesco Barone* and *Paolo Zinesi*, last review: 25 March 2023.\n",
    "\n",
    "**Workgroup**: Barone Francesco, Coppi Alberto, Zinesi Paolo\n",
    "\n",
    "University of Padua, Quantum Information and Computing"
   ]
  }
 ],
 "metadata": {
  "kernelspec": {
   "display_name": "Python 3",
   "language": "python",
   "name": "python3"
  },
  "language_info": {
   "codemirror_mode": {
    "name": "ipython",
    "version": 3
   },
   "file_extension": ".py",
   "mimetype": "text/x-python",
   "name": "python",
   "nbconvert_exporter": "python",
   "pygments_lexer": "ipython3",
   "version": "3.10.6"
  },
  "orig_nbformat": 4,
  "vscode": {
   "interpreter": {
    "hash": "e7370f93d1d0cde622a1f8e1c04877d8463912d04d973331ad4851f04de6915a"
   }
  }
 },
 "nbformat": 4,
 "nbformat_minor": 2
}
