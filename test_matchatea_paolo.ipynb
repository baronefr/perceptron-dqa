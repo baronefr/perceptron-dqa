{
 "cells": [
  {
   "cell_type": "markdown",
   "metadata": {},
   "source": [
    "# Quantum Matcha TEA library"
   ]
  },
  {
   "cell_type": "code",
   "execution_count": 1,
   "metadata": {},
   "outputs": [],
   "source": [
    "import numpy as np\n",
    "from tqdm import trange\n",
    "\n",
    "import qtealeaves.observables as obs\n",
    "from qmatchatea.qk_utils import qiskit_get_statevect\n",
    "from qmatchatea import QCConvergenceParameters, QCOperators, QCBackend\n",
    "from qmatchatea.py_emulator import run_py_simulation\n",
    "\n",
    "from qiskit import QuantumCircuit, assemble, transpile, QuantumRegister, AncillaRegister, Aer\n",
    "from qiskit.circuit.library import QFT\n",
    "from qiskit.visualization import plot_histogram\n",
    "from qiskit.providers.aer import QasmSimulator\n",
    "from qiskit.quantum_info import Statevector\n",
    "\n",
    "from dQA_circuit import HammingEvolution\n",
    "\n",
    "from lib.dQA_loss import *"
   ]
  },
  {
   "cell_type": "code",
   "execution_count": 2,
   "metadata": {},
   "outputs": [
    {
     "data": {
      "text/plain": [
       "(5, 7)"
      ]
     },
     "execution_count": 2,
     "metadata": {},
     "output_type": "execute_result"
    }
   ],
   "source": [
    "N_csi, N = 5, 7\n",
    "\n",
    "x = np.random.randint(2, size = (N_csi, N) )\n",
    "x[ x == 0 ] = -1  # data is encoded as +- 1\n",
    "\n",
    "csi_patterns = x\n",
    "csi_patterns.shape"
   ]
  },
  {
   "cell_type": "markdown",
   "metadata": {},
   "source": [
    "## Test "
   ]
  },
  {
   "cell_type": "code",
   "execution_count": 3,
   "metadata": {},
   "outputs": [
    {
     "name": "stderr",
     "output_type": "stream",
     "text": [
      "100%|██████████| 100/100 [08:44<00:00,  5.24s/it]\n"
     ]
    }
   ],
   "source": [
    "# circuit generator\n",
    "qc_generator = HammingEvolution(num_data_qubits=N)\n",
    "\n",
    "# actual circuit (in initial superposition)\n",
    "qc = qc_generator.init_state_plus()\n",
    "\n",
    "P = 100\n",
    "dt = 1\n",
    "\n",
    "for pp in trange(P):\n",
    "    s_p = (pp+1)/P\n",
    "    gamma_p = s_p*dt\n",
    "    beta_p = (1-s_p)*dt\n",
    "\n",
    "    for mu in range( N_csi ):\n",
    "    \n",
    "        # create Hamming error counter circuit based on the given pattern\n",
    "        qc_counter = qc_generator.Hamming_count(train_data=csi_patterns[mu,:])\n",
    "        qc_counter_inverse = qc_counter.inverse()\n",
    "    \n",
    "        # create evolution circuit\n",
    "        qc_Uz = qc_generator.U_z(train_data=csi_patterns[mu,:], gamma=gamma_p)\n",
    "    \n",
    "        qc = qc.compose(qc_counter)\n",
    "        qc = qc.compose(qc_Uz)\n",
    "        qc = qc.compose(qc_counter_inverse)\n",
    "\n",
    "    # apply Ux\n",
    "    qc_Ux = qc_generator.U_x(beta_p)\n",
    "    qc = qc.compose(qc_Ux)"
   ]
  },
  {
   "cell_type": "code",
   "execution_count": 4,
   "metadata": {},
   "outputs": [],
   "source": [
    "operators = QCOperators()\n",
    "sigma_z = np.array([[1, 0], [0, -1]])\n",
    "operators.ops[\"sz\"] = sigma_z\n",
    "\n",
    "observables = obs.TNObservables()\n",
    "observables += obs.TNObsBondEntropy()\n",
    "observables += obs.TNState2File(\"state.txt\", \"F\")\n",
    "observables += obs.TNObsLocal('label', 'sz')\n",
    "\n",
    "\n",
    "conv_params = QCConvergenceParameters(max_bond_dimension=10, singval_mode=\"C\")\n",
    "backend = QCBackend(backend=\"PY\")"
   ]
  },
  {
   "cell_type": "code",
   "execution_count": 5,
   "metadata": {},
   "outputs": [],
   "source": [
    "res = run_py_simulation(\n",
    "    qc,\n",
    "    convergence_parameters=conv_params,\n",
    "    operators=operators,\n",
    "    observables=observables,\n",
    "    backend=backend\n",
    ")"
   ]
  },
  {
   "cell_type": "code",
   "execution_count": 6,
   "metadata": {},
   "outputs": [
    {
     "data": {
      "text/plain": [
       "dict_keys(['mps_state', 'time', 'energy', 'norm', 'label', 'projective_measurements', 'bond_entropy'])"
      ]
     },
     "execution_count": 6,
     "metadata": {},
     "output_type": "execute_result"
    }
   ],
   "source": [
    "res.observables.keys()"
   ]
  },
  {
   "cell_type": "code",
   "execution_count": 7,
   "metadata": {},
   "outputs": [
    {
     "name": "stdout",
     "output_type": "stream",
     "text": [
      "(1, 2, 2)\n",
      "(2, 2, 4)\n",
      "(4, 2, 8)\n",
      "(8, 2, 10)\n",
      "(10, 2, 10)\n",
      "(10, 2, 10)\n",
      "(10, 2, 8)\n",
      "(8, 2, 4)\n",
      "(4, 2, 2)\n",
      "(2, 2, 1)\n"
     ]
    }
   ],
   "source": [
    "for i in res.observables[\"mps_state\"]:\n",
    "    print(i.shape)"
   ]
  },
  {
   "cell_type": "code",
   "execution_count": 8,
   "metadata": {},
   "outputs": [
    {
     "data": {
      "text/plain": [
       "{(0, 1): 0.40292107425219215,\n",
       " (1, 2): 0.4032721465618253,\n",
       " (2, 3): 0.6759355431414515,\n",
       " (3, 4): 0.6020741552080249,\n",
       " (4, 5): 0.6200753561471024,\n",
       " (5, 6): 0.6201507183908781,\n",
       " (6, 7): 0.04716626318978098,\n",
       " (7, 8): 0.0338491681955336,\n",
       " (8, 9): 0.024499660074610675}"
      ]
     },
     "execution_count": 8,
     "metadata": {},
     "output_type": "execute_result"
    }
   ],
   "source": [
    "res.observables[\"bond_entropy\"]"
   ]
  },
  {
   "cell_type": "code",
   "execution_count": 14,
   "metadata": {},
   "outputs": [
    {
     "data": {
      "text/plain": [
       "Array(0.00244564+1.4901161e-08j, dtype=complex64)"
      ]
     },
     "execution_count": 14,
     "metadata": {},
     "output_type": "execute_result"
    }
   ],
   "source": [
    "\n",
    "\n",
    "obj = mydQA_ancilla(csi_patterns[:,::-1], P, dt, max_bond=10, n_ancilla=3)\n",
    "obj.init_fourier()\n",
    "obj.compute_loss( res.observables[\"mps_state\"] )"
   ]
  }
 ],
 "metadata": {
  "kernelspec": {
   "display_name": "quimb_env",
   "language": "python",
   "name": "python3"
  },
  "language_info": {
   "codemirror_mode": {
    "name": "ipython",
    "version": 3
   },
   "file_extension": ".py",
   "mimetype": "text/x-python",
   "name": "python",
   "nbconvert_exporter": "python",
   "pygments_lexer": "ipython3",
   "version": "3.10.6"
  },
  "orig_nbformat": 4,
  "vscode": {
   "interpreter": {
    "hash": "30be1788c55a9c56f0f365d4818a43cde71336da9de7e6fce87f21238f11f8b1"
   }
  }
 },
 "nbformat": 4,
 "nbformat_minor": 2
}
