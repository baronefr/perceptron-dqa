{
 "cells": [
  {
   "cell_type": "code",
   "execution_count": 1,
   "metadata": {},
   "outputs": [],
   "source": [
    "import numpy as np\n",
    "import opt_einsum as oe\n",
    "import scipy\n",
    "\n",
    "import quimb as qu\n",
    "import quimb.tensor as qtn"
   ]
  },
  {
   "cell_type": "code",
   "execution_count": 2,
   "metadata": {},
   "outputs": [],
   "source": [
    "from tenso import *"
   ]
  },
  {
   "attachments": {},
   "cell_type": "markdown",
   "metadata": {},
   "source": [
    "### stuff needed to create tensors"
   ]
  },
  {
   "cell_type": "code",
   "execution_count": 3,
   "metadata": {},
   "outputs": [],
   "source": [
    "# in numpy arrays\n",
    "def make_Ux(N, beta_p, dtype = np.complex128):\n",
    "    \"\"\"Return as MPO the U_x evolution operator at time-parameter beta_p.\"\"\"\n",
    "\n",
    "    tb = np.array( [[np.cos(beta_p), 1j*np.sin(beta_p)],[1j*np.sin(beta_p), np.cos(beta_p)]], dtype=dtype)\n",
    "    \n",
    "    arrays = [ np.expand_dims(tb, axis=0) ] + \\\n",
    "             [ np.expand_dims(tb, axis=(0,1)) for _ in range(N-2) ] + \\\n",
    "             [ np.expand_dims(tb, axis=0) ]\n",
    "\n",
    "    return arrays\n",
    "\n",
    "def Wz(N, Uk : np.array, xi : int, marginal = False, dtype = np.complex128):\n",
    "    \"\"\"The tensors of Eq. 17 of reference paper.\"\"\"\n",
    "    \n",
    "    bond_dim = len(Uk)\n",
    "\n",
    "    shape = (bond_dim,2,2) if marginal else (bond_dim,bond_dim,2,2)\n",
    "    tensor = np.zeros( shape, dtype = dtype )\n",
    "\n",
    "    coeff = np.power( Uk/np.sqrt(N+1), 1/N)\n",
    "    exx = 1j * np.arange(bond_dim) * np.pi / (N + 1)    # check: N+1\n",
    "\n",
    "    for kk in range(bond_dim):\n",
    "        spin_matrix = np.diag(\n",
    "            [ coeff[kk]*np.exp(exx[kk]*(1-xi)), \n",
    "              coeff[kk]*np.exp(exx[kk]*(1+xi)) ] \n",
    "        )\n",
    "        if marginal:  tensor[kk,:,:] = spin_matrix\n",
    "        else:         tensor[kk,kk,:,:] = spin_matrix\n",
    "    \n",
    "    return tensor\n",
    "\n",
    "def make_Uz(N : int, Uk , xi ): #, bond_dim = None, dtype = np.complex128):\n",
    "    bond_dim = None\n",
    "    dtype = np.complex128\n",
    "    \"\"\"Return as MPO the U_z evolution operator at time s_p (defined indirectly by Uk).\"\"\"\n",
    "\n",
    "    # Uk must be a vector for all k values, while p is fixed \n",
    "    # xi must be a single sample from dataset\n",
    "    \n",
    "    assert len(xi) == N, 'not matching dims'\n",
    "\n",
    "    arrays = [ Wz(N, Uk, xi[0], marginal = True, dtype = dtype) ] + \\\n",
    "             [ Wz(N, Uk, xi[i+1], dtype = dtype) for i in range(N-2) ] + \\\n",
    "             [ Wz(N, Uk, xi[N-1], marginal = True, dtype = dtype) ]\n",
    "\n",
    "    return arrays"
   ]
  },
  {
   "cell_type": "code",
   "execution_count": 4,
   "metadata": {},
   "outputs": [],
   "source": [
    "# in Quimb...\n",
    "\n",
    "def make_Ux_tn(N, beta_p, dtype = np.complex128):\n",
    "    \"\"\"Return as MPO the U_x evolution operator at time-parameter beta_p.\"\"\"\n",
    "\n",
    "    tb = np.array( [[np.cos(beta_p), 1j*np.sin(beta_p)],[1j*np.sin(beta_p), np.cos(beta_p)]], dtype=dtype)\n",
    "    \n",
    "    arrays = [ np.expand_dims(tb, axis=0) ] + \\\n",
    "             [ np.expand_dims(tb, axis=(0,1)) for _ in range(N-2) ] + \\\n",
    "             [ np.expand_dims(tb, axis=0) ]\n",
    "\n",
    "    return qtn.tensor_1d.MatrixProductOperator( arrays )\n",
    "\n",
    "def make_Uz_tn(N : int, Uk , xi ): #, bond_dim = None, dtype = np.complex128):\n",
    "    bond_dim = None\n",
    "    dtype = np.complex128\n",
    "    \"\"\"Return as MPO the U_z evolution operator at time s_p (defined indirectly by Uk).\"\"\"\n",
    "\n",
    "    # Uk must be a vector for all k values, while p is fixed \n",
    "    # xi must be a single sample from dataset\n",
    "    \n",
    "    assert len(xi) == N, 'not matching dims'\n",
    "\n",
    "    arrays = [ Wz(N, Uk, xi[0], marginal = True, dtype = dtype) ] + \\\n",
    "             [ Wz(N, Uk, xi[i+1], dtype = dtype) for i in range(N-2) ] + \\\n",
    "             [ Wz(N, Uk, xi[N-1], marginal = True, dtype = dtype) ]\n",
    "\n",
    "    return qtn.tensor_1d.MatrixProductOperator( arrays )"
   ]
  },
  {
   "cell_type": "code",
   "execution_count": 5,
   "metadata": {},
   "outputs": [],
   "source": [
    "N = 4\n",
    "\n",
    "Uk_FT = np.ones((N+1,10), dtype=np.complex128)\n",
    "xi = np.loadtxt('dataxi.txt')[:,0:N]"
   ]
  },
  {
   "cell_type": "code",
   "execution_count": 6,
   "metadata": {},
   "outputs": [],
   "source": [
    "def contract_mps_mpo_margin(state_site, operator_site):\n",
    "    return oe.contract('ax,byx->aby', state_site, operator_site).reshape( (-1, state_site.shape[1]) )\n",
    "\n",
    "#def contract_mps_mpo(state_site, operator_site):\n",
    "#    raise Exception('wrooong! use the other one')\n",
    "#    return oe.contract('abc,ijcl->abijl', state_site, operator_site).reshape( (state_site.shape[0]*operator_site.shape[0], state_site.shape[1]*operator_site.shape[1], state_site.shape[2]) )\n",
    "\n",
    "def contract_mps_mpo(state_site, operator_site):\n",
    "    cc = oe.contract('abc,ijlc->aibjl', state_site, operator_site).reshape( (state_site.shape[0]*operator_site.shape[0], state_site.shape[1]*operator_site.shape[1], operator_site.shape[3]) )\n",
    "    return cc\n",
    "\n",
    "\n",
    "def multiply(mps, mpo):\n",
    "    assert len(mps) == len(mpo), 'must have same number of sites'\n",
    "    assert len(mps) >= 2\n",
    "\n",
    "    out = []\n",
    "\n",
    "    out.append( contract_mps_mpo_margin(mps[0], mpo[0]) )\n",
    "\n",
    "    for i in range(N-2):\n",
    "        out.append(\n",
    "            contract_mps_mpo(mps[i+1], mpo[i+1])\n",
    "        )\n",
    "    \n",
    "    out.append( contract_mps_mpo_margin(mps[-1], mpo[-1]) )\n",
    "\n",
    "    return out\n",
    "\n",
    "\n",
    "#a = oe.contract('ab,ibk->aik', psi[0], ux[0]).reshape( (psi[0].shape[0]*ux[0].shape[0], psi[0].shape[1]) )\n",
    "#b = oe.contract('ab,ibk->aik', psi[1], ux[1]).reshape( (psi[1].shape[0]*ux[1].shape[0], psi[1].shape[1]) )\n",
    "\n",
    "#psia = oe.contract('aik,aij->kj', a, b)"
   ]
  },
  {
   "cell_type": "code",
   "execution_count": 7,
   "metadata": {},
   "outputs": [],
   "source": [
    "#TN_ux = make_Ux_tn(N, 0.1)\n",
    "#\n",
    "#TN_psi = qu.tensor.tensor_builder.MPS_product_state( \n",
    "#    [ np.array([[2**-0.5, 2**-0.5]], dtype=np.complex128) ] * N,\n",
    "#    tags=['psi'],\n",
    "#    #site_ind_id='s{}'\n",
    "#)\n",
    "#\n",
    "#TN_ux.apply(TN_psi)"
   ]
  },
  {
   "cell_type": "code",
   "execution_count": 8,
   "metadata": {},
   "outputs": [],
   "source": [
    "# compute with Quimb ---\n",
    "\n",
    "TN_psi = qu.tensor.tensor_builder.MPS_product_state( \n",
    "    [ np.array([[2**-0.5, 2**-0.5]], dtype=np.complex128) ] * N, tags=['psi'],\n",
    ")\n",
    "TN_uz = make_Uz_tn(N, Uk_FT[:,0], xi[0])\n",
    "\n",
    "quimb_psi_1 = TN_uz.apply(TN_psi)\n",
    "quimb_psi_2 = TN_uz.apply(quimb_psi_1)\n",
    "quimb_psi_3 = TN_uz.apply(quimb_psi_2)"
   ]
  },
  {
   "cell_type": "code",
   "execution_count": 9,
   "metadata": {},
   "outputs": [],
   "source": [
    "# compute with my functions ---\n",
    "\n",
    "psi = [ np.array([[2**-0.5, 2**-0.5]], dtype=np.complex128) ] + [ np.array([[[2**-0.5, 2**-0.5]]], dtype=np.complex128) for i in range(N-2) ] + [ np.array([[2**-0.5, 2**-0.5]], dtype=np.complex128) ]\n",
    "uz = make_Uz(N, Uk_FT[:,0], xi[0])\n",
    "\n",
    "my_psi_1 = multiply(psi, uz)\n",
    "my_psi_2 = multiply(my_psi_1, uz)\n",
    "my_psi_3 = multiply(my_psi_2, uz)"
   ]
  },
  {
   "cell_type": "code",
   "execution_count": 10,
   "metadata": {},
   "outputs": [
    {
     "data": {
      "text/plain": [
       "True"
      ]
     },
     "execution_count": 10,
     "metadata": {},
     "output_type": "execute_result"
    }
   ],
   "source": [
    "# operators ok\n",
    "np.allclose( uz[1] , np.array( TN_uz.tensors[1].data ) )"
   ]
  },
  {
   "cell_type": "code",
   "execution_count": 11,
   "metadata": {},
   "outputs": [
    {
     "data": {
      "text/plain": [
       "True"
      ]
     },
     "execution_count": 11,
     "metadata": {},
     "output_type": "execute_result"
    }
   ],
   "source": [
    "np.allclose( my_psi_1[1] , np.array( quimb_psi_1.tensors[1].data ) )"
   ]
  },
  {
   "cell_type": "code",
   "execution_count": 12,
   "metadata": {},
   "outputs": [
    {
     "data": {
      "text/plain": [
       "True"
      ]
     },
     "execution_count": 12,
     "metadata": {},
     "output_type": "execute_result"
    }
   ],
   "source": [
    "np.allclose( my_psi_2[1] , np.array( quimb_psi_2.tensors[1].data ) )"
   ]
  },
  {
   "cell_type": "code",
   "execution_count": 13,
   "metadata": {},
   "outputs": [
    {
     "data": {
      "text/plain": [
       "6.591336035270332e-17"
      ]
     },
     "execution_count": 13,
     "metadata": {},
     "output_type": "execute_result"
    }
   ],
   "source": [
    "np.sum( np.abs(my_psi_2[1] - np.array( quimb_psi_2.tensors[1].data ) ) )"
   ]
  },
  {
   "cell_type": "code",
   "execution_count": 14,
   "metadata": {},
   "outputs": [
    {
     "data": {
      "text/plain": [
       "True"
      ]
     },
     "execution_count": 14,
     "metadata": {},
     "output_type": "execute_result"
    }
   ],
   "source": [
    "np.allclose( my_psi_3[0] , np.array( quimb_psi_3.tensors[0].data ) )"
   ]
  },
  {
   "cell_type": "code",
   "execution_count": 15,
   "metadata": {},
   "outputs": [
    {
     "data": {
      "text/plain": [
       "1.080083700143892e-15"
      ]
     },
     "execution_count": 15,
     "metadata": {},
     "output_type": "execute_result"
    }
   ],
   "source": [
    "np.sum( np.abs(my_psi_3[0] - np.array( quimb_psi_3.tensors[0].data ) ) )"
   ]
  },
  {
   "attachments": {},
   "cell_type": "markdown",
   "metadata": {},
   "source": [
    "## advanced test with random values"
   ]
  },
  {
   "cell_type": "code",
   "execution_count": 16,
   "metadata": {},
   "outputs": [],
   "source": [
    "def make_rand_mpo(N : int, bond_dim = 1 ): #, bond_dim = None, dtype = np.complex128):\n",
    "    dtype = np.complex128\n",
    "    \"\"\"Return a random MPO.\"\"\"\n",
    "\n",
    "    shape_margin = (bond_dim,2,2)\n",
    "    shape_middle = (bond_dim,bond_dim,2,2)\n",
    "\n",
    "    arrays = [ np.random.uniform(low=-1.0, size=shape_margin) + 1.j * np.random.uniform(low=-1.0, size=shape_margin) ] + \\\n",
    "             [ np.random.uniform(low=-1.0, size=shape_middle) + 1.j * np.random.uniform(low=-1.0, size=shape_middle) for _ in range(N-2)] + \\\n",
    "             [ np.random.uniform(low=-1.0, size=shape_margin) + 1.j * np.random.uniform(low=-1.0, size=shape_margin) ]\n",
    "\n",
    "    #arrays = [ np.random.uniform(low=-1.0, size=shape_margin) ] + \\\n",
    "    #         [ np.random.uniform(low=-1.0, size=shape_middle) for _ in range(N-2)] + \\\n",
    "    #         [ np.random.uniform(low=-1.0, size=shape_margin) ]\n",
    "\n",
    "    return arrays"
   ]
  },
  {
   "cell_type": "code",
   "execution_count": 17,
   "metadata": {},
   "outputs": [],
   "source": [
    "# compute with my functions\n",
    "dty = np.float64\n",
    "\n",
    "psi = [ np.array([[2**-0.5, 2**-0.5]], dtype=dty) ] + [ np.array([[[2**-0.5, 2**-0.5]]], dtype=dty) for i in range(N-2) ] + [ np.array([[2**-0.5, 2**-0.5]], dtype=dty) ]\n",
    "uz = make_rand_mpo(N, bond_dim=5)\n",
    "\n",
    "my_psi_1 = multiply(psi, uz)\n",
    "my_psi_2 = multiply(my_psi_1, uz)\n",
    "my_psi_3 = multiply(my_psi_2, uz)"
   ]
  },
  {
   "cell_type": "code",
   "execution_count": 18,
   "metadata": {},
   "outputs": [],
   "source": [
    "# compute with Quimb\n",
    "\n",
    "TN_psi = qu.tensor.tensor_builder.MPS_product_state( \n",
    "    [ np.array([[2**-0.5, 2**-0.5]], dtype=dty) ] * N, tags=['psi'],\n",
    ")\n",
    "TN_uz = qtn.tensor_1d.MatrixProductOperator( uz )\n",
    "\n",
    "quimb_psi_1 = TN_uz.apply(TN_psi)\n",
    "quimb_psi_2 = TN_uz.apply(quimb_psi_1)\n",
    "quimb_psi_3 = TN_uz.apply(quimb_psi_2)"
   ]
  },
  {
   "cell_type": "code",
   "execution_count": 19,
   "metadata": {},
   "outputs": [
    {
     "data": {
      "text/plain": [
       "4"
      ]
     },
     "execution_count": 19,
     "metadata": {},
     "output_type": "execute_result"
    }
   ],
   "source": [
    "TN_uz.L"
   ]
  },
  {
   "cell_type": "code",
   "execution_count": 20,
   "metadata": {},
   "outputs": [],
   "source": [
    "# operators ok\n",
    "assert np.allclose( uz[1] , np.array( TN_uz.tensors[1].data ) ), 'operators are not equal'"
   ]
  },
  {
   "cell_type": "code",
   "execution_count": 21,
   "metadata": {},
   "outputs": [
    {
     "data": {
      "text/plain": [
       "True"
      ]
     },
     "execution_count": 21,
     "metadata": {},
     "output_type": "execute_result"
    }
   ],
   "source": [
    "np.allclose( my_psi_1[1] , np.array(quimb_psi_1.tensors[1].data )  )"
   ]
  },
  {
   "cell_type": "code",
   "execution_count": 22,
   "metadata": {},
   "outputs": [
    {
     "data": {
      "text/plain": [
       "True"
      ]
     },
     "execution_count": 22,
     "metadata": {},
     "output_type": "execute_result"
    }
   ],
   "source": [
    "np.allclose( my_psi_2[1] , np.array( quimb_psi_2.tensors[1].data ) )"
   ]
  },
  {
   "cell_type": "code",
   "execution_count": 23,
   "metadata": {},
   "outputs": [
    {
     "data": {
      "text/plain": [
       "True"
      ]
     },
     "execution_count": 23,
     "metadata": {},
     "output_type": "execute_result"
    }
   ],
   "source": [
    "np.allclose( my_psi_3[1] , np.array( quimb_psi_3.tensors[1].data ) )"
   ]
  },
  {
   "cell_type": "code",
   "execution_count": 24,
   "metadata": {},
   "outputs": [
    {
     "data": {
      "text/plain": [
       "(125, 2)"
      ]
     },
     "execution_count": 24,
     "metadata": {},
     "output_type": "execute_result"
    }
   ],
   "source": [
    "my_psi_3[0].shape"
   ]
  },
  {
   "cell_type": "code",
   "execution_count": 25,
   "metadata": {},
   "outputs": [],
   "source": [
    "# https://tensornetwork.readthedocs.io/en/latest/stubs/tensornetwork.FiniteMPS.html#tensornetwork.FiniteMPS"
   ]
  },
  {
   "attachments": {},
   "cell_type": "markdown",
   "metadata": {},
   "source": [
    "# canonicalization"
   ]
  },
  {
   "cell_type": "code",
   "execution_count": 26,
   "metadata": {},
   "outputs": [],
   "source": [
    "#  # pylint: disable=arguments-differ\n",
    "#def canonicalize(mps, normalize: bool = True) -> np.number:\n",
    "#    \"\"\"Bring the MPS into canonical form according to\n",
    "#    `center_position`. If `center_position` is `None`, the\n",
    "#    MPS is canonicalized with `center_position = 0`.\n",
    "#    Args:\n",
    "#      normalize: If `True`, normalize matrices when shifting the\n",
    "#        orthogonality center.\n",
    "#    Returns:\n",
    "#      `Tensor`: The norm of the MPS.\n",
    "#    \"\"\"\n",
    "#    N = len(mps)\n",
    "#    if self.center_position is not None:\n",
    "#      pos = self.center_position\n",
    "#      if pos >= N // 2:\n",
    "#        self.center_position = 0\n",
    "#        self.position(N - 1, normalize=normalize)\n",
    "#      else:\n",
    "#        self.center_position = len(mps) - 1\n",
    "#        self.position(0, normalize=normalize)\n",
    "#      return self.position(pos, normalize=normalize)\n",
    "#\n",
    "#    self.center_position = len(mps) - 1\n",
    "#    return self.position(0, normalize=normalize)"
   ]
  },
  {
   "cell_type": "code",
   "execution_count": 27,
   "metadata": {},
   "outputs": [],
   "source": [
    "#psi = [ np.array([[2**-0.5, 2**-0.5]], dtype=dty) ] + [ np.array([[[2**-0.5, 2**-0.5]]], dtype=dty) for i in range(N-2) ] + [ np.array([[2**-0.5, 2**-0.5]], dtype=dty) ]\n",
    "#canonicalize(psi, 2)"
   ]
  },
  {
   "cell_type": "code",
   "execution_count": 28,
   "metadata": {},
   "outputs": [
    {
     "name": "stdout",
     "output_type": "stream",
     "text": [
      "0\n"
     ]
    }
   ],
   "source": [
    "import tensornetwork as tn\n",
    "\n",
    "rank = 5\n",
    "phys_dim = 2\n",
    "bond_dim = 3\n",
    "\n",
    "# build the mps:\n",
    "# the state is canonically normalized when we define the class FiniteMPS\n",
    "mpstate = tn.FiniteMPS.random(\n",
    "  d = [phys_dim for _ in range(rank)],\n",
    "  D = [bond_dim for _ in range(rank-1)],\n",
    "  dtype = np.float32,\n",
    "  canonicalize=True\n",
    ")\n",
    "print( mpstate.center_position )\n",
    "#mpstate.tensors[-3:]"
   ]
  },
  {
   "cell_type": "code",
   "execution_count": 29,
   "metadata": {},
   "outputs": [
    {
     "data": {
      "text/plain": [
       "(2, 2, 1)"
      ]
     },
     "execution_count": 29,
     "metadata": {},
     "output_type": "execute_result"
    }
   ],
   "source": [
    "mpstate.tensors[-1].shape"
   ]
  },
  {
   "cell_type": "code",
   "execution_count": 30,
   "metadata": {},
   "outputs": [
    {
     "data": {
      "text/plain": [
       "[array([[[-0.4323081 ,  0.88470507],\n",
       "         [-0.8174609 , -0.35909432],\n",
       "         [-0.19019341, -0.03837419]],\n",
       " \n",
       "        [[ 0.08641699,  0.07071481],\n",
       "         [ 0.11192763, -0.02078479],\n",
       "         [-0.5552282 ,  0.4591189 ]],\n",
       " \n",
       "        [[-0.1339117 ,  0.00241945],\n",
       "         [ 0.32257357, -0.2929086 ],\n",
       "         [ 0.255728  ,  0.6147264 ]]], dtype=float32),\n",
       " array([[[-0.54842025, -0.29229578],\n",
       "         [-0.561151  , -0.559218  ]],\n",
       " \n",
       "        [[-0.646773  ,  0.44187936],\n",
       "         [ 0.5546917 , -0.2540994 ]],\n",
       " \n",
       "        [[-0.00957291, -0.01157812],\n",
       "         [ 0.003635  ,  0.01105511]]], dtype=float32),\n",
       " array([[-0.50390667, -0.3868852 ],\n",
       "        [-0.69231844,  0.34218866]], dtype=float32)]"
      ]
     },
     "execution_count": 30,
     "metadata": {},
     "output_type": "execute_result"
    }
   ],
   "source": [
    "def from_lib_to_me(mpsg):\n",
    "    N = len(mpstate.tensors)\n",
    "\n",
    "    array = [ mpstate.tensors[0][0,:,:].copy() ] + \\\n",
    "            [ np.swapaxes(mpstate.tensors[i+1], 1,2).copy() for i in range(N-2)] + \\\n",
    "            [ mpstate.tensors[-1][:,:,0].copy() ]\n",
    "    return array\n",
    "\n",
    "mpstate.center_position = rank - 1 \n",
    "mpstate.canonicalize(normalize = True)\n",
    "from_lib_to_me(mpstate.tensors)[-3:]"
   ]
  },
  {
   "cell_type": "code",
   "execution_count": 31,
   "metadata": {},
   "outputs": [
    {
     "data": {
      "text/plain": [
       "[array([[[-3.5158476e-01,  8.0489606e-01],\n",
       "         [ 4.3767715e-01,  1.9226307e-01],\n",
       "         [-1.9951833e-03, -4.0255624e-04]],\n",
       " \n",
       "        [[ 6.3861328e-01,  5.4511029e-01],\n",
       "         [-5.3090543e-01,  9.3883052e-02],\n",
       "         [-5.0829776e-02,  4.2066615e-02]],\n",
       " \n",
       "        [[ 5.5152082e-01,  4.5062743e-02],\n",
       "         [ 6.0930860e-01, -5.6736958e-01],\n",
       "         [-1.5742149e-02, -1.9522827e-02]]], dtype=float32),\n",
       " array([[[-0.62977403, -0.43910578],\n",
       "         [-0.45386535, -0.4523019 ]],\n",
       " \n",
       "        [[ 0.48120353, -0.3433202 ],\n",
       "         [-0.71242887,  0.3781792 ]],\n",
       " \n",
       "        [[-0.48013577, -0.3555188 ],\n",
       "         [ 0.25126928,  0.7615378 ]]], dtype=float32),\n",
       " array([[-0.793183  , -0.60898334],\n",
       "        [-0.60898334,  0.793183  ]], dtype=float32)]"
      ]
     },
     "execution_count": 31,
     "metadata": {},
     "output_type": "execute_result"
    }
   ],
   "source": [
    "mpstate.center_position = 1\n",
    "mpstate.canonicalize(normalize = True)\n",
    "from_lib_to_me(mpstate.tensors)[-3:]"
   ]
  },
  {
   "cell_type": "code",
   "execution_count": 32,
   "metadata": {},
   "outputs": [
    {
     "data": {
      "text/plain": [
       "[array([[[-3.5158476e-01,  8.0489606e-01],\n",
       "         [ 4.3767715e-01,  1.9226307e-01],\n",
       "         [-1.9951833e-03, -4.0255624e-04]],\n",
       " \n",
       "        [[ 6.3861328e-01,  5.4511029e-01],\n",
       "         [-5.3090543e-01,  9.3883052e-02],\n",
       "         [-5.0829776e-02,  4.2066615e-02]],\n",
       " \n",
       "        [[ 5.5152082e-01,  4.5062743e-02],\n",
       "         [ 6.0930860e-01, -5.6736958e-01],\n",
       "         [-1.5742149e-02, -1.9522827e-02]]], dtype=float32),\n",
       " array([[[-0.62977403, -0.43910578],\n",
       "         [-0.45386535, -0.4523019 ]],\n",
       " \n",
       "        [[ 0.48120353, -0.3433202 ],\n",
       "         [-0.71242887,  0.3781792 ]],\n",
       " \n",
       "        [[-0.48013577, -0.3555188 ],\n",
       "         [ 0.25126928,  0.7615378 ]]], dtype=float32),\n",
       " array([[-0.793183  , -0.60898334],\n",
       "        [-0.60898334,  0.793183  ]], dtype=float32)]"
      ]
     },
     "execution_count": 32,
     "metadata": {},
     "output_type": "execute_result"
    }
   ],
   "source": [
    "# take the state (non canonized) from Google TN library in my format\n",
    "mpme = from_lib_to_me(mpstate)\n",
    "mpme[-3:]"
   ]
  },
  {
   "cell_type": "code",
   "execution_count": 33,
   "metadata": {},
   "outputs": [
    {
     "name": "stdout",
     "output_type": "stream",
     "text": [
      "(2, 2)\n",
      "(2, 3, 2)\n",
      "(3, 3, 2)\n",
      "(3, 2, 2)\n",
      "(2, 2)\n"
     ]
    }
   ],
   "source": [
    "for e in mpme:\n",
    "    print(e.shape)"
   ]
  },
  {
   "cell_type": "code",
   "execution_count": 34,
   "metadata": {},
   "outputs": [
    {
     "data": {
      "text/plain": [
       "[array([[-0.86879534, -0.4951713 ],\n",
       "        [-0.4951713 ,  0.86879534]], dtype=float32),\n",
       " array([[[-0.930658  , -0.3517344 ],\n",
       "         [-0.08769027, -0.01767108],\n",
       "         [-0.24792081,  0.74421257]],\n",
       " \n",
       "        [[-0.00218697,  0.10076643],\n",
       "         [-0.4633883 , -0.8816289 ],\n",
       "         [-0.5449467 ,  0.29616895]]], dtype=float32),\n",
       " array([[[-0.39513645,  0.9008857 ],\n",
       "         [-0.83247435, -0.3209054 ],\n",
       "         [ 0.18794647,  0.02949039]],\n",
       " \n",
       "        [[-0.04344174, -0.06876154],\n",
       "         [-0.19518676,  0.08807521],\n",
       "         [-0.4730875 ,  0.5979005 ]],\n",
       " \n",
       "        [[-0.15964547, -0.01304405],\n",
       "         [ 0.28721663, -0.2750595 ],\n",
       "         [-0.3882215 , -0.48144957]]], dtype=float32),\n",
       " array([[[-6.4941806e-01, -5.0719672e-01],\n",
       "         [-1.5145548e-01, -1.8565795e-01]],\n",
       " \n",
       "        [[-7.3600151e-02,  8.0140188e-02],\n",
       "         [ 4.3512991e-01, -2.4964239e-01]],\n",
       " \n",
       "        [[ 3.3546700e-03,  8.6979751e-05],\n",
       "         [-4.3031634e-03, -8.4615815e-03]]], dtype=float32),\n",
       " array([[-0.97405595, -0.22630747],\n",
       "        [-0.22630747,  0.97405595]], dtype=float32)]"
      ]
     },
     "execution_count": 34,
     "metadata": {},
     "output_type": "execute_result"
    }
   ],
   "source": [
    "mpstate.center_position = 3\n",
    "mpstate.canonicalize(normalize = True)\n",
    "from_lib_to_me(mpstate.tensors) # this is the 'solution'"
   ]
  },
  {
   "cell_type": "code",
   "execution_count": 35,
   "metadata": {},
   "outputs": [
    {
     "name": "stdout",
     "output_type": "stream",
     "text": [
      "*sol 1.4142135\n",
      "*sol 1.7320508\n",
      "*sol 1.7320508\n",
      "*sol 1.0\n",
      "*sol 1.4142137\n"
     ]
    }
   ],
   "source": [
    "for ss in mpstate.tensors:\n",
    "    print('*sol', np.linalg.norm(ss) )"
   ]
  },
  {
   "cell_type": "code",
   "execution_count": 36,
   "metadata": {},
   "outputs": [
    {
     "data": {
      "text/plain": [
       "(3, 2, 2)"
      ]
     },
     "execution_count": 36,
     "metadata": {},
     "output_type": "execute_result"
    }
   ],
   "source": [
    "mpstate.tensors[-2].shape"
   ]
  },
  {
   "cell_type": "code",
   "execution_count": 37,
   "metadata": {},
   "outputs": [],
   "source": [
    "res = canonicalize(mpme, mpstate.center_position, True)"
   ]
  },
  {
   "cell_type": "code",
   "execution_count": 38,
   "metadata": {},
   "outputs": [
    {
     "data": {
      "text/plain": [
       "[array([[-0.86879534, -0.4951713 ],\n",
       "        [-0.4951713 ,  0.86879534]], dtype=float32),\n",
       " array([[[-0.930658  , -0.3517344 ],\n",
       "         [-0.08769027, -0.01767108],\n",
       "         [-0.24792081,  0.74421257]],\n",
       " \n",
       "        [[-0.00218697,  0.10076643],\n",
       "         [-0.4633883 , -0.8816289 ],\n",
       "         [-0.5449467 ,  0.29616895]]], dtype=float32),\n",
       " array([[[-0.39513645,  0.9008857 ],\n",
       "         [-0.83247435, -0.3209054 ],\n",
       "         [ 0.18794647,  0.02949039]],\n",
       " \n",
       "        [[-0.04344174, -0.06876154],\n",
       "         [-0.19518676,  0.08807521],\n",
       "         [-0.4730875 ,  0.5979005 ]],\n",
       " \n",
       "        [[-0.15964547, -0.01304405],\n",
       "         [ 0.28721663, -0.2750595 ],\n",
       "         [-0.3882215 , -0.48144957]]], dtype=float32),\n",
       " array([[[-0.5285904 , -0.38496   ],\n",
       "         [-0.40654004, -0.3788445 ]],\n",
       " \n",
       "        [[-0.24701199,  0.1762336 ],\n",
       "         [ 0.36570492, -0.1941275 ]],\n",
       " \n",
       "        [[ 0.0048343 ,  0.00357958],\n",
       "         [-0.00252993, -0.00766763]]], dtype=float32),\n",
       " array([[-0.793183  , -0.60898334],\n",
       "        [-0.60898334,  0.793183  ]], dtype=float32)]"
      ]
     },
     "execution_count": 38,
     "metadata": {},
     "output_type": "execute_result"
    }
   ],
   "source": [
    "res"
   ]
  }
 ],
 "metadata": {
  "kernelspec": {
   "display_name": "Python 3",
   "language": "python",
   "name": "python3"
  },
  "language_info": {
   "codemirror_mode": {
    "name": "ipython",
    "version": 3
   },
   "file_extension": ".py",
   "mimetype": "text/x-python",
   "name": "python",
   "nbconvert_exporter": "python",
   "pygments_lexer": "ipython3",
   "version": "3.10.6"
  },
  "orig_nbformat": 4,
  "vscode": {
   "interpreter": {
    "hash": "e7370f93d1d0cde622a1f8e1c04877d8463912d04d973331ad4851f04de6915a"
   }
  }
 },
 "nbformat": 4,
 "nbformat_minor": 2
}
